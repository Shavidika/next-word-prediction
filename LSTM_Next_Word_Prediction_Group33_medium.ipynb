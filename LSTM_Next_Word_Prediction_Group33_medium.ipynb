{
  "metadata": {
    "kernelspec": {
      "display_name": "Python 3",
      "name": "python3"
    },
    "language_info": {
      "name": "python",
      "version": "3.7.10",
      "mimetype": "text/x-python",
      "codemirror_mode": {
        "name": "ipython",
        "version": 3
      },
      "pygments_lexer": "ipython3",
      "nbconvert_exporter": "python",
      "file_extension": ".py"
    },
    "kaggle": {
      "accelerator": "gpu",
      "dataSources": [
        {
          "sourceId": 1294572,
          "sourceType": "datasetVersion",
          "datasetId": 748442
        }
      ],
      "dockerImageVersionId": 30120,
      "isInternetEnabled": false,
      "language": "python",
      "sourceType": "notebook",
      "isGpuEnabled": true
    },
    "colab": {
      "provenance": [],
      "gpuType": "T4",
      "include_colab_link": true
    },
    "accelerator": "GPU"
  },
  "nbformat_minor": 0,
  "nbformat": 4,
  "cells": [
    {
      "cell_type": "markdown",
      "metadata": {
        "id": "view-in-github",
        "colab_type": "text"
      },
      "source": [
        "<a href=\"https://colab.research.google.com/github/Shavidika/next-word-prediction/blob/Bawantha/LSTM_Next_Word_Prediction_Group33_medium.ipynb\" target=\"_parent\"><img src=\"https://colab.research.google.com/assets/colab-badge.svg\" alt=\"Open In Colab\"/></a>"
      ]
    },
    {
      "source": [
        "\n",
        "# IMPORTANT: RUN THIS CELL IN ORDER TO IMPORT YOUR KAGGLE DATA SOURCES\n",
        "# TO THE CORRECT LOCATION (/kaggle/input) IN YOUR NOTEBOOK,\n",
        "# THEN FEEL FREE TO DELETE THIS CELL.\n",
        "# NOTE: THIS NOTEBOOK ENVIRONMENT DIFFERS FROM KAGGLE'S PYTHON\n",
        "# ENVIRONMENT SO THERE MAY BE MISSING LIBRARIES USED BY YOUR\n",
        "# NOTEBOOK.\n",
        "\n",
        "import os\n",
        "import sys\n",
        "from tempfile import NamedTemporaryFile\n",
        "from urllib.request import urlopen\n",
        "from urllib.parse import unquote, urlparse\n",
        "from urllib.error import HTTPError\n",
        "from zipfile import ZipFile\n",
        "import tarfile\n",
        "import shutil\n",
        "\n",
        "CHUNK_SIZE = 40960\n",
        "DATA_SOURCE_MAPPING = 'medium-articles-dataset:https%3A%2F%2Fstorage.googleapis.com%2Fkaggle-data-sets%2F748442%2F1294572%2Fbundle%2Farchive.zip%3FX-Goog-Algorithm%3DGOOG4-RSA-SHA256%26X-Goog-Credential%3Dgcp-kaggle-com%2540kaggle-161607.iam.gserviceaccount.com%252F20240621%252Fauto%252Fstorage%252Fgoog4_request%26X-Goog-Date%3D20240621T152537Z%26X-Goog-Expires%3D259200%26X-Goog-SignedHeaders%3Dhost%26X-Goog-Signature%3D7cb4cce7cd21f16593774711c57111d79556b81f4314e7551f09bdde2fb0e8fe36798a23182a8fbcc0d3dfd6233ec4a217f3368c8c4d21caccdeb75ec9444f490a1299e208723184d97aa012bb9e0aabb02d90f7aee1b136a6633d7eebd956c4562a56a26f3fe01e014326a4a7e7761db5ee36e471eb9c1c9b9858a1bcfabb1a07f88db2e061d3c9b059186374548121009b6eb270dc341eef668c991f1dc5a6445b44f631100a77631c502bfd2ae0c881cb9d28980cd8e4d0abec2602fc7496bee755a1c3701c28993fddcfc98cad734d3f07fce986addc97616eb39d077a69d5271bfdced8bd7caa3e5d24341f48e1bcd196fdc3e4d65ba5807ec52521c7cd'\n",
        "\n",
        "KAGGLE_INPUT_PATH='/kaggle/input'\n",
        "KAGGLE_WORKING_PATH='/kaggle/working'\n",
        "KAGGLE_SYMLINK='kaggle'\n",
        "\n",
        "!umount /kaggle/input/ 2> /dev/null\n",
        "shutil.rmtree('/kaggle/input', ignore_errors=True)\n",
        "os.makedirs(KAGGLE_INPUT_PATH, 0o777, exist_ok=True)\n",
        "os.makedirs(KAGGLE_WORKING_PATH, 0o777, exist_ok=True)\n",
        "\n",
        "try:\n",
        "  os.symlink(KAGGLE_INPUT_PATH, os.path.join(\"..\", 'input'), target_is_directory=True)\n",
        "except FileExistsError:\n",
        "  pass\n",
        "try:\n",
        "  os.symlink(KAGGLE_WORKING_PATH, os.path.join(\"..\", 'working'), target_is_directory=True)\n",
        "except FileExistsError:\n",
        "  pass\n",
        "\n",
        "for data_source_mapping in DATA_SOURCE_MAPPING.split(','):\n",
        "    directory, download_url_encoded = data_source_mapping.split(':')\n",
        "    download_url = unquote(download_url_encoded)\n",
        "    filename = urlparse(download_url).path\n",
        "    destination_path = os.path.join(KAGGLE_INPUT_PATH, directory)\n",
        "    try:\n",
        "        with urlopen(download_url) as fileres, NamedTemporaryFile() as tfile:\n",
        "            total_length = fileres.headers['content-length']\n",
        "            print(f'Downloading {directory}, {total_length} bytes compressed')\n",
        "            dl = 0\n",
        "            data = fileres.read(CHUNK_SIZE)\n",
        "            while len(data) > 0:\n",
        "                dl += len(data)\n",
        "                tfile.write(data)\n",
        "                done = int(50 * dl / int(total_length))\n",
        "                sys.stdout.write(f\"\\r[{'=' * done}{' ' * (50-done)}] {dl} bytes downloaded\")\n",
        "                sys.stdout.flush()\n",
        "                data = fileres.read(CHUNK_SIZE)\n",
        "            if filename.endswith('.zip'):\n",
        "              with ZipFile(tfile) as zfile:\n",
        "                zfile.extractall(destination_path)\n",
        "            else:\n",
        "              with tarfile.open(tfile.name) as tarfile:\n",
        "                tarfile.extractall(destination_path)\n",
        "            print(f'\\nDownloaded and uncompressed: {directory}')\n",
        "    except HTTPError as e:\n",
        "        print(f'Failed to load (likely expired) {download_url} to path {destination_path}')\n",
        "        continue\n",
        "    except OSError as e:\n",
        "        print(f'Failed to load {download_url} to path {destination_path}')\n",
        "        continue\n",
        "\n",
        "print('Data source import complete.')\n"
      ],
      "metadata": {
        "id": "Nd_jHpi4Z05e",
        "colab": {
          "base_uri": "https://localhost:8080/"
        },
        "outputId": "f6219709-67da-4b33-a6b2-d46e02a0e3b2"
      },
      "cell_type": "code",
      "outputs": [
        {
          "output_type": "stream",
          "name": "stdout",
          "text": [
            "Downloading medium-articles-dataset, 1425224888 bytes compressed\n",
            "[==================================================] 1425224888 bytes downloaded\n",
            "Downloaded and uncompressed: medium-articles-dataset\n",
            "Data source import complete.\n"
          ]
        }
      ],
      "execution_count": null
    },
    {
      "cell_type": "markdown",
      "source": [
        "### Table Content\n",
        "------------------\n",
        "\n",
        "- [Introduction](#intro)\n",
        "- [Import libraries and packages](#ilp)\n",
        "- [Dataset Information](#di)\n",
        "- [Separate 'Title' field and preprocess it](#preprocess)\n",
        "    - [Removing unwanted charaters and words](#remv)\n",
        "    - [Tokenization and word_index (vocabulary) ](#token)\n",
        "    - [Convert titles into sequences and Make n_gram model](#ngram)\n",
        "    - [Make all titles with same length and padding them](#pad)\n",
        "- [Preprare features (X) and labels (Y)](#xy)\n",
        "- [Architechture of Bidirectional LSTM neural network](#blstm)\n",
        "- [Train Bi-LSTM neural network](#train)\n",
        "- [Plotting accuracy and loss graph](#acc)\n",
        "- [Predict new title (Testing)](#new)\n",
        "\n",
        "----------------\n",
        "\n",
        "\n"
      ],
      "metadata": {
        "id": "ON7ymq_IZ05g"
      }
    },
    {
      "cell_type": "markdown",
      "source": [
        "<a name=\"intro\"></a>\n",
        "\n",
        "# Introduction\n",
        "\n",
        "**Next Word Prediction (also called Language Modeling) is the task of predicting what word comes next. It is one of the fundamental tasks of NLP.**\n",
        "\n",
        "Image reference: https://medium.com/@antonio.lopardo/the-basics-of-language-modeling-1c8832f21079\n",
        "\n",
        "![gg.png](attachment:426089b0-5844-4928-a797-40e0015c1a93.png)\n",
        "\n",
        "#### Application Language Modelling\n",
        "\n",
        "**1) Mobile keyboard text recommandation**\n",
        "\n",
        "![fff.jpg](attachment:0cd813a1-ea03-40b9-86d7-0585d994a36e.jpg)\n",
        "\n",
        "**2) Whenever we search for something on any search engine, we get many suggestions and,  as we type new words in it, we get better recommendations according to our searching context. So, how will it happen??? **\n",
        "\n",
        "![Screenshot (21).png](attachment:72ee772e-4ef9-4e79-a364-5dcf8f558e4a.png)\n",
        "\n",
        "\n",
        "It is poosible through natural language processing (NLP) technique. Here, we will use NLP and try to make a prediction model using Bidirectional LSTM (Long short-term memory) model that will predict next words of sentence.\n"
      ],
      "metadata": {
        "id": "7Bv48UxsZ05i"
      }
    },
    {
      "cell_type": "markdown",
      "source": [
        "<a name=\"ilp\"></a>\n",
        "# Import necessary libraries and packages"
      ],
      "metadata": {
        "id": "biQ1Nl42Z05i"
      }
    },
    {
      "cell_type": "code",
      "source": [
        "import pandas as pd\n",
        "import os\n",
        "import numpy as np\n",
        "\n",
        "import tensorflow as tf\n",
        "from tensorflow.keras.preprocessing.sequence import pad_sequences\n",
        "from tensorflow.keras.layers import Embedding, LSTM, Dense, Bidirectional\n",
        "from tensorflow.keras.preprocessing.text import Tokenizer\n",
        "from tensorflow.keras.models import Sequential\n",
        "from tensorflow.keras.optimizers import Adam"
      ],
      "metadata": {
        "_uuid": "8f2839f25d086af736a60e9eeb907d3b93b6e0e5",
        "_cell_guid": "b1076dfc-b9ad-4769-8c92-a6c4dae69d19",
        "execution": {
          "iopub.status.busy": "2024-06-21T09:11:27.332682Z",
          "iopub.execute_input": "2024-06-21T09:11:27.333146Z",
          "iopub.status.idle": "2024-06-21T09:11:34.925433Z",
          "shell.execute_reply.started": "2024-06-21T09:11:27.33302Z",
          "shell.execute_reply": "2024-06-21T09:11:34.924276Z"
        },
        "trusted": true,
        "id": "vAOg99L-Z05j"
      },
      "execution_count": null,
      "outputs": []
    },
    {
      "cell_type": "markdown",
      "source": [
        "<a name=\"di\"></a>\n",
        "# Dataset information\n",
        "\n",
        "**Import Medium-articles-dataset:**\n",
        "\n",
        "This dataset contains information about randomly chosen medium articles published in 2019 from these 7 publications:\n",
        "\n",
        "- Towards Data Science\n",
        "- UX Collective\n",
        "- The Startup\n",
        "- The Writing Cooperative\n",
        "- Data Driven Investor\n",
        "- Better Humans\n",
        "- Better Marketing\n"
      ],
      "metadata": {
        "id": "kPQTppq9Z05j"
      }
    },
    {
      "cell_type": "code",
      "source": [
        "# URL of the raw CSV file from GitHub\n",
        "url = 'https://raw.githubusercontent.com/Shavidika/next-word-prediction/Bawantha/backend/medium_data.csv'\n",
        "\n",
        "# Load the CSV file from the URL\n",
        "medium_data = pd.read_csv(url)\n",
        "\n",
        "# Display the first few rows of the DataFrame\n",
        "print(medium_data.head())"
      ],
      "metadata": {
        "execution": {
          "iopub.status.busy": "2024-06-21T09:31:07.046299Z",
          "iopub.execute_input": "2024-06-21T09:31:07.046954Z",
          "iopub.status.idle": "2024-06-21T09:31:07.153616Z",
          "shell.execute_reply.started": "2024-06-21T09:31:07.046857Z",
          "shell.execute_reply": "2024-06-21T09:31:07.152515Z"
        },
        "trusted": true,
        "id": "jjtTqwSFZ05j",
        "outputId": "f49b6952-f4cd-481b-821d-5c362de5e44f",
        "colab": {
          "base_uri": "https://localhost:8080/",
          "height": 469
        }
      },
      "execution_count": null,
      "outputs": [
        {
          "output_type": "execute_result",
          "data": {
            "text/plain": [
              "   id                                                url  \\\n",
              "0   1  https://towardsdatascience.com/a-beginners-gui...   \n",
              "1   2  https://towardsdatascience.com/hands-on-graph-...   \n",
              "2   3  https://towardsdatascience.com/how-to-use-ggpl...   \n",
              "3   4  https://towardsdatascience.com/databricks-how-...   \n",
              "4   5  https://towardsdatascience.com/a-step-by-step-...   \n",
              "\n",
              "                                               title  \\\n",
              "0  A Beginner’s Guide to Word Embedding with Gens...   \n",
              "1  Hands-on Graph Neural Networks with PyTorch & ...   \n",
              "2                       How to Use ggplot2 in Python   \n",
              "3  Databricks: How to Save Files in CSV on Your L...   \n",
              "4  A Step-by-Step Implementation of Gradient Desc...   \n",
              "\n",
              "                                  subtitle   image  claps responses  \\\n",
              "0                                      NaN   1.png    850         8   \n",
              "1                                      NaN   2.png   1100        11   \n",
              "2         A Grammar of Graphics for Python   3.png    767         1   \n",
              "3  When I work on Python projects dealing…  4.jpeg    354         0   \n",
              "4          One example of building neural…  5.jpeg    211         3   \n",
              "\n",
              "   reading_time           publication        date  \n",
              "0             8  Towards Data Science  2019-05-30  \n",
              "1             9  Towards Data Science  2019-05-30  \n",
              "2             5  Towards Data Science  2019-05-30  \n",
              "3             4  Towards Data Science  2019-05-30  \n",
              "4             4  Towards Data Science  2019-05-30  "
            ],
            "text/html": [
              "\n",
              "  <div id=\"df-6ffcfe83-d973-47f6-8194-5e0fb089cb1d\" class=\"colab-df-container\">\n",
              "    <div>\n",
              "<style scoped>\n",
              "    .dataframe tbody tr th:only-of-type {\n",
              "        vertical-align: middle;\n",
              "    }\n",
              "\n",
              "    .dataframe tbody tr th {\n",
              "        vertical-align: top;\n",
              "    }\n",
              "\n",
              "    .dataframe thead th {\n",
              "        text-align: right;\n",
              "    }\n",
              "</style>\n",
              "<table border=\"1\" class=\"dataframe\">\n",
              "  <thead>\n",
              "    <tr style=\"text-align: right;\">\n",
              "      <th></th>\n",
              "      <th>id</th>\n",
              "      <th>url</th>\n",
              "      <th>title</th>\n",
              "      <th>subtitle</th>\n",
              "      <th>image</th>\n",
              "      <th>claps</th>\n",
              "      <th>responses</th>\n",
              "      <th>reading_time</th>\n",
              "      <th>publication</th>\n",
              "      <th>date</th>\n",
              "    </tr>\n",
              "  </thead>\n",
              "  <tbody>\n",
              "    <tr>\n",
              "      <th>0</th>\n",
              "      <td>1</td>\n",
              "      <td>https://towardsdatascience.com/a-beginners-gui...</td>\n",
              "      <td>A Beginner’s Guide to Word Embedding with Gens...</td>\n",
              "      <td>NaN</td>\n",
              "      <td>1.png</td>\n",
              "      <td>850</td>\n",
              "      <td>8</td>\n",
              "      <td>8</td>\n",
              "      <td>Towards Data Science</td>\n",
              "      <td>2019-05-30</td>\n",
              "    </tr>\n",
              "    <tr>\n",
              "      <th>1</th>\n",
              "      <td>2</td>\n",
              "      <td>https://towardsdatascience.com/hands-on-graph-...</td>\n",
              "      <td>Hands-on Graph Neural Networks with PyTorch &amp; ...</td>\n",
              "      <td>NaN</td>\n",
              "      <td>2.png</td>\n",
              "      <td>1100</td>\n",
              "      <td>11</td>\n",
              "      <td>9</td>\n",
              "      <td>Towards Data Science</td>\n",
              "      <td>2019-05-30</td>\n",
              "    </tr>\n",
              "    <tr>\n",
              "      <th>2</th>\n",
              "      <td>3</td>\n",
              "      <td>https://towardsdatascience.com/how-to-use-ggpl...</td>\n",
              "      <td>How to Use ggplot2 in Python</td>\n",
              "      <td>A Grammar of Graphics for Python</td>\n",
              "      <td>3.png</td>\n",
              "      <td>767</td>\n",
              "      <td>1</td>\n",
              "      <td>5</td>\n",
              "      <td>Towards Data Science</td>\n",
              "      <td>2019-05-30</td>\n",
              "    </tr>\n",
              "    <tr>\n",
              "      <th>3</th>\n",
              "      <td>4</td>\n",
              "      <td>https://towardsdatascience.com/databricks-how-...</td>\n",
              "      <td>Databricks: How to Save Files in CSV on Your L...</td>\n",
              "      <td>When I work on Python projects dealing…</td>\n",
              "      <td>4.jpeg</td>\n",
              "      <td>354</td>\n",
              "      <td>0</td>\n",
              "      <td>4</td>\n",
              "      <td>Towards Data Science</td>\n",
              "      <td>2019-05-30</td>\n",
              "    </tr>\n",
              "    <tr>\n",
              "      <th>4</th>\n",
              "      <td>5</td>\n",
              "      <td>https://towardsdatascience.com/a-step-by-step-...</td>\n",
              "      <td>A Step-by-Step Implementation of Gradient Desc...</td>\n",
              "      <td>One example of building neural…</td>\n",
              "      <td>5.jpeg</td>\n",
              "      <td>211</td>\n",
              "      <td>3</td>\n",
              "      <td>4</td>\n",
              "      <td>Towards Data Science</td>\n",
              "      <td>2019-05-30</td>\n",
              "    </tr>\n",
              "  </tbody>\n",
              "</table>\n",
              "</div>\n",
              "    <div class=\"colab-df-buttons\">\n",
              "\n",
              "  <div class=\"colab-df-container\">\n",
              "    <button class=\"colab-df-convert\" onclick=\"convertToInteractive('df-6ffcfe83-d973-47f6-8194-5e0fb089cb1d')\"\n",
              "            title=\"Convert this dataframe to an interactive table.\"\n",
              "            style=\"display:none;\">\n",
              "\n",
              "  <svg xmlns=\"http://www.w3.org/2000/svg\" height=\"24px\" viewBox=\"0 -960 960 960\">\n",
              "    <path d=\"M120-120v-720h720v720H120Zm60-500h600v-160H180v160Zm220 220h160v-160H400v160Zm0 220h160v-160H400v160ZM180-400h160v-160H180v160Zm440 0h160v-160H620v160ZM180-180h160v-160H180v160Zm440 0h160v-160H620v160Z\"/>\n",
              "  </svg>\n",
              "    </button>\n",
              "\n",
              "  <style>\n",
              "    .colab-df-container {\n",
              "      display:flex;\n",
              "      gap: 12px;\n",
              "    }\n",
              "\n",
              "    .colab-df-convert {\n",
              "      background-color: #E8F0FE;\n",
              "      border: none;\n",
              "      border-radius: 50%;\n",
              "      cursor: pointer;\n",
              "      display: none;\n",
              "      fill: #1967D2;\n",
              "      height: 32px;\n",
              "      padding: 0 0 0 0;\n",
              "      width: 32px;\n",
              "    }\n",
              "\n",
              "    .colab-df-convert:hover {\n",
              "      background-color: #E2EBFA;\n",
              "      box-shadow: 0px 1px 2px rgba(60, 64, 67, 0.3), 0px 1px 3px 1px rgba(60, 64, 67, 0.15);\n",
              "      fill: #174EA6;\n",
              "    }\n",
              "\n",
              "    .colab-df-buttons div {\n",
              "      margin-bottom: 4px;\n",
              "    }\n",
              "\n",
              "    [theme=dark] .colab-df-convert {\n",
              "      background-color: #3B4455;\n",
              "      fill: #D2E3FC;\n",
              "    }\n",
              "\n",
              "    [theme=dark] .colab-df-convert:hover {\n",
              "      background-color: #434B5C;\n",
              "      box-shadow: 0px 1px 3px 1px rgba(0, 0, 0, 0.15);\n",
              "      filter: drop-shadow(0px 1px 2px rgba(0, 0, 0, 0.3));\n",
              "      fill: #FFFFFF;\n",
              "    }\n",
              "  </style>\n",
              "\n",
              "    <script>\n",
              "      const buttonEl =\n",
              "        document.querySelector('#df-6ffcfe83-d973-47f6-8194-5e0fb089cb1d button.colab-df-convert');\n",
              "      buttonEl.style.display =\n",
              "        google.colab.kernel.accessAllowed ? 'block' : 'none';\n",
              "\n",
              "      async function convertToInteractive(key) {\n",
              "        const element = document.querySelector('#df-6ffcfe83-d973-47f6-8194-5e0fb089cb1d');\n",
              "        const dataTable =\n",
              "          await google.colab.kernel.invokeFunction('convertToInteractive',\n",
              "                                                    [key], {});\n",
              "        if (!dataTable) return;\n",
              "\n",
              "        const docLinkHtml = 'Like what you see? Visit the ' +\n",
              "          '<a target=\"_blank\" href=https://colab.research.google.com/notebooks/data_table.ipynb>data table notebook</a>'\n",
              "          + ' to learn more about interactive tables.';\n",
              "        element.innerHTML = '';\n",
              "        dataTable['output_type'] = 'display_data';\n",
              "        await google.colab.output.renderOutput(dataTable, element);\n",
              "        const docLink = document.createElement('div');\n",
              "        docLink.innerHTML = docLinkHtml;\n",
              "        element.appendChild(docLink);\n",
              "      }\n",
              "    </script>\n",
              "  </div>\n",
              "\n",
              "\n",
              "<div id=\"df-e63572e3-441d-4c2d-b64f-ff0f0b1c63ef\">\n",
              "  <button class=\"colab-df-quickchart\" onclick=\"quickchart('df-e63572e3-441d-4c2d-b64f-ff0f0b1c63ef')\"\n",
              "            title=\"Suggest charts\"\n",
              "            style=\"display:none;\">\n",
              "\n",
              "<svg xmlns=\"http://www.w3.org/2000/svg\" height=\"24px\"viewBox=\"0 0 24 24\"\n",
              "     width=\"24px\">\n",
              "    <g>\n",
              "        <path d=\"M19 3H5c-1.1 0-2 .9-2 2v14c0 1.1.9 2 2 2h14c1.1 0 2-.9 2-2V5c0-1.1-.9-2-2-2zM9 17H7v-7h2v7zm4 0h-2V7h2v10zm4 0h-2v-4h2v4z\"/>\n",
              "    </g>\n",
              "</svg>\n",
              "  </button>\n",
              "\n",
              "<style>\n",
              "  .colab-df-quickchart {\n",
              "      --bg-color: #E8F0FE;\n",
              "      --fill-color: #1967D2;\n",
              "      --hover-bg-color: #E2EBFA;\n",
              "      --hover-fill-color: #174EA6;\n",
              "      --disabled-fill-color: #AAA;\n",
              "      --disabled-bg-color: #DDD;\n",
              "  }\n",
              "\n",
              "  [theme=dark] .colab-df-quickchart {\n",
              "      --bg-color: #3B4455;\n",
              "      --fill-color: #D2E3FC;\n",
              "      --hover-bg-color: #434B5C;\n",
              "      --hover-fill-color: #FFFFFF;\n",
              "      --disabled-bg-color: #3B4455;\n",
              "      --disabled-fill-color: #666;\n",
              "  }\n",
              "\n",
              "  .colab-df-quickchart {\n",
              "    background-color: var(--bg-color);\n",
              "    border: none;\n",
              "    border-radius: 50%;\n",
              "    cursor: pointer;\n",
              "    display: none;\n",
              "    fill: var(--fill-color);\n",
              "    height: 32px;\n",
              "    padding: 0;\n",
              "    width: 32px;\n",
              "  }\n",
              "\n",
              "  .colab-df-quickchart:hover {\n",
              "    background-color: var(--hover-bg-color);\n",
              "    box-shadow: 0 1px 2px rgba(60, 64, 67, 0.3), 0 1px 3px 1px rgba(60, 64, 67, 0.15);\n",
              "    fill: var(--button-hover-fill-color);\n",
              "  }\n",
              "\n",
              "  .colab-df-quickchart-complete:disabled,\n",
              "  .colab-df-quickchart-complete:disabled:hover {\n",
              "    background-color: var(--disabled-bg-color);\n",
              "    fill: var(--disabled-fill-color);\n",
              "    box-shadow: none;\n",
              "  }\n",
              "\n",
              "  .colab-df-spinner {\n",
              "    border: 2px solid var(--fill-color);\n",
              "    border-color: transparent;\n",
              "    border-bottom-color: var(--fill-color);\n",
              "    animation:\n",
              "      spin 1s steps(1) infinite;\n",
              "  }\n",
              "\n",
              "  @keyframes spin {\n",
              "    0% {\n",
              "      border-color: transparent;\n",
              "      border-bottom-color: var(--fill-color);\n",
              "      border-left-color: var(--fill-color);\n",
              "    }\n",
              "    20% {\n",
              "      border-color: transparent;\n",
              "      border-left-color: var(--fill-color);\n",
              "      border-top-color: var(--fill-color);\n",
              "    }\n",
              "    30% {\n",
              "      border-color: transparent;\n",
              "      border-left-color: var(--fill-color);\n",
              "      border-top-color: var(--fill-color);\n",
              "      border-right-color: var(--fill-color);\n",
              "    }\n",
              "    40% {\n",
              "      border-color: transparent;\n",
              "      border-right-color: var(--fill-color);\n",
              "      border-top-color: var(--fill-color);\n",
              "    }\n",
              "    60% {\n",
              "      border-color: transparent;\n",
              "      border-right-color: var(--fill-color);\n",
              "    }\n",
              "    80% {\n",
              "      border-color: transparent;\n",
              "      border-right-color: var(--fill-color);\n",
              "      border-bottom-color: var(--fill-color);\n",
              "    }\n",
              "    90% {\n",
              "      border-color: transparent;\n",
              "      border-bottom-color: var(--fill-color);\n",
              "    }\n",
              "  }\n",
              "</style>\n",
              "\n",
              "  <script>\n",
              "    async function quickchart(key) {\n",
              "      const quickchartButtonEl =\n",
              "        document.querySelector('#' + key + ' button');\n",
              "      quickchartButtonEl.disabled = true;  // To prevent multiple clicks.\n",
              "      quickchartButtonEl.classList.add('colab-df-spinner');\n",
              "      try {\n",
              "        const charts = await google.colab.kernel.invokeFunction(\n",
              "            'suggestCharts', [key], {});\n",
              "      } catch (error) {\n",
              "        console.error('Error during call to suggestCharts:', error);\n",
              "      }\n",
              "      quickchartButtonEl.classList.remove('colab-df-spinner');\n",
              "      quickchartButtonEl.classList.add('colab-df-quickchart-complete');\n",
              "    }\n",
              "    (() => {\n",
              "      let quickchartButtonEl =\n",
              "        document.querySelector('#df-e63572e3-441d-4c2d-b64f-ff0f0b1c63ef button');\n",
              "      quickchartButtonEl.style.display =\n",
              "        google.colab.kernel.accessAllowed ? 'block' : 'none';\n",
              "    })();\n",
              "  </script>\n",
              "</div>\n",
              "\n",
              "    </div>\n",
              "  </div>\n"
            ],
            "application/vnd.google.colaboratory.intrinsic+json": {
              "type": "dataframe",
              "variable_name": "medium_data",
              "summary": "{\n  \"name\": \"medium_data\",\n  \"rows\": 6508,\n  \"fields\": [\n    {\n      \"column\": \"id\",\n      \"properties\": {\n        \"dtype\": \"number\",\n        \"std\": 1878,\n        \"min\": 1,\n        \"max\": 6508,\n        \"num_unique_values\": 6508,\n        \"samples\": [\n          3394,\n          5382,\n          4817\n        ],\n        \"semantic_type\": \"\",\n        \"description\": \"\"\n      }\n    },\n    {\n      \"column\": \"url\",\n      \"properties\": {\n        \"dtype\": \"string\",\n        \"num_unique_values\": 6508,\n        \"samples\": [\n          \"https://uxdesign.cc/why-agile-doesnt-work-30f8384ef60a\",\n          \"https://medium.com/swlh/how-i-became-obsessed-with-reading-816b9e4b91aa\",\n          \"https://medium.com/better-marketing/elevate-marketing-with-lessons-from-the-peloton-wife-ad-fiasco-671a4a3b72c1\"\n        ],\n        \"semantic_type\": \"\",\n        \"description\": \"\"\n      }\n    },\n    {\n      \"column\": \"title\",\n      \"properties\": {\n        \"dtype\": \"string\",\n        \"num_unique_values\": 6504,\n        \"samples\": [\n          \"Forget APIs Do Python Scraping Using Beautiful Soup, Import Data File from the web: Part\\u00a02\",\n          \"DDI\\u200a\\u2014\\u200aWeekly Selection September 18,\\u00a02019\",\n          \"Don\\u2019t ask yourself \\u2018what\\u2019 to write. It\\u2019s the wrong\\u00a0question\"\n        ],\n        \"semantic_type\": \"\",\n        \"description\": \"\"\n      }\n    },\n    {\n      \"column\": \"subtitle\",\n      \"properties\": {\n        \"dtype\": \"string\",\n        \"num_unique_values\": 3470,\n        \"samples\": [\n          \"Practical writing and editing process tips for working\\u00a0people.\",\n          \"two visionary ideas I\\u2019d like to see AI be able to achieve one\\u00a0day.\",\n          \"Full tutorial using different libraries\\u200a\\u2014\\u200aTesseractOCRiOS, SwiftOCR, and Google MLVision | Can we beat\\u00a0Google?\"\n        ],\n        \"semantic_type\": \"\",\n        \"description\": \"\"\n      }\n    },\n    {\n      \"column\": \"image\",\n      \"properties\": {\n        \"dtype\": \"string\",\n        \"num_unique_values\": 6361,\n        \"samples\": [\n          \"4853.jpeg\",\n          \"4938.jpg\",\n          \"481.jpeg\"\n        ],\n        \"semantic_type\": \"\",\n        \"description\": \"\"\n      }\n    },\n    {\n      \"column\": \"claps\",\n      \"properties\": {\n        \"dtype\": \"number\",\n        \"std\": 950,\n        \"min\": 0,\n        \"max\": 38000,\n        \"num_unique_values\": 854,\n        \"samples\": [\n          92,\n          385,\n          20\n        ],\n        \"semantic_type\": \"\",\n        \"description\": \"\"\n      }\n    },\n    {\n      \"column\": \"responses\",\n      \"properties\": {\n        \"dtype\": \"category\",\n        \"num_unique_values\": 56,\n        \"samples\": [\n          \"8\",\n          \"2\",\n          \"48\"\n        ],\n        \"semantic_type\": \"\",\n        \"description\": \"\"\n      }\n    },\n    {\n      \"column\": \"reading_time\",\n      \"properties\": {\n        \"dtype\": \"number\",\n        \"std\": 3,\n        \"min\": 0,\n        \"max\": 55,\n        \"num_unique_values\": 34,\n        \"samples\": [\n          22,\n          15,\n          0\n        ],\n        \"semantic_type\": \"\",\n        \"description\": \"\"\n      }\n    },\n    {\n      \"column\": \"publication\",\n      \"properties\": {\n        \"dtype\": \"category\",\n        \"num_unique_values\": 7,\n        \"samples\": [\n          \"Towards Data Science\",\n          \"UX Collective\",\n          \"Better Marketing\"\n        ],\n        \"semantic_type\": \"\",\n        \"description\": \"\"\n      }\n    },\n    {\n      \"column\": \"date\",\n      \"properties\": {\n        \"dtype\": \"object\",\n        \"num_unique_values\": 50,\n        \"samples\": [\n          \"2019-10-28\",\n          \"2019-06-04\",\n          \"2019-05-24\"\n        ],\n        \"semantic_type\": \"\",\n        \"description\": \"\"\n      }\n    }\n  ]\n}"
            }
          },
          "metadata": {},
          "execution_count": 3
        }
      ]
    },
    {
      "cell_type": "markdown",
      "source": [],
      "metadata": {
        "id": "G3W_z6QJZ05j"
      }
    },
    {
      "cell_type": "markdown",
      "source": [
        "Here, we have a **10 different fields and 6508 records** but we will only use **title field** for predicting next word."
      ],
      "metadata": {
        "id": "euqDz52mZ05j"
      }
    },
    {
      "cell_type": "code",
      "source": [
        "print(\"Number of records: \", medium_data.shape[0])\n",
        "print(\"Number of fields: \", medium_data.shape[1])"
      ],
      "metadata": {
        "execution": {
          "iopub.status.busy": "2024-06-21T09:31:19.117575Z",
          "iopub.execute_input": "2024-06-21T09:31:19.118004Z",
          "iopub.status.idle": "2024-06-21T09:31:19.124944Z",
          "shell.execute_reply.started": "2024-06-21T09:31:19.117962Z",
          "shell.execute_reply": "2024-06-21T09:31:19.123815Z"
        },
        "trusted": true,
        "id": "e1x_HNR8Z05k",
        "outputId": "16edb25b-0c66-46ba-9309-518249b82904",
        "colab": {
          "base_uri": "https://localhost:8080/"
        }
      },
      "execution_count": null,
      "outputs": [
        {
          "output_type": "stream",
          "name": "stdout",
          "text": [
            "Number of records:  6508\n",
            "Number of fields:  10\n"
          ]
        }
      ]
    },
    {
      "cell_type": "markdown",
      "source": [
        "<a name=\"preprocess\"></a>\n",
        "# Display titles of various articles  and preprocess them"
      ],
      "metadata": {
        "id": "K9PkG5QIZ05k"
      }
    },
    {
      "cell_type": "code",
      "source": [
        "medium_data['title']"
      ],
      "metadata": {
        "execution": {
          "iopub.status.busy": "2024-06-21T09:31:22.902659Z",
          "iopub.execute_input": "2024-06-21T09:31:22.903036Z",
          "iopub.status.idle": "2024-06-21T09:31:22.915361Z",
          "shell.execute_reply.started": "2024-06-21T09:31:22.903003Z",
          "shell.execute_reply": "2024-06-21T09:31:22.913947Z"
        },
        "trusted": true,
        "id": "SLW7IYd-Z05k",
        "outputId": "a2c22698-cb1b-4d9e-b6c4-a9fe78f29235",
        "colab": {
          "base_uri": "https://localhost:8080/"
        }
      },
      "execution_count": null,
      "outputs": [
        {
          "output_type": "execute_result",
          "data": {
            "text/plain": [
              "0       A Beginner’s Guide to Word Embedding with Gens...\n",
              "1       Hands-on Graph Neural Networks with PyTorch & ...\n",
              "2                            How to Use ggplot2 in Python\n",
              "3       Databricks: How to Save Files in CSV on Your L...\n",
              "4       A Step-by-Step Implementation of Gradient Desc...\n",
              "                              ...                        \n",
              "6503    “We” vs “I” — How Should You Talk About Yourse...\n",
              "6504                     How Donald Trump Markets Himself\n",
              "6505        Content and Marketing Beyond Mass Consumption\n",
              "6506    5 Questions All Copywriters Should Ask Clients...\n",
              "6507               How To Write a Good Business Blog Post\n",
              "Name: title, Length: 6508, dtype: object"
            ]
          },
          "metadata": {},
          "execution_count": 5
        }
      ]
    },
    {
      "cell_type": "markdown",
      "source": [
        "<a name=\"remv\"></a>\n",
        "#### Removing unwanted characters and words in titles\n",
        "\n",
        "Looking at titles, we can see there are some of unwanted characters and words in it which can not be useful for us to predict infact it might decrease our model accuracy so we have to remove it."
      ],
      "metadata": {
        "id": "aouECp9iZ05l"
      }
    },
    {
      "cell_type": "code",
      "source": [
        "medium_data['title'] = medium_data['title'].apply(lambda x: x.replace(u'\\xa0',u' '))\n",
        "medium_data['title'] = medium_data['title'].apply(lambda x: x.replace('\\u200a',' '))"
      ],
      "metadata": {
        "execution": {
          "iopub.status.busy": "2024-06-21T09:31:33.494457Z",
          "iopub.execute_input": "2024-06-21T09:31:33.495258Z",
          "iopub.status.idle": "2024-06-21T09:31:33.507811Z",
          "shell.execute_reply.started": "2024-06-21T09:31:33.495185Z",
          "shell.execute_reply": "2024-06-21T09:31:33.50655Z"
        },
        "trusted": true,
        "id": "X9qBBQGjZ05l"
      },
      "execution_count": null,
      "outputs": []
    },
    {
      "cell_type": "markdown",
      "source": [
        "<a name=\"token\"></a>\n",
        "#### Tokenzation\n",
        "\n",
        "Tokenzaion is the process in which we provide an unique id to all the words and make a word index or we can say vocabulary."
      ],
      "metadata": {
        "id": "9ADPHFIZZ05l"
      }
    },
    {
      "cell_type": "markdown",
      "source": [],
      "metadata": {
        "id": "NxForFkDZ05l"
      }
    },
    {
      "cell_type": "code",
      "source": [
        "tokenizer = Tokenizer(oov_token='<oov>') # For those words which are not found in word_index\n",
        "tokenizer.fit_on_texts(medium_data['title'])\n",
        "total_words = len(tokenizer.word_index) + 1\n",
        "\n",
        "print(\"Total number of words: \", total_words)\n",
        "print(\"Word: ID\")\n",
        "print(\"------------\")\n",
        "print(\"<oov>: \", tokenizer.word_index['<oov>'])\n",
        "print(\"Strong: \", tokenizer.word_index['strong'])\n",
        "print(\"And: \", tokenizer.word_index['and'])\n",
        "print(\"Consumption: \", tokenizer.word_index['consumption'])"
      ],
      "metadata": {
        "execution": {
          "iopub.status.busy": "2024-06-21T09:31:37.268069Z",
          "iopub.execute_input": "2024-06-21T09:31:37.26846Z",
          "iopub.status.idle": "2024-06-21T09:31:37.409245Z",
          "shell.execute_reply.started": "2024-06-21T09:31:37.268418Z",
          "shell.execute_reply": "2024-06-21T09:31:37.407118Z"
        },
        "trusted": true,
        "id": "X39utIssZ05l",
        "outputId": "1a809fbb-78d4-4eb7-c506-ae4f12442a24",
        "colab": {
          "base_uri": "https://localhost:8080/"
        }
      },
      "execution_count": null,
      "outputs": [
        {
          "output_type": "stream",
          "name": "stdout",
          "text": [
            "Total number of words:  8238\n",
            "Word: ID\n",
            "------------\n",
            "<oov>:  1\n",
            "Strong:  4\n",
            "And:  8\n",
            "Consumption:  8237\n"
          ]
        }
      ]
    },
    {
      "cell_type": "markdown",
      "source": [
        "<a name=\"ngram\"></a>\n",
        "#### Titles text into sequences and make n_gram model\n",
        "\n",
        "suppose, we have sentence like **\"I am Yash\"** and this will convert into a sequence with their respective tokens **{'I': 1,'am': 2,'Yash': 3}**. Thus, output will be  **[ '1' ,'2' ,'3' ]**\n",
        "\n",
        "Likewise, our all titles will be converted into sequences.\n",
        "\n",
        "Then,\n",
        "we will make a n_gram model for good prediction.\n",
        "\n",
        "Below image explain about everything.\n",
        "\n",
        "![Capture.PNG](attachment:48ad80b3-90bf-4cf6-99f8-7dcfd467d1f8.PNG)\n"
      ],
      "metadata": {
        "id": "aJw0WLTwZ05m"
      }
    },
    {
      "cell_type": "code",
      "source": [
        "input_sequences = []\n",
        "for line in medium_data['title']:\n",
        "    token_list = tokenizer.texts_to_sequences([line])[0]\n",
        "    #print(token_list)\n",
        "\n",
        "    for i in range(1, len(token_list)):\n",
        "        n_gram_sequence = token_list[:i+1]\n",
        "        input_sequences.append(n_gram_sequence)\n",
        "\n",
        "# print(input_sequences)\n",
        "print(\"Total input sequences: \", len(input_sequences))"
      ],
      "metadata": {
        "execution": {
          "iopub.status.busy": "2024-06-21T09:31:45.211821Z",
          "iopub.execute_input": "2024-06-21T09:31:45.212328Z",
          "iopub.status.idle": "2024-06-21T09:31:45.524791Z",
          "shell.execute_reply.started": "2024-06-21T09:31:45.212286Z",
          "shell.execute_reply": "2024-06-21T09:31:45.523625Z"
        },
        "trusted": true,
        "id": "G3KOb01IZ05m",
        "outputId": "e8673553-82b3-4958-effe-738070f51625",
        "colab": {
          "base_uri": "https://localhost:8080/"
        }
      },
      "execution_count": null,
      "outputs": [
        {
          "output_type": "stream",
          "name": "stdout",
          "text": [
            "Total input sequences:  48461\n"
          ]
        }
      ]
    },
    {
      "cell_type": "markdown",
      "source": [
        "<a name=\"pad\"></a>\n",
        "#### Make all titles with same length by using padding\n",
        "\n",
        "The length of every title has to be the same. To make it, we need to find a title that has a maximum length, and based on that length, we have to pad rest of titles."
      ],
      "metadata": {
        "id": "KXSVbAkeZ05m"
      }
    },
    {
      "cell_type": "code",
      "source": [
        "# pad sequences\n",
        "max_sequence_len = max([len(x) for x in input_sequences])\n",
        "input_sequences = np.array(pad_sequences(input_sequences, maxlen=max_sequence_len, padding='pre'))\n",
        "input_sequences[1]"
      ],
      "metadata": {
        "execution": {
          "iopub.status.busy": "2024-06-21T09:31:49.142957Z",
          "iopub.execute_input": "2024-06-21T09:31:49.143384Z",
          "iopub.status.idle": "2024-06-21T09:31:49.387211Z",
          "shell.execute_reply.started": "2024-06-21T09:31:49.143345Z",
          "shell.execute_reply": "2024-06-21T09:31:49.386183Z"
        },
        "trusted": true,
        "id": "AdWOcQhhZ05m",
        "outputId": "dac4d780-fef9-4dce-d50a-01e195138504",
        "colab": {
          "base_uri": "https://localhost:8080/"
        }
      },
      "execution_count": null,
      "outputs": [
        {
          "output_type": "execute_result",
          "data": {
            "text/plain": [
              "array([  0,   0,   0,   0,   0,   0,   0,   0,   0,   0,   0,   0,   0,\n",
              "         0,   0,   0,   0,   0,   0,   0,   0,   0,   0,   0,   0,   0,\n",
              "         0,   0,   0,   0,   0,   0,   0,   0,   0,   0,   0,   5, 676,\n",
              "        68], dtype=int32)"
            ]
          },
          "metadata": {},
          "execution_count": 9
        }
      ]
    },
    {
      "cell_type": "markdown",
      "source": [
        "<a name=\"xy\"></a>\n",
        "# Prepare features and labels\n",
        "\n",
        "Here, we consider **last element of all sequences as a label**.Then,\n",
        "We need to perform **onehot encoding on labels corresponding to total_words.**"
      ],
      "metadata": {
        "id": "8amSKaOAZ05m"
      }
    },
    {
      "cell_type": "code",
      "source": [
        "# create features and label\n",
        "xs, labels = input_sequences[:,:-1],input_sequences[:,-1]\n",
        "ys = tf.keras.utils.to_categorical(labels, num_classes=total_words)"
      ],
      "metadata": {
        "execution": {
          "iopub.status.busy": "2024-06-21T09:31:52.402058Z",
          "iopub.execute_input": "2024-06-21T09:31:52.402455Z",
          "iopub.status.idle": "2024-06-21T09:31:52.563482Z",
          "shell.execute_reply.started": "2024-06-21T09:31:52.402419Z",
          "shell.execute_reply": "2024-06-21T09:31:52.562366Z"
        },
        "trusted": true,
        "id": "f1vci01XZ05m"
      },
      "execution_count": null,
      "outputs": []
    },
    {
      "cell_type": "code",
      "source": [
        "print(xs[5])\n",
        "print(labels[5])\n",
        "print(ys[5][14])"
      ],
      "metadata": {
        "execution": {
          "iopub.status.busy": "2024-06-21T09:31:56.10612Z",
          "iopub.execute_input": "2024-06-21T09:31:56.106497Z",
          "iopub.status.idle": "2024-06-21T09:31:56.113389Z",
          "shell.execute_reply.started": "2024-06-21T09:31:56.106464Z",
          "shell.execute_reply": "2024-06-21T09:31:56.112245Z"
        },
        "trusted": true,
        "id": "N5YHM0srZ05m",
        "outputId": "f5b986c7-f8b8-4f4d-fbe9-d94351d62e4e",
        "colab": {
          "base_uri": "https://localhost:8080/"
        }
      },
      "execution_count": null,
      "outputs": [
        {
          "output_type": "stream",
          "name": "stdout",
          "text": [
            "[   0    0    0    0    0    0    0    0    0    0    0    0    0    0\n",
            "    0    0    0    0    0    0    0    0    0    0    0    0    0    0\n",
            "    0    0    0    0    0    5  676   68    2  452 1518]\n",
            "14\n",
            "1.0\n"
          ]
        }
      ]
    },
    {
      "cell_type": "markdown",
      "source": [
        "<a name=\"blstm\"></a>\n",
        "# Architechture of Bidirectional LSTM Neural Network\n",
        "\n",
        "Long Short-Term Memory (LSTM) networks is an advance recurrent neural network which is apable to store order states by using its cell state feature.\n",
        "\n",
        "Image reference: https://www.researchgate.net/figure/The-structure-of-the-Long-Short-Term-Memory-LSTM-neural-network-Reproduced-from-Yan_fig8_334268507\n",
        "![lstm.png](attachment:c34341f6-d243-478a-b4bd-bf242759cd50.png)\n",
        "\n",
        "**Bidirectional LSTM**\n",
        "Image reference: https://paperswithcode.com/method/bilstm\n",
        "![bi.png](attachment:d26c6b0c-cbdf-45a5-b88b-2b352d7b7d63.png)"
      ],
      "metadata": {
        "id": "nF-8kQpoZ05n"
      }
    },
    {
      "cell_type": "markdown",
      "source": [
        "<a name=\"train\"></a>\n",
        "# Bi- LSTM Neural Network Model training"
      ],
      "metadata": {
        "id": "A5-M7ln7Z05n"
      }
    },
    {
      "cell_type": "code",
      "source": [
        "model = Sequential()\n",
        "model.add(Embedding(total_words, 100, input_length=max_sequence_len-1))\n",
        "model.add(Bidirectional(LSTM(150)))\n",
        "model.add(Dense(total_words, activation='softmax'))\n",
        "adam = Adam(learning_rate=0.01)\n",
        "model.compile(loss='categorical_crossentropy', optimizer=adam, metrics=['accuracy'])\n",
        "history = model.fit(xs, ys, epochs=50, verbose=1)\n",
        "#print model.summary()\n",
        "print(model)\n"
      ],
      "metadata": {
        "execution": {
          "iopub.status.busy": "2024-06-21T09:32:02.405767Z",
          "iopub.execute_input": "2024-06-21T09:32:02.406147Z"
        },
        "trusted": true,
        "id": "UPOSvPZYZ05n",
        "outputId": "d96f3ca9-d309-47b7-bf9d-75fbfa209472",
        "colab": {
          "base_uri": "https://localhost:8080/"
        }
      },
      "execution_count": null,
      "outputs": [
        {
          "output_type": "stream",
          "name": "stderr",
          "text": [
            "/usr/local/lib/python3.10/dist-packages/keras/src/layers/core/embedding.py:90: UserWarning: Argument `input_length` is deprecated. Just remove it.\n",
            "  warnings.warn(\n"
          ]
        },
        {
          "output_type": "stream",
          "name": "stdout",
          "text": [
            "Epoch 1/50\n",
            "\u001b[1m1515/1515\u001b[0m \u001b[32m━━━━━━━━━━━━━━━━━━━━\u001b[0m\u001b[37m\u001b[0m \u001b[1m29s\u001b[0m 15ms/step - accuracy: 0.0982 - loss: 7.0809\n",
            "Epoch 2/50\n",
            "\u001b[1m1515/1515\u001b[0m \u001b[32m━━━━━━━━━━━━━━━━━━━━\u001b[0m\u001b[37m\u001b[0m \u001b[1m22s\u001b[0m 14ms/step - accuracy: 0.1742 - loss: 5.7385\n",
            "Epoch 3/50\n",
            "\u001b[1m1515/1515\u001b[0m \u001b[32m━━━━━━━━━━━━━━━━━━━━\u001b[0m\u001b[37m\u001b[0m \u001b[1m39s\u001b[0m 13ms/step - accuracy: 0.2063 - loss: 4.8835\n",
            "Epoch 4/50\n",
            "\u001b[1m1515/1515\u001b[0m \u001b[32m━━━━━━━━━━━━━━━━━━━━\u001b[0m\u001b[37m\u001b[0m \u001b[1m19s\u001b[0m 12ms/step - accuracy: 0.2671 - loss: 4.0675\n",
            "Epoch 5/50\n",
            "\u001b[1m1515/1515\u001b[0m \u001b[32m━━━━━━━━━━━━━━━━━━━━\u001b[0m\u001b[37m\u001b[0m \u001b[1m20s\u001b[0m 12ms/step - accuracy: 0.3165 - loss: 3.5230\n",
            "Epoch 6/50\n",
            "\u001b[1m1515/1515\u001b[0m \u001b[32m━━━━━━━━━━━━━━━━━━━━\u001b[0m\u001b[37m\u001b[0m \u001b[1m23s\u001b[0m 14ms/step - accuracy: 0.3647 - loss: 3.1335\n",
            "Epoch 7/50\n",
            "\u001b[1m1515/1515\u001b[0m \u001b[32m━━━━━━━━━━━━━━━━━━━━\u001b[0m\u001b[37m\u001b[0m \u001b[1m19s\u001b[0m 13ms/step - accuracy: 0.3962 - loss: 2.9015\n",
            "Epoch 8/50\n",
            "\u001b[1m1515/1515\u001b[0m \u001b[32m━━━━━━━━━━━━━━━━━━━━\u001b[0m\u001b[37m\u001b[0m \u001b[1m20s\u001b[0m 12ms/step - accuracy: 0.4144 - loss: 2.7431\n",
            "Epoch 9/50\n",
            "\u001b[1m1515/1515\u001b[0m \u001b[32m━━━━━━━━━━━━━━━━━━━━\u001b[0m\u001b[37m\u001b[0m \u001b[1m19s\u001b[0m 13ms/step - accuracy: 0.4385 - loss: 2.5819\n",
            "Epoch 10/50\n",
            "\u001b[1m1515/1515\u001b[0m \u001b[32m━━━━━━━━━━━━━━━━━━━━\u001b[0m\u001b[37m\u001b[0m \u001b[1m21s\u001b[0m 13ms/step - accuracy: 0.4501 - loss: 2.4962\n",
            "Epoch 11/50\n",
            "\u001b[1m1515/1515\u001b[0m \u001b[32m━━━━━━━━━━━━━━━━━━━━\u001b[0m\u001b[37m\u001b[0m \u001b[1m20s\u001b[0m 12ms/step - accuracy: 0.4573 - loss: 2.4486\n",
            "Epoch 12/50\n",
            "\u001b[1m1515/1515\u001b[0m \u001b[32m━━━━━━━━━━━━━━━━━━━━\u001b[0m\u001b[37m\u001b[0m \u001b[1m21s\u001b[0m 12ms/step - accuracy: 0.4726 - loss: 2.3664\n",
            "Epoch 13/50\n",
            "\u001b[1m1515/1515\u001b[0m \u001b[32m━━━━━━━━━━━━━━━━━━━━\u001b[0m\u001b[37m\u001b[0m \u001b[1m20s\u001b[0m 12ms/step - accuracy: 0.4820 - loss: 2.3145\n",
            "Epoch 14/50\n",
            "\u001b[1m1515/1515\u001b[0m \u001b[32m━━━━━━━━━━━━━━━━━━━━\u001b[0m\u001b[37m\u001b[0m \u001b[1m21s\u001b[0m 12ms/step - accuracy: 0.4887 - loss: 2.2793\n",
            "Epoch 15/50\n",
            "\u001b[1m1515/1515\u001b[0m \u001b[32m━━━━━━━━━━━━━━━━━━━━\u001b[0m\u001b[37m\u001b[0m \u001b[1m19s\u001b[0m 12ms/step - accuracy: 0.4920 - loss: 2.2323\n",
            "Epoch 16/50\n",
            "\u001b[1m1515/1515\u001b[0m \u001b[32m━━━━━━━━━━━━━━━━━━━━\u001b[0m\u001b[37m\u001b[0m \u001b[1m20s\u001b[0m 12ms/step - accuracy: 0.4932 - loss: 2.2366\n",
            "Epoch 17/50\n",
            "\u001b[1m1515/1515\u001b[0m \u001b[32m━━━━━━━━━━━━━━━━━━━━\u001b[0m\u001b[37m\u001b[0m \u001b[1m21s\u001b[0m 13ms/step - accuracy: 0.5035 - loss: 2.1811\n",
            "Epoch 18/50\n",
            "\u001b[1m1515/1515\u001b[0m \u001b[32m━━━━━━━━━━━━━━━━━━━━\u001b[0m\u001b[37m\u001b[0m \u001b[1m21s\u001b[0m 13ms/step - accuracy: 0.4997 - loss: 2.2044\n",
            "Epoch 19/50\n",
            "\u001b[1m1515/1515\u001b[0m \u001b[32m━━━━━━━━━━━━━━━━━━━━\u001b[0m\u001b[37m\u001b[0m \u001b[1m20s\u001b[0m 12ms/step - accuracy: 0.4977 - loss: 2.2149\n",
            "Epoch 20/50\n",
            "\u001b[1m1515/1515\u001b[0m \u001b[32m━━━━━━━━━━━━━━━━━━━━\u001b[0m\u001b[37m\u001b[0m \u001b[1m21s\u001b[0m 13ms/step - accuracy: 0.5017 - loss: 2.1808\n",
            "Epoch 21/50\n",
            "\u001b[1m1515/1515\u001b[0m \u001b[32m━━━━━━━━━━━━━━━━━━━━\u001b[0m\u001b[37m\u001b[0m \u001b[1m19s\u001b[0m 12ms/step - accuracy: 0.5112 - loss: 2.1467\n",
            "Epoch 22/50\n",
            "\u001b[1m1515/1515\u001b[0m \u001b[32m━━━━━━━━━━━━━━━━━━━━\u001b[0m\u001b[37m\u001b[0m \u001b[1m21s\u001b[0m 12ms/step - accuracy: 0.5123 - loss: 2.1357\n",
            "Epoch 23/50\n",
            "\u001b[1m1515/1515\u001b[0m \u001b[32m━━━━━━━━━━━━━━━━━━━━\u001b[0m\u001b[37m\u001b[0m \u001b[1m21s\u001b[0m 13ms/step - accuracy: 0.5022 - loss: 2.2265\n",
            "Epoch 24/50\n",
            "\u001b[1m1515/1515\u001b[0m \u001b[32m━━━━━━━━━━━━━━━━━━━━\u001b[0m\u001b[37m\u001b[0m \u001b[1m20s\u001b[0m 12ms/step - accuracy: 0.5124 - loss: 2.1491\n",
            "Epoch 25/50\n",
            "\u001b[1m1515/1515\u001b[0m \u001b[32m━━━━━━━━━━━━━━━━━━━━\u001b[0m\u001b[37m\u001b[0m \u001b[1m21s\u001b[0m 13ms/step - accuracy: 0.5126 - loss: 2.1470\n",
            "Epoch 26/50\n",
            "\u001b[1m1515/1515\u001b[0m \u001b[32m━━━━━━━━━━━━━━━━━━━━\u001b[0m\u001b[37m\u001b[0m \u001b[1m21s\u001b[0m 13ms/step - accuracy: 0.5195 - loss: 2.1119\n",
            "Epoch 27/50\n",
            "\u001b[1m1515/1515\u001b[0m \u001b[32m━━━━━━━━━━━━━━━━━━━━\u001b[0m\u001b[37m\u001b[0m \u001b[1m20s\u001b[0m 12ms/step - accuracy: 0.5249 - loss: 2.0830\n",
            "Epoch 28/50\n",
            "\u001b[1m1515/1515\u001b[0m \u001b[32m━━━━━━━━━━━━━━━━━━━━\u001b[0m\u001b[37m\u001b[0m \u001b[1m21s\u001b[0m 12ms/step - accuracy: 0.5294 - loss: 2.0500\n",
            "Epoch 29/50\n",
            "\u001b[1m1515/1515\u001b[0m \u001b[32m━━━━━━━━━━━━━━━━━━━━\u001b[0m\u001b[37m\u001b[0m \u001b[1m21s\u001b[0m 13ms/step - accuracy: 0.5270 - loss: 2.0521\n",
            "Epoch 30/50\n",
            "\u001b[1m1515/1515\u001b[0m \u001b[32m━━━━━━━━━━━━━━━━━━━━\u001b[0m\u001b[37m\u001b[0m \u001b[1m21s\u001b[0m 13ms/step - accuracy: 0.5296 - loss: 2.0320\n",
            "Epoch 31/50\n",
            "\u001b[1m1515/1515\u001b[0m \u001b[32m━━━━━━━━━━━━━━━━━━━━\u001b[0m\u001b[37m\u001b[0m \u001b[1m20s\u001b[0m 13ms/step - accuracy: 0.5319 - loss: 2.0546\n",
            "Epoch 32/50\n",
            "\u001b[1m1515/1515\u001b[0m \u001b[32m━━━━━━━━━━━━━━━━━━━━\u001b[0m\u001b[37m\u001b[0m \u001b[1m20s\u001b[0m 13ms/step - accuracy: 0.5179 - loss: 2.1257\n",
            "Epoch 33/50\n",
            "\u001b[1m1515/1515\u001b[0m \u001b[32m━━━━━━━━━━━━━━━━━━━━\u001b[0m\u001b[37m\u001b[0m \u001b[1m19s\u001b[0m 13ms/step - accuracy: 0.5251 - loss: 2.0811\n",
            "Epoch 34/50\n",
            "\u001b[1m1515/1515\u001b[0m \u001b[32m━━━━━━━━━━━━━━━━━━━━\u001b[0m\u001b[37m\u001b[0m \u001b[1m21s\u001b[0m 13ms/step - accuracy: 0.5179 - loss: 2.1591\n",
            "Epoch 35/50\n",
            "\u001b[1m1515/1515\u001b[0m \u001b[32m━━━━━━━━━━━━━━━━━━━━\u001b[0m\u001b[37m\u001b[0m \u001b[1m23s\u001b[0m 14ms/step - accuracy: 0.5304 - loss: 2.0825\n",
            "Epoch 36/50\n",
            "\u001b[1m1515/1515\u001b[0m \u001b[32m━━━━━━━━━━━━━━━━━━━━\u001b[0m\u001b[37m\u001b[0m \u001b[1m21s\u001b[0m 14ms/step - accuracy: 0.5315 - loss: 2.0839\n",
            "Epoch 37/50\n",
            "\u001b[1m1515/1515\u001b[0m \u001b[32m━━━━━━━━━━━━━━━━━━━━\u001b[0m\u001b[37m\u001b[0m \u001b[1m20s\u001b[0m 13ms/step - accuracy: 0.5345 - loss: 2.0505\n",
            "Epoch 38/50\n",
            "\u001b[1m1515/1515\u001b[0m \u001b[32m━━━━━━━━━━━━━━━━━━━━\u001b[0m\u001b[37m\u001b[0m \u001b[1m19s\u001b[0m 12ms/step - accuracy: 0.5323 - loss: 2.0968\n",
            "Epoch 39/50\n",
            "\u001b[1m1515/1515\u001b[0m \u001b[32m━━━━━━━━━━━━━━━━━━━━\u001b[0m\u001b[37m\u001b[0m \u001b[1m19s\u001b[0m 13ms/step - accuracy: 0.5301 - loss: 2.0639\n",
            "Epoch 40/50\n",
            "\u001b[1m1515/1515\u001b[0m \u001b[32m━━━━━━━━━━━━━━━━━━━━\u001b[0m\u001b[37m\u001b[0m \u001b[1m20s\u001b[0m 13ms/step - accuracy: 0.5301 - loss: 2.0874\n",
            "Epoch 41/50\n",
            "\u001b[1m1515/1515\u001b[0m \u001b[32m━━━━━━━━━━━━━━━━━━━━\u001b[0m\u001b[37m\u001b[0m \u001b[1m21s\u001b[0m 13ms/step - accuracy: 0.5069 - loss: 2.2679\n",
            "Epoch 42/50\n",
            "\u001b[1m1515/1515\u001b[0m \u001b[32m━━━━━━━━━━━━━━━━━━━━\u001b[0m\u001b[37m\u001b[0m \u001b[1m20s\u001b[0m 13ms/step - accuracy: 0.5321 - loss: 2.1033\n",
            "Epoch 43/50\n",
            "\u001b[1m1515/1515\u001b[0m \u001b[32m━━━━━━━━━━━━━━━━━━━━\u001b[0m\u001b[37m\u001b[0m \u001b[1m24s\u001b[0m 16ms/step - accuracy: 0.5301 - loss: 2.0895\n",
            "Epoch 44/50\n",
            "\u001b[1m1515/1515\u001b[0m \u001b[32m━━━━━━━━━━━━━━━━━━━━\u001b[0m\u001b[37m\u001b[0m \u001b[1m37s\u001b[0m 13ms/step - accuracy: 0.5348 - loss: 2.0539\n",
            "Epoch 45/50\n",
            "\u001b[1m1515/1515\u001b[0m \u001b[32m━━━━━━━━━━━━━━━━━━━━\u001b[0m\u001b[37m\u001b[0m \u001b[1m20s\u001b[0m 12ms/step - accuracy: 0.5348 - loss: 2.0649\n",
            "Epoch 46/50\n",
            "\u001b[1m1515/1515\u001b[0m \u001b[32m━━━━━━━━━━━━━━━━━━━━\u001b[0m\u001b[37m\u001b[0m \u001b[1m21s\u001b[0m 13ms/step - accuracy: 0.5383 - loss: 2.0604\n",
            "Epoch 47/50\n",
            "\u001b[1m1515/1515\u001b[0m \u001b[32m━━━━━━━━━━━━━━━━━━━━\u001b[0m\u001b[37m\u001b[0m \u001b[1m20s\u001b[0m 13ms/step - accuracy: 0.5373 - loss: 2.0593\n",
            "Epoch 48/50\n",
            "\u001b[1m1515/1515\u001b[0m \u001b[32m━━━━━━━━━━━━━━━━━━━━\u001b[0m\u001b[37m\u001b[0m \u001b[1m21s\u001b[0m 13ms/step - accuracy: 0.5324 - loss: 2.0773\n",
            "Epoch 49/50\n",
            "\u001b[1m1515/1515\u001b[0m \u001b[32m━━━━━━━━━━━━━━━━━━━━\u001b[0m\u001b[37m\u001b[0m \u001b[1m20s\u001b[0m 13ms/step - accuracy: 0.5301 - loss: 2.1603\n",
            "Epoch 50/50\n",
            "\u001b[1m1515/1515\u001b[0m \u001b[32m━━━━━━━━━━━━━━━━━━━━\u001b[0m\u001b[37m\u001b[0m \u001b[1m19s\u001b[0m 13ms/step - accuracy: 0.5204 - loss: 2.2139\n",
            "<Sequential name=sequential, built=True>\n"
          ]
        }
      ]
    },
    {
      "cell_type": "markdown",
      "source": [
        "<a name=\"acc\"></a>\n",
        "# Plotting model accuracy and loss"
      ],
      "metadata": {
        "id": "hRmC_HcTZ05n"
      }
    },
    {
      "cell_type": "code",
      "source": [
        "import matplotlib.pyplot as plt\n",
        "\n",
        "\n",
        "def plot_graphs(history, string):\n",
        "    plt.plot(history.history[string])\n",
        "    plt.xlabel(\"Epochs\")\n",
        "    plt.ylabel(string)\n",
        "    plt.show()"
      ],
      "metadata": {
        "execution": {
          "iopub.status.busy": "2021-08-15T06:22:51.092692Z",
          "iopub.execute_input": "2021-08-15T06:22:51.092945Z",
          "iopub.status.idle": "2021-08-15T06:22:51.097521Z",
          "shell.execute_reply.started": "2021-08-15T06:22:51.092921Z",
          "shell.execute_reply": "2021-08-15T06:22:51.096585Z"
        },
        "trusted": true,
        "id": "1yy0fGMtZ05n"
      },
      "execution_count": null,
      "outputs": []
    },
    {
      "cell_type": "code",
      "source": [
        "plot_graphs(history, 'accuracy')"
      ],
      "metadata": {
        "execution": {
          "iopub.status.busy": "2021-08-15T06:22:51.098715Z",
          "iopub.execute_input": "2021-08-15T06:22:51.099252Z",
          "iopub.status.idle": "2021-08-15T06:22:51.25641Z",
          "shell.execute_reply.started": "2021-08-15T06:22:51.099215Z",
          "shell.execute_reply": "2021-08-15T06:22:51.255568Z"
        },
        "trusted": true,
        "id": "d-ZqZEatZ05o",
        "colab": {
          "base_uri": "https://localhost:8080/",
          "height": 449
        },
        "outputId": "83b9186e-7c82-4c8b-b536-2a8e0958f690"
      },
      "execution_count": null,
      "outputs": [
        {
          "output_type": "display_data",
          "data": {
            "text/plain": [
              "<Figure size 640x480 with 1 Axes>"
            ],
            "image/png": "[encoded data removed]"
          },
          "metadata": {}
        }
      ]
    },
    {
      "cell_type": "code",
      "source": [
        "plot_graphs(history, 'loss')"
      ],
      "metadata": {
        "execution": {
          "iopub.status.busy": "2021-08-15T06:22:51.257557Z",
          "iopub.execute_input": "2021-08-15T06:22:51.257867Z",
          "iopub.status.idle": "2021-08-15T06:22:51.379243Z",
          "shell.execute_reply.started": "2021-08-15T06:22:51.257833Z",
          "shell.execute_reply": "2021-08-15T06:22:51.378467Z"
        },
        "trusted": true,
        "id": "h9OTsipgZ05o",
        "colab": {
          "base_uri": "https://localhost:8080/",
          "height": 454
        },
        "outputId": "4bc88fe3-9edb-4ba5-ed67-687ddd9e1c14"
      },
      "execution_count": null,
      "outputs": [
        {
          "output_type": "display_data",
          "data": {
            "text/plain": [
              "<Figure size 640x480 with 1 Axes>"
            ],
            "image/png": "[encoded data removed]"
          },
          "metadata": {}
        }
      ]
    },
    {
      "cell_type": "code",
      "source": [
        "model.save(\"next_word_prediction_model_medium_2.h5\")\n"
      ],
      "metadata": {
        "colab": {
          "base_uri": "https://localhost:8080/"
        },
        "id": "Vk_t-CIcj1Uq",
        "outputId": "da258491-8550-487e-fb4f-46816175beea"
      },
      "execution_count": null,
      "outputs": [
        {
          "output_type": "stream",
          "name": "stderr",
          "text": [
            "WARNING:absl:You are saving your model as an HDF5 file via `model.save()` or `keras.saving.save_model(model)`. This file format is considered legacy. We recommend using instead the native Keras format, e.g. `model.save('my_model.keras')` or `keras.saving.save_model(model, 'my_model.keras')`. \n"
          ]
        }
      ]
    },
    {
      "cell_type": "code",
      "source": [
        "model.save(\"next_word_prediction_model_medium.keras\")\n"
      ],
      "metadata": {
        "id": "O_HSShOwj1_3"
      },
      "execution_count": null,
      "outputs": []
    },
    {
      "cell_type": "code",
      "source": [
        "max_length = max([len(input_sequence) for input_sequence in input_sequences])\n",
        "max_length"
      ],
      "metadata": {
        "colab": {
          "base_uri": "https://localhost:8080/"
        },
        "id": "Pj1BBMSGBuuH",
        "outputId": "cbb68d1b-d25d-460a-b99c-a1b1b224fee1"
      },
      "execution_count": null,
      "outputs": [
        {
          "output_type": "execute_result",
          "data": {
            "text/plain": [
              "40"
            ]
          },
          "metadata": {},
          "execution_count": 22
        }
      ]
    },
    {
      "cell_type": "code",
      "source": [
        "tokenizer_json = tokenizer.to_json()\n",
        "with open('tokenizer_medium_2.json', 'w') as file:\n",
        "    file.write(tokenizer_json)"
      ],
      "metadata": {
        "id": "_pxMLPLZCKiz"
      },
      "execution_count": null,
      "outputs": []
    },
    {
      "cell_type": "markdown",
      "source": [
        "# varify model\n"
      ],
      "metadata": {
        "id": "snA_GUpYj6UX"
      }
    },
    {
      "cell_type": "code",
      "source": [
        "import tensorflow as tf\n",
        "from tensorflow.keras.models import load_model\n",
        "import numpy as np\n",
        "\n",
        "# Load the saved model\n",
        "model = load_model(\"next_word_prediction_model.h5\")\n",
        "\n",
        "# Print the model architecture\n",
        "model.summary()\n",
        "\n",
        "# Define a function to predict the next word\n",
        "def predict_next_word(model, tokenizer, seed_text, max_sequence_len):\n",
        "    token_list = tokenizer.texts_to_sequences([seed_text])[0]\n",
        "    token_list = np.array(pad_sequences([token_list], maxlen=max_sequence_len-1, padding='pre'))\n",
        "    predicted = np.argmax(model.predict(token_list), axis=-1)\n",
        "    output_word = \"\"\n",
        "    for word, index in tokenizer.word_index.items():\n",
        "        if index == predicted:\n",
        "            output_word = word\n",
        "            break\n",
        "    return output_word\n",
        "\n",
        "# Example of using the model to predict the next word\n",
        "seed_text = \"The economy is\"\n",
        "next_word = predict_next_word(model, tokenizer, seed_text, max_sequence_len)\n",
        "print(f\"Seed text: '{seed_text}' -> Next word: '{next_word}'\")\n"
      ],
      "metadata": {
        "colab": {
          "base_uri": "https://localhost:8080/",
          "height": 525
        },
        "id": "c26V1i0PkAM-",
        "outputId": "f6348319-200e-4709-f3b0-bcf46669b39a"
      },
      "execution_count": null,
      "outputs": [
        {
          "output_type": "error",
          "ename": "FileNotFoundError",
          "evalue": "[Errno 2] Unable to synchronously open file (unable to open file: name = 'next_word_prediction_model.h5', errno = 2, error message = 'No such file or directory', flags = 0, o_flags = 0)",
          "traceback": [
            "\u001b[0;31m---------------------------------------------------------------------------\u001b[0m",
            "\u001b[0;31mFileNotFoundError\u001b[0m                         Traceback (most recent call last)",
            "\u001b[0;32m<ipython-input-20-9606749c4b8b>\u001b[0m in \u001b[0;36m<cell line: 6>\u001b[0;34m()\u001b[0m\n\u001b[1;32m      4\u001b[0m \u001b[0;34m\u001b[0m\u001b[0m\n\u001b[1;32m      5\u001b[0m \u001b[0;31m# Load the saved model\u001b[0m\u001b[0;34m\u001b[0m\u001b[0;34m\u001b[0m\u001b[0m\n\u001b[0;32m----> 6\u001b[0;31m \u001b[0mmodel\u001b[0m \u001b[0;34m=\u001b[0m \u001b[0mload_model\u001b[0m\u001b[0;34m(\u001b[0m\u001b[0;34m\"next_word_prediction_model.h5\"\u001b[0m\u001b[0;34m)\u001b[0m\u001b[0;34m\u001b[0m\u001b[0;34m\u001b[0m\u001b[0m\n\u001b[0m\u001b[1;32m      7\u001b[0m \u001b[0;34m\u001b[0m\u001b[0m\n\u001b[1;32m      8\u001b[0m \u001b[0;31m# Print the model architecture\u001b[0m\u001b[0;34m\u001b[0m\u001b[0;34m\u001b[0m\u001b[0m\n",
            "\u001b[0;32m/usr/local/lib/python3.10/dist-packages/keras/src/saving/saving_api.py\u001b[0m in \u001b[0;36mload_model\u001b[0;34m(filepath, custom_objects, compile, safe_mode)\u001b[0m\n\u001b[1;32m    181\u001b[0m         )\n\u001b[1;32m    182\u001b[0m     \u001b[0;32mif\u001b[0m \u001b[0mstr\u001b[0m\u001b[0;34m(\u001b[0m\u001b[0mfilepath\u001b[0m\u001b[0;34m)\u001b[0m\u001b[0;34m.\u001b[0m\u001b[0mendswith\u001b[0m\u001b[0;34m(\u001b[0m\u001b[0;34m(\u001b[0m\u001b[0;34m\".h5\"\u001b[0m\u001b[0;34m,\u001b[0m \u001b[0;34m\".hdf5\"\u001b[0m\u001b[0;34m)\u001b[0m\u001b[0;34m)\u001b[0m\u001b[0;34m:\u001b[0m\u001b[0;34m\u001b[0m\u001b[0;34m\u001b[0m\u001b[0m\n\u001b[0;32m--> 183\u001b[0;31m         return legacy_h5_format.load_model_from_hdf5(\n\u001b[0m\u001b[1;32m    184\u001b[0m             \u001b[0mfilepath\u001b[0m\u001b[0;34m,\u001b[0m \u001b[0mcustom_objects\u001b[0m\u001b[0;34m=\u001b[0m\u001b[0mcustom_objects\u001b[0m\u001b[0;34m,\u001b[0m \u001b[0mcompile\u001b[0m\u001b[0;34m=\u001b[0m\u001b[0mcompile\u001b[0m\u001b[0;34m\u001b[0m\u001b[0;34m\u001b[0m\u001b[0m\n\u001b[1;32m    185\u001b[0m         )\n",
            "\u001b[0;32m/usr/local/lib/python3.10/dist-packages/keras/src/legacy/saving/legacy_h5_format.py\u001b[0m in \u001b[0;36mload_model_from_hdf5\u001b[0;34m(filepath, custom_objects, compile)\u001b[0m\n\u001b[1;32m    114\u001b[0m     \u001b[0mopened_new_file\u001b[0m \u001b[0;34m=\u001b[0m \u001b[0;32mnot\u001b[0m \u001b[0misinstance\u001b[0m\u001b[0;34m(\u001b[0m\u001b[0mfilepath\u001b[0m\u001b[0;34m,\u001b[0m \u001b[0mh5py\u001b[0m\u001b[0;34m.\u001b[0m\u001b[0mFile\u001b[0m\u001b[0;34m)\u001b[0m\u001b[0;34m\u001b[0m\u001b[0;34m\u001b[0m\u001b[0m\n\u001b[1;32m    115\u001b[0m     \u001b[0;32mif\u001b[0m \u001b[0mopened_new_file\u001b[0m\u001b[0;34m:\u001b[0m\u001b[0;34m\u001b[0m\u001b[0;34m\u001b[0m\u001b[0m\n\u001b[0;32m--> 116\u001b[0;31m         \u001b[0mf\u001b[0m \u001b[0;34m=\u001b[0m \u001b[0mh5py\u001b[0m\u001b[0;34m.\u001b[0m\u001b[0mFile\u001b[0m\u001b[0;34m(\u001b[0m\u001b[0mfilepath\u001b[0m\u001b[0;34m,\u001b[0m \u001b[0mmode\u001b[0m\u001b[0;34m=\u001b[0m\u001b[0;34m\"r\"\u001b[0m\u001b[0;34m)\u001b[0m\u001b[0;34m\u001b[0m\u001b[0;34m\u001b[0m\u001b[0m\n\u001b[0m\u001b[1;32m    117\u001b[0m     \u001b[0;32melse\u001b[0m\u001b[0;34m:\u001b[0m\u001b[0;34m\u001b[0m\u001b[0;34m\u001b[0m\u001b[0m\n\u001b[1;32m    118\u001b[0m         \u001b[0mf\u001b[0m \u001b[0;34m=\u001b[0m \u001b[0mfilepath\u001b[0m\u001b[0;34m\u001b[0m\u001b[0;34m\u001b[0m\u001b[0m\n",
            "\u001b[0;32m/usr/local/lib/python3.10/dist-packages/h5py/_hl/files.py\u001b[0m in \u001b[0;36m__init__\u001b[0;34m(self, name, mode, driver, libver, userblock_size, swmr, rdcc_nslots, rdcc_nbytes, rdcc_w0, track_order, fs_strategy, fs_persist, fs_threshold, fs_page_size, page_buf_size, min_meta_keep, min_raw_keep, locking, alignment_threshold, alignment_interval, meta_block_size, **kwds)\u001b[0m\n\u001b[1;32m    560\u001b[0m                                  \u001b[0mfs_persist\u001b[0m\u001b[0;34m=\u001b[0m\u001b[0mfs_persist\u001b[0m\u001b[0;34m,\u001b[0m \u001b[0mfs_threshold\u001b[0m\u001b[0;34m=\u001b[0m\u001b[0mfs_threshold\u001b[0m\u001b[0;34m,\u001b[0m\u001b[0;34m\u001b[0m\u001b[0;34m\u001b[0m\u001b[0m\n\u001b[1;32m    561\u001b[0m                                  fs_page_size=fs_page_size)\n\u001b[0;32m--> 562\u001b[0;31m                 \u001b[0mfid\u001b[0m \u001b[0;34m=\u001b[0m \u001b[0mmake_fid\u001b[0m\u001b[0;34m(\u001b[0m\u001b[0mname\u001b[0m\u001b[0;34m,\u001b[0m \u001b[0mmode\u001b[0m\u001b[0;34m,\u001b[0m \u001b[0muserblock_size\u001b[0m\u001b[0;34m,\u001b[0m \u001b[0mfapl\u001b[0m\u001b[0;34m,\u001b[0m \u001b[0mfcpl\u001b[0m\u001b[0;34m,\u001b[0m \u001b[0mswmr\u001b[0m\u001b[0;34m=\u001b[0m\u001b[0mswmr\u001b[0m\u001b[0;34m)\u001b[0m\u001b[0;34m\u001b[0m\u001b[0;34m\u001b[0m\u001b[0m\n\u001b[0m\u001b[1;32m    563\u001b[0m \u001b[0;34m\u001b[0m\u001b[0m\n\u001b[1;32m    564\u001b[0m             \u001b[0;32mif\u001b[0m \u001b[0misinstance\u001b[0m\u001b[0;34m(\u001b[0m\u001b[0mlibver\u001b[0m\u001b[0;34m,\u001b[0m \u001b[0mtuple\u001b[0m\u001b[0;34m)\u001b[0m\u001b[0;34m:\u001b[0m\u001b[0;34m\u001b[0m\u001b[0;34m\u001b[0m\u001b[0m\n",
            "\u001b[0;32m/usr/local/lib/python3.10/dist-packages/h5py/_hl/files.py\u001b[0m in \u001b[0;36mmake_fid\u001b[0;34m(name, mode, userblock_size, fapl, fcpl, swmr)\u001b[0m\n\u001b[1;32m    233\u001b[0m         \u001b[0;32mif\u001b[0m \u001b[0mswmr\u001b[0m \u001b[0;32mand\u001b[0m \u001b[0mswmr_support\u001b[0m\u001b[0;34m:\u001b[0m\u001b[0;34m\u001b[0m\u001b[0;34m\u001b[0m\u001b[0m\n\u001b[1;32m    234\u001b[0m             \u001b[0mflags\u001b[0m \u001b[0;34m|=\u001b[0m \u001b[0mh5f\u001b[0m\u001b[0;34m.\u001b[0m\u001b[0mACC_SWMR_READ\u001b[0m\u001b[0;34m\u001b[0m\u001b[0;34m\u001b[0m\u001b[0m\n\u001b[0;32m--> 235\u001b[0;31m         \u001b[0mfid\u001b[0m \u001b[0;34m=\u001b[0m \u001b[0mh5f\u001b[0m\u001b[0;34m.\u001b[0m\u001b[0mopen\u001b[0m\u001b[0;34m(\u001b[0m\u001b[0mname\u001b[0m\u001b[0;34m,\u001b[0m \u001b[0mflags\u001b[0m\u001b[0;34m,\u001b[0m \u001b[0mfapl\u001b[0m\u001b[0;34m=\u001b[0m\u001b[0mfapl\u001b[0m\u001b[0;34m)\u001b[0m\u001b[0;34m\u001b[0m\u001b[0;34m\u001b[0m\u001b[0m\n\u001b[0m\u001b[1;32m    236\u001b[0m     \u001b[0;32melif\u001b[0m \u001b[0mmode\u001b[0m \u001b[0;34m==\u001b[0m \u001b[0;34m'r+'\u001b[0m\u001b[0;34m:\u001b[0m\u001b[0;34m\u001b[0m\u001b[0;34m\u001b[0m\u001b[0m\n\u001b[1;32m    237\u001b[0m         \u001b[0mfid\u001b[0m \u001b[0;34m=\u001b[0m \u001b[0mh5f\u001b[0m\u001b[0;34m.\u001b[0m\u001b[0mopen\u001b[0m\u001b[0;34m(\u001b[0m\u001b[0mname\u001b[0m\u001b[0;34m,\u001b[0m \u001b[0mh5f\u001b[0m\u001b[0;34m.\u001b[0m\u001b[0mACC_RDWR\u001b[0m\u001b[0;34m,\u001b[0m \u001b[0mfapl\u001b[0m\u001b[0;34m=\u001b[0m\u001b[0mfapl\u001b[0m\u001b[0;34m)\u001b[0m\u001b[0;34m\u001b[0m\u001b[0;34m\u001b[0m\u001b[0m\n",
            "\u001b[0;32mh5py/_objects.pyx\u001b[0m in \u001b[0;36mh5py._objects.with_phil.wrapper\u001b[0;34m()\u001b[0m\n",
            "\u001b[0;32mh5py/_objects.pyx\u001b[0m in \u001b[0;36mh5py._objects.with_phil.wrapper\u001b[0;34m()\u001b[0m\n",
            "\u001b[0;32mh5py/h5f.pyx\u001b[0m in \u001b[0;36mh5py.h5f.open\u001b[0;34m()\u001b[0m\n",
            "\u001b[0;31mFileNotFoundError\u001b[0m: [Errno 2] Unable to synchronously open file (unable to open file: name = 'next_word_prediction_model.h5', errno = 2, error message = 'No such file or directory', flags = 0, o_flags = 0)"
          ]
        }
      ]
    },
    {
      "cell_type": "markdown",
      "source": [],
      "metadata": {
        "id": "wrZrX_r6j_XW"
      }
    },
    {
      "cell_type": "markdown",
      "source": [
        "<a name=\"new\"></a>\n",
        "# Predicting next word of title"
      ],
      "metadata": {
        "id": "pWrbUfgrZ05o"
      }
    },
    {
      "cell_type": "code",
      "source": [
        "pip install --upgrade tensorflow keras"
      ],
      "metadata": {
        "execution": {
          "iopub.status.busy": "2021-08-15T06:22:51.380501Z",
          "iopub.execute_input": "2021-08-15T06:22:51.380838Z",
          "iopub.status.idle": "2021-08-15T06:22:52.015269Z",
          "shell.execute_reply.started": "2021-08-15T06:22:51.380802Z",
          "shell.execute_reply": "2021-08-15T06:22:52.014289Z"
        },
        "trusted": true,
        "id": "hsKmrn9LZ05o"
      },
      "execution_count": null,
      "outputs": []
    }
  ]
}
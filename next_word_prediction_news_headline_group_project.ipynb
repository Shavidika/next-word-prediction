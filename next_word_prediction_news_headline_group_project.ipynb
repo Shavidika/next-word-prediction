{
  "cells": [
    {
      "cell_type": "markdown",
      "metadata": {
        "id": "view-in-github",
        "colab_type": "text"
      },
      "source": [
        "<a href=\"https://colab.research.google.com/github/Shavidika/next-word-prediction/blob/Bawantha/next_word_prediction_news_headline_group_project.ipynb\" target=\"_parent\"><img src=\"https://colab.research.google.com/assets/colab-badge.svg\" alt=\"Open In Colab\"/></a>"
      ]
    },
    {
      "cell_type": "markdown",
      "id": "literature-survey",
      "metadata": {
        "id": "literature-survey"
      },
      "source": [
        "# Literature Survey\n",
        "\n",
        "Next-word prediction is a key task in natural language processing that involves predicting the next word in a sentence based on the preceding words. This project aims to develop a next-word prediction model using state-of-the-art deep learning techniques. The model will be built using Recurrent Neural Networks (RNNs) and their advanced variant, Long Short-Term Memory (LSTM) networks, known for their ability to capture long-term dependencies in text.By training these models on large text datasets, we aim to achieve high accuracy in predicting the next word, making the model useful for applications such as text completion, chatbots, and virtual assistants. The project will involve data preprocessing, model implementation, training, evaluation, and fine-tuning to optimize performance."
      ]
    },
    {
      "cell_type": "markdown",
      "id": "dataset-description",
      "metadata": {
        "id": "dataset-description"
      },
      "source": [
        "# Dataset Description\n",
        "\n",
        "The dataset used in this project is sourced from Kaggle and contains news headlines from the month of March 2018.\n",
        "The dataset provides a rich source of textual data suitable for training a next-word prediction model.\n",
        "Each record in the dataset represents a single news headline."
      ]
    },
    {
      "cell_type": "markdown",
      "source": [],
      "metadata": {
        "id": "9klyTpUH5kBJ"
      },
      "id": "9klyTpUH5kBJ"
    },
    {
      "cell_type": "code",
      "execution_count": 220,
      "id": "import-libraries",
      "metadata": {
        "id": "import-libraries"
      },
      "outputs": [],
      "source": [
        "\n",
        "\n",
        "import pandas as pd\n",
        "import os\n",
        "import numpy as np\n",
        "\n",
        "import tensorflow as tf\n",
        "from tensorflow.keras.preprocessing.sequence import pad_sequences\n",
        "from tensorflow.keras.layers import Embedding, LSTM, Dense, Bidirectional\n",
        "from tensorflow.keras.preprocessing.text import Tokenizer\n",
        "from tensorflow.keras.models import Sequential\n",
        "from tensorflow.keras.optimizers import Adam"
      ]
    },
    {
      "cell_type": "markdown",
      "id": "zDa185doCyWk",
      "metadata": {
        "id": "zDa185doCyWk"
      },
      "source": [
        "### Install opendatasets and download the dataset"
      ]
    },
    {
      "cell_type": "code",
      "execution_count": 221,
      "id": "load-dataset",
      "metadata": {
        "id": "load-dataset"
      },
      "outputs": [],
      "source": [
        "!pip install opendatasets -q\n",
        "import opendatasets as od"
      ]
    },
    {
      "cell_type": "markdown",
      "id": "VIC3j3Q3C2qz",
      "metadata": {
        "id": "VIC3j3Q3C2qz"
      },
      "source": [
        "### Download the dataset"
      ]
    },
    {
      "cell_type": "code",
      "execution_count": 222,
      "id": "bGjeFfZa-u8-",
      "metadata": {
        "colab": {
          "base_uri": "https://localhost:8080/"
        },
        "id": "bGjeFfZa-u8-",
        "outputId": "79193c56-9cf4-4725-b071-8a9e505536ed"
      },
      "outputs": [
        {
          "output_type": "stream",
          "name": "stdout",
          "text": [
            "Skipping, found downloaded files in \"./news-headlines\" (use force=True to force download)\n"
          ]
        }
      ],
      "source": [
        "od.download(\"https://www.kaggle.com/datasets/manishguptads/news-headlines/code\")"
      ]
    },
    {
      "cell_type": "markdown",
      "id": "B0m6UQYYDKgx",
      "metadata": {
        "id": "B0m6UQYYDKgx"
      },
      "source": [
        "### Load the dataset"
      ]
    },
    {
      "cell_type": "code",
      "execution_count": 223,
      "id": "exploratory-data-analysis",
      "metadata": {
        "colab": {
          "base_uri": "https://localhost:8080/",
          "height": 643
        },
        "id": "exploratory-data-analysis",
        "outputId": "90b5b9d3-3cfe-4088-f3d0-e2f0fba820bf"
      },
      "outputs": [
        {
          "output_type": "execute_result",
          "data": {
            "text/plain": [
              "                  articleID                                        byline  \\\n",
              "0  5a974697410cf7000162e8a4                         By BINYAMIN APPELBAUM   \n",
              "1  5a974be7410cf7000162e8af             By HELENE COOPER and ERIC SCHMITT   \n",
              "2  5a9752a2410cf7000162e8ba                        By THE EDITORIAL BOARD   \n",
              "3  5a975310410cf7000162e8bd                        By JAVIER C. HERNÁNDEZ   \n",
              "4  5a975406410cf7000162e8c3  By JESSE DRUCKER, KATE KELLY and BEN PROTESS   \n",
              "\n",
              "  documentType                                           headline  \\\n",
              "0      article                      Virtual Coins, Real Resources   \n",
              "1      article       U.S. Advances Military Plans for North Korea   \n",
              "2      article                 Mr. Trump and the ‘Very Bad Judge’   \n",
              "3      article     To Erase Dissent, China Bans Pooh Bear and ‘N’   \n",
              "4      article  Loans Flowed to Kushner Cos. After Visits to t...   \n",
              "\n",
              "                                            keywords  multimedia     newDesk  \\\n",
              "0  ['Bitcoin (Currency)', 'Electric Light and Pow...           1    Business   \n",
              "1  ['United States Defense and Military Forces', ...           1  Washington   \n",
              "2  ['Trump, Donald J', 'Curiel, Gonzalo P', 'Unit...           1   Editorial   \n",
              "3  ['China', 'Xi Jinping', 'Term Limits (Politica...           1     Foreign   \n",
              "4  ['Kushner, Jared', 'Kushner Cos', 'United Stat...           1    Business   \n",
              "\n",
              "   printPage           pubDate   sectionName  \\\n",
              "0          1  01-03-2018 00:17       Economy   \n",
              "1         11  01-03-2018 00:40  Asia Pacific   \n",
              "2         26  01-03-2018 01:08       Unknown   \n",
              "3          1  01-03-2018 01:10  Asia Pacific   \n",
              "4          1  01-03-2018 01:14       Unknown   \n",
              "\n",
              "                                             snippet              source  \\\n",
              "0  America has a productivity problem. One explan...  The New York Times   \n",
              "1  The American military is looking at everything...  The New York Times   \n",
              "2  Can you guess which man is the model public se...  The New York Times   \n",
              "3  Censors swung into action after Mr. Xi’s bid t...  The New York Times   \n",
              "4  Apollo, the private equity firm, and Citigroup...  The New York Times   \n",
              "\n",
              "  typeOfMaterial                                             webURL  \\\n",
              "0           News  https://www.nytimes.com/2018/02/28/business/ec...   \n",
              "1           News  https://www.nytimes.com/2018/02/28/world/asia/...   \n",
              "2      Editorial  https://www.nytimes.com/2018/02/28/opinion/tru...   \n",
              "3           News  https://www.nytimes.com/2018/02/28/world/asia/...   \n",
              "4           News  https://www.nytimes.com/2018/02/28/business/ja...   \n",
              "\n",
              "   articleWordCount  \n",
              "0              1207  \n",
              "1              1215  \n",
              "2              1043  \n",
              "3              1315  \n",
              "4              1566  "
            ],
            "text/html": [
              "\n",
              "  <div id=\"df-1a6c0784-4dd6-4d86-9fb9-e7854ca0cc8f\" class=\"colab-df-container\">\n",
              "    <div>\n",
              "<style scoped>\n",
              "    .dataframe tbody tr th:only-of-type {\n",
              "        vertical-align: middle;\n",
              "    }\n",
              "\n",
              "    .dataframe tbody tr th {\n",
              "        vertical-align: top;\n",
              "    }\n",
              "\n",
              "    .dataframe thead th {\n",
              "        text-align: right;\n",
              "    }\n",
              "</style>\n",
              "<table border=\"1\" class=\"dataframe\">\n",
              "  <thead>\n",
              "    <tr style=\"text-align: right;\">\n",
              "      <th></th>\n",
              "      <th>articleID</th>\n",
              "      <th>byline</th>\n",
              "      <th>documentType</th>\n",
              "      <th>headline</th>\n",
              "      <th>keywords</th>\n",
              "      <th>multimedia</th>\n",
              "      <th>newDesk</th>\n",
              "      <th>printPage</th>\n",
              "      <th>pubDate</th>\n",
              "      <th>sectionName</th>\n",
              "      <th>snippet</th>\n",
              "      <th>source</th>\n",
              "      <th>typeOfMaterial</th>\n",
              "      <th>webURL</th>\n",
              "      <th>articleWordCount</th>\n",
              "    </tr>\n",
              "  </thead>\n",
              "  <tbody>\n",
              "    <tr>\n",
              "      <th>0</th>\n",
              "      <td>5a974697410cf7000162e8a4</td>\n",
              "      <td>By BINYAMIN APPELBAUM</td>\n",
              "      <td>article</td>\n",
              "      <td>Virtual Coins, Real Resources</td>\n",
              "      <td>['Bitcoin (Currency)', 'Electric Light and Pow...</td>\n",
              "      <td>1</td>\n",
              "      <td>Business</td>\n",
              "      <td>1</td>\n",
              "      <td>01-03-2018 00:17</td>\n",
              "      <td>Economy</td>\n",
              "      <td>America has a productivity problem. One explan...</td>\n",
              "      <td>The New York Times</td>\n",
              "      <td>News</td>\n",
              "      <td>https://www.nytimes.com/2018/02/28/business/ec...</td>\n",
              "      <td>1207</td>\n",
              "    </tr>\n",
              "    <tr>\n",
              "      <th>1</th>\n",
              "      <td>5a974be7410cf7000162e8af</td>\n",
              "      <td>By HELENE COOPER and ERIC SCHMITT</td>\n",
              "      <td>article</td>\n",
              "      <td>U.S. Advances Military Plans for North Korea</td>\n",
              "      <td>['United States Defense and Military Forces', ...</td>\n",
              "      <td>1</td>\n",
              "      <td>Washington</td>\n",
              "      <td>11</td>\n",
              "      <td>01-03-2018 00:40</td>\n",
              "      <td>Asia Pacific</td>\n",
              "      <td>The American military is looking at everything...</td>\n",
              "      <td>The New York Times</td>\n",
              "      <td>News</td>\n",
              "      <td>https://www.nytimes.com/2018/02/28/world/asia/...</td>\n",
              "      <td>1215</td>\n",
              "    </tr>\n",
              "    <tr>\n",
              "      <th>2</th>\n",
              "      <td>5a9752a2410cf7000162e8ba</td>\n",
              "      <td>By THE EDITORIAL BOARD</td>\n",
              "      <td>article</td>\n",
              "      <td>Mr. Trump and the ‘Very Bad Judge’</td>\n",
              "      <td>['Trump, Donald J', 'Curiel, Gonzalo P', 'Unit...</td>\n",
              "      <td>1</td>\n",
              "      <td>Editorial</td>\n",
              "      <td>26</td>\n",
              "      <td>01-03-2018 01:08</td>\n",
              "      <td>Unknown</td>\n",
              "      <td>Can you guess which man is the model public se...</td>\n",
              "      <td>The New York Times</td>\n",
              "      <td>Editorial</td>\n",
              "      <td>https://www.nytimes.com/2018/02/28/opinion/tru...</td>\n",
              "      <td>1043</td>\n",
              "    </tr>\n",
              "    <tr>\n",
              "      <th>3</th>\n",
              "      <td>5a975310410cf7000162e8bd</td>\n",
              "      <td>By JAVIER C. HERNÁNDEZ</td>\n",
              "      <td>article</td>\n",
              "      <td>To Erase Dissent, China Bans Pooh Bear and ‘N’</td>\n",
              "      <td>['China', 'Xi Jinping', 'Term Limits (Politica...</td>\n",
              "      <td>1</td>\n",
              "      <td>Foreign</td>\n",
              "      <td>1</td>\n",
              "      <td>01-03-2018 01:10</td>\n",
              "      <td>Asia Pacific</td>\n",
              "      <td>Censors swung into action after Mr. Xi’s bid t...</td>\n",
              "      <td>The New York Times</td>\n",
              "      <td>News</td>\n",
              "      <td>https://www.nytimes.com/2018/02/28/world/asia/...</td>\n",
              "      <td>1315</td>\n",
              "    </tr>\n",
              "    <tr>\n",
              "      <th>4</th>\n",
              "      <td>5a975406410cf7000162e8c3</td>\n",
              "      <td>By JESSE DRUCKER, KATE KELLY and BEN PROTESS</td>\n",
              "      <td>article</td>\n",
              "      <td>Loans Flowed to Kushner Cos. After Visits to t...</td>\n",
              "      <td>['Kushner, Jared', 'Kushner Cos', 'United Stat...</td>\n",
              "      <td>1</td>\n",
              "      <td>Business</td>\n",
              "      <td>1</td>\n",
              "      <td>01-03-2018 01:14</td>\n",
              "      <td>Unknown</td>\n",
              "      <td>Apollo, the private equity firm, and Citigroup...</td>\n",
              "      <td>The New York Times</td>\n",
              "      <td>News</td>\n",
              "      <td>https://www.nytimes.com/2018/02/28/business/ja...</td>\n",
              "      <td>1566</td>\n",
              "    </tr>\n",
              "  </tbody>\n",
              "</table>\n",
              "</div>\n",
              "    <div class=\"colab-df-buttons\">\n",
              "\n",
              "  <div class=\"colab-df-container\">\n",
              "    <button class=\"colab-df-convert\" onclick=\"convertToInteractive('df-1a6c0784-4dd6-4d86-9fb9-e7854ca0cc8f')\"\n",
              "            title=\"Convert this dataframe to an interactive table.\"\n",
              "            style=\"display:none;\">\n",
              "\n",
              "  <svg xmlns=\"http://www.w3.org/2000/svg\" height=\"24px\" viewBox=\"0 -960 960 960\">\n",
              "    <path d=\"M120-120v-720h720v720H120Zm60-500h600v-160H180v160Zm220 220h160v-160H400v160Zm0 220h160v-160H400v160ZM180-400h160v-160H180v160Zm440 0h160v-160H620v160ZM180-180h160v-160H180v160Zm440 0h160v-160H620v160Z\"/>\n",
              "  </svg>\n",
              "    </button>\n",
              "\n",
              "  <style>\n",
              "    .colab-df-container {\n",
              "      display:flex;\n",
              "      gap: 12px;\n",
              "    }\n",
              "\n",
              "    .colab-df-convert {\n",
              "      background-color: #E8F0FE;\n",
              "      border: none;\n",
              "      border-radius: 50%;\n",
              "      cursor: pointer;\n",
              "      display: none;\n",
              "      fill: #1967D2;\n",
              "      height: 32px;\n",
              "      padding: 0 0 0 0;\n",
              "      width: 32px;\n",
              "    }\n",
              "\n",
              "    .colab-df-convert:hover {\n",
              "      background-color: #E2EBFA;\n",
              "      box-shadow: 0px 1px 2px rgba(60, 64, 67, 0.3), 0px 1px 3px 1px rgba(60, 64, 67, 0.15);\n",
              "      fill: #174EA6;\n",
              "    }\n",
              "\n",
              "    .colab-df-buttons div {\n",
              "      margin-bottom: 4px;\n",
              "    }\n",
              "\n",
              "    [theme=dark] .colab-df-convert {\n",
              "      background-color: #3B4455;\n",
              "      fill: #D2E3FC;\n",
              "    }\n",
              "\n",
              "    [theme=dark] .colab-df-convert:hover {\n",
              "      background-color: #434B5C;\n",
              "      box-shadow: 0px 1px 3px 1px rgba(0, 0, 0, 0.15);\n",
              "      filter: drop-shadow(0px 1px 2px rgba(0, 0, 0, 0.3));\n",
              "      fill: #FFFFFF;\n",
              "    }\n",
              "  </style>\n",
              "\n",
              "    <script>\n",
              "      const buttonEl =\n",
              "        document.querySelector('#df-1a6c0784-4dd6-4d86-9fb9-e7854ca0cc8f button.colab-df-convert');\n",
              "      buttonEl.style.display =\n",
              "        google.colab.kernel.accessAllowed ? 'block' : 'none';\n",
              "\n",
              "      async function convertToInteractive(key) {\n",
              "        const element = document.querySelector('#df-1a6c0784-4dd6-4d86-9fb9-e7854ca0cc8f');\n",
              "        const dataTable =\n",
              "          await google.colab.kernel.invokeFunction('convertToInteractive',\n",
              "                                                    [key], {});\n",
              "        if (!dataTable) return;\n",
              "\n",
              "        const docLinkHtml = 'Like what you see? Visit the ' +\n",
              "          '<a target=\"_blank\" href=https://colab.research.google.com/notebooks/data_table.ipynb>data table notebook</a>'\n",
              "          + ' to learn more about interactive tables.';\n",
              "        element.innerHTML = '';\n",
              "        dataTable['output_type'] = 'display_data';\n",
              "        await google.colab.output.renderOutput(dataTable, element);\n",
              "        const docLink = document.createElement('div');\n",
              "        docLink.innerHTML = docLinkHtml;\n",
              "        element.appendChild(docLink);\n",
              "      }\n",
              "    </script>\n",
              "  </div>\n",
              "\n",
              "\n",
              "<div id=\"df-c32d10e4-afa6-4fee-94ef-3756351e35c8\">\n",
              "  <button class=\"colab-df-quickchart\" onclick=\"quickchart('df-c32d10e4-afa6-4fee-94ef-3756351e35c8')\"\n",
              "            title=\"Suggest charts\"\n",
              "            style=\"display:none;\">\n",
              "\n",
              "<svg xmlns=\"http://www.w3.org/2000/svg\" height=\"24px\"viewBox=\"0 0 24 24\"\n",
              "     width=\"24px\">\n",
              "    <g>\n",
              "        <path d=\"M19 3H5c-1.1 0-2 .9-2 2v14c0 1.1.9 2 2 2h14c1.1 0 2-.9 2-2V5c0-1.1-.9-2-2-2zM9 17H7v-7h2v7zm4 0h-2V7h2v10zm4 0h-2v-4h2v4z\"/>\n",
              "    </g>\n",
              "</svg>\n",
              "  </button>\n",
              "\n",
              "<style>\n",
              "  .colab-df-quickchart {\n",
              "      --bg-color: #E8F0FE;\n",
              "      --fill-color: #1967D2;\n",
              "      --hover-bg-color: #E2EBFA;\n",
              "      --hover-fill-color: #174EA6;\n",
              "      --disabled-fill-color: #AAA;\n",
              "      --disabled-bg-color: #DDD;\n",
              "  }\n",
              "\n",
              "  [theme=dark] .colab-df-quickchart {\n",
              "      --bg-color: #3B4455;\n",
              "      --fill-color: #D2E3FC;\n",
              "      --hover-bg-color: #434B5C;\n",
              "      --hover-fill-color: #FFFFFF;\n",
              "      --disabled-bg-color: #3B4455;\n",
              "      --disabled-fill-color: #666;\n",
              "  }\n",
              "\n",
              "  .colab-df-quickchart {\n",
              "    background-color: var(--bg-color);\n",
              "    border: none;\n",
              "    border-radius: 50%;\n",
              "    cursor: pointer;\n",
              "    display: none;\n",
              "    fill: var(--fill-color);\n",
              "    height: 32px;\n",
              "    padding: 0;\n",
              "    width: 32px;\n",
              "  }\n",
              "\n",
              "  .colab-df-quickchart:hover {\n",
              "    background-color: var(--hover-bg-color);\n",
              "    box-shadow: 0 1px 2px rgba(60, 64, 67, 0.3), 0 1px 3px 1px rgba(60, 64, 67, 0.15);\n",
              "    fill: var(--button-hover-fill-color);\n",
              "  }\n",
              "\n",
              "  .colab-df-quickchart-complete:disabled,\n",
              "  .colab-df-quickchart-complete:disabled:hover {\n",
              "    background-color: var(--disabled-bg-color);\n",
              "    fill: var(--disabled-fill-color);\n",
              "    box-shadow: none;\n",
              "  }\n",
              "\n",
              "  .colab-df-spinner {\n",
              "    border: 2px solid var(--fill-color);\n",
              "    border-color: transparent;\n",
              "    border-bottom-color: var(--fill-color);\n",
              "    animation:\n",
              "      spin 1s steps(1) infinite;\n",
              "  }\n",
              "\n",
              "  @keyframes spin {\n",
              "    0% {\n",
              "      border-color: transparent;\n",
              "      border-bottom-color: var(--fill-color);\n",
              "      border-left-color: var(--fill-color);\n",
              "    }\n",
              "    20% {\n",
              "      border-color: transparent;\n",
              "      border-left-color: var(--fill-color);\n",
              "      border-top-color: var(--fill-color);\n",
              "    }\n",
              "    30% {\n",
              "      border-color: transparent;\n",
              "      border-left-color: var(--fill-color);\n",
              "      border-top-color: var(--fill-color);\n",
              "      border-right-color: var(--fill-color);\n",
              "    }\n",
              "    40% {\n",
              "      border-color: transparent;\n",
              "      border-right-color: var(--fill-color);\n",
              "      border-top-color: var(--fill-color);\n",
              "    }\n",
              "    60% {\n",
              "      border-color: transparent;\n",
              "      border-right-color: var(--fill-color);\n",
              "    }\n",
              "    80% {\n",
              "      border-color: transparent;\n",
              "      border-right-color: var(--fill-color);\n",
              "      border-bottom-color: var(--fill-color);\n",
              "    }\n",
              "    90% {\n",
              "      border-color: transparent;\n",
              "      border-bottom-color: var(--fill-color);\n",
              "    }\n",
              "  }\n",
              "</style>\n",
              "\n",
              "  <script>\n",
              "    async function quickchart(key) {\n",
              "      const quickchartButtonEl =\n",
              "        document.querySelector('#' + key + ' button');\n",
              "      quickchartButtonEl.disabled = true;  // To prevent multiple clicks.\n",
              "      quickchartButtonEl.classList.add('colab-df-spinner');\n",
              "      try {\n",
              "        const charts = await google.colab.kernel.invokeFunction(\n",
              "            'suggestCharts', [key], {});\n",
              "      } catch (error) {\n",
              "        console.error('Error during call to suggestCharts:', error);\n",
              "      }\n",
              "      quickchartButtonEl.classList.remove('colab-df-spinner');\n",
              "      quickchartButtonEl.classList.add('colab-df-quickchart-complete');\n",
              "    }\n",
              "    (() => {\n",
              "      let quickchartButtonEl =\n",
              "        document.querySelector('#df-c32d10e4-afa6-4fee-94ef-3756351e35c8 button');\n",
              "      quickchartButtonEl.style.display =\n",
              "        google.colab.kernel.accessAllowed ? 'block' : 'none';\n",
              "    })();\n",
              "  </script>\n",
              "</div>\n",
              "\n",
              "    </div>\n",
              "  </div>\n"
            ],
            "application/vnd.google.colaboratory.intrinsic+json": {
              "type": "dataframe",
              "variable_name": "news",
              "summary": "{\n  \"name\": \"news\",\n  \"rows\": 1385,\n  \"fields\": [\n    {\n      \"column\": \"articleID\",\n      \"properties\": {\n        \"dtype\": \"string\",\n        \"num_unique_values\": 1385,\n        \"samples\": [\n          \"5ab96d8c47de81a9012178f2\",\n          \"5a9ebea6410cf7000162f1ad\",\n          \"5a9d56d947de81a90120a42c\"\n        ],\n        \"semantic_type\": \"\",\n        \"description\": \"\"\n      }\n    },\n    {\n      \"column\": \"byline\",\n      \"properties\": {\n        \"dtype\": \"string\",\n        \"num_unique_values\": 783,\n        \"samples\": [\n          \"By MARK LANDLER and JIM TANKERSLEY\",\n          \"By TAMMY La GORCE\",\n          \"By JAN RANSOM\"\n        ],\n        \"semantic_type\": \"\",\n        \"description\": \"\"\n      }\n    },\n    {\n      \"column\": \"documentType\",\n      \"properties\": {\n        \"dtype\": \"category\",\n        \"num_unique_values\": 1,\n        \"samples\": [\n          \"article\"\n        ],\n        \"semantic_type\": \"\",\n        \"description\": \"\"\n      }\n    },\n    {\n      \"column\": \"headline\",\n      \"properties\": {\n        \"dtype\": \"string\",\n        \"num_unique_values\": 1246,\n        \"samples\": [\n          \"Celebrity Challenge to Cuomo  Cites Inequality and the M.T.A.\"\n        ],\n        \"semantic_type\": \"\",\n        \"description\": \"\"\n      }\n    },\n    {\n      \"column\": \"keywords\",\n      \"properties\": {\n        \"dtype\": \"string\",\n        \"num_unique_values\": 1237,\n        \"samples\": [\n          \"['United States Politics and Government', 'China', 'International Trade and World Market', 'Trump, Donald J', 'Lighthizer, Robert E', 'Customs (Tariff)']\"\n        ],\n        \"semantic_type\": \"\",\n        \"description\": \"\"\n      }\n    },\n    {\n      \"column\": \"multimedia\",\n      \"properties\": {\n        \"dtype\": \"number\",\n        \"std\": 0,\n        \"min\": 0,\n        \"max\": 1,\n        \"num_unique_values\": 2,\n        \"samples\": [\n          0\n        ],\n        \"semantic_type\": \"\",\n        \"description\": \"\"\n      }\n    },\n    {\n      \"column\": \"newDesk\",\n      \"properties\": {\n        \"dtype\": \"category\",\n        \"num_unique_values\": 38,\n        \"samples\": [\n          \"Investigative\"\n        ],\n        \"semantic_type\": \"\",\n        \"description\": \"\"\n      }\n    },\n    {\n      \"column\": \"printPage\",\n      \"properties\": {\n        \"dtype\": \"number\",\n        \"std\": 9,\n        \"min\": 0,\n        \"max\": 115,\n        \"num_unique_values\": 40,\n        \"samples\": [\n          5\n        ],\n        \"semantic_type\": \"\",\n        \"description\": \"\"\n      }\n    },\n    {\n      \"column\": \"pubDate\",\n      \"properties\": {\n        \"dtype\": \"string\",\n        \"num_unique_values\": 1092,\n        \"samples\": [\n          \"14-03-2018 16:49\"\n        ],\n        \"semantic_type\": \"\",\n        \"description\": \"\"\n      }\n    },\n    {\n      \"column\": \"sectionName\",\n      \"properties\": {\n        \"dtype\": \"category\",\n        \"num_unique_values\": 38,\n        \"samples\": [\n          \"Energy & Environment \"\n        ],\n        \"semantic_type\": \"\",\n        \"description\": \"\"\n      }\n    },\n    {\n      \"column\": \"snippet\",\n      \"properties\": {\n        \"dtype\": \"string\",\n        \"num_unique_values\": 1369,\n        \"samples\": [\n          \"As readers turn the page, the portraits undergo an \\u2018interactive\\u2019 transformation that represents the mission of the section.\"\n        ],\n        \"semantic_type\": \"\",\n        \"description\": \"\"\n      }\n    },\n    {\n      \"column\": \"source\",\n      \"properties\": {\n        \"dtype\": \"category\",\n        \"num_unique_values\": 2,\n        \"samples\": [\n          \"International New York Times\"\n        ],\n        \"semantic_type\": \"\",\n        \"description\": \"\"\n      }\n    },\n    {\n      \"column\": \"typeOfMaterial\",\n      \"properties\": {\n        \"dtype\": \"category\",\n        \"num_unique_values\": 8,\n        \"samples\": [\n          \"Editorial\"\n        ],\n        \"semantic_type\": \"\",\n        \"description\": \"\"\n      }\n    },\n    {\n      \"column\": \"webURL\",\n      \"properties\": {\n        \"dtype\": \"string\",\n        \"num_unique_values\": 1385,\n        \"samples\": [\n          \"https://www.nytimes.com/2018/03/26/world/europe/russia-poisoning-expulsions.html\"\n        ],\n        \"semantic_type\": \"\",\n        \"description\": \"\"\n      }\n    },\n    {\n      \"column\": \"articleWordCount\",\n      \"properties\": {\n        \"dtype\": \"number\",\n        \"std\": 785,\n        \"min\": 55,\n        \"max\": 11491,\n        \"num_unique_values\": 944,\n        \"samples\": [\n          970\n        ],\n        \"semantic_type\": \"\",\n        \"description\": \"\"\n      }\n    }\n  ]\n}"
            }
          },
          "metadata": {},
          "execution_count": 223
        }
      ],
      "source": [
        "news = pd.read_csv(\"/content/news-headlines/ArticlesMarch2018.csv\")\n",
        "news.head()"
      ]
    },
    {
      "cell_type": "code",
      "execution_count": 224,
      "id": "number-of-records",
      "metadata": {
        "colab": {
          "base_uri": "https://localhost:8080/"
        },
        "id": "number-of-records",
        "outputId": "70c2e580-20b9-419a-b6f4-3129e6edf810"
      },
      "outputs": [
        {
          "output_type": "stream",
          "name": "stdout",
          "text": [
            "Number of records:  1385\n",
            "Number of fields:  15\n"
          ]
        }
      ],
      "source": [
        "print(\"Number of records: \", news.shape[0])\n",
        "print(\"Number of fields: \", news.shape[1])"
      ]
    },
    {
      "cell_type": "markdown",
      "source": [],
      "metadata": {
        "id": "ICJ67KPyQvwI"
      },
      "id": "ICJ67KPyQvwI"
    },
    {
      "cell_type": "markdown",
      "id": "qTi7Y7eO_DJJ",
      "metadata": {
        "id": "qTi7Y7eO_DJJ"
      },
      "source": [
        "# Exploratory Data Analysis\n",
        "\n",
        "Exploratory Data Analysis (EDA) involves analyzing the dataset to summarize its main characteristics, often using visual methods.\n",
        "For this dataset, we can explore the distribution of headline lengths, the most common words, and other relevant statistics.\n"
      ]
    },
    {
      "cell_type": "markdown",
      "id": "wuh6SvdrDUiv",
      "metadata": {
        "id": "wuh6SvdrDUiv"
      },
      "source": [
        "### Display the first few records and some basic statistics"
      ]
    },
    {
      "cell_type": "code",
      "execution_count": 225,
      "id": "headlines",
      "metadata": {
        "colab": {
          "base_uri": "https://localhost:8080/"
        },
        "id": "headlines",
        "outputId": "32ef9c4f-7a0d-479d-d4df-8b1f28b3ba61"
      },
      "outputs": [
        {
          "output_type": "stream",
          "name": "stdout",
          "text": [
            "0                        Virtual Coins, Real Resources\n",
            "1         U.S. Advances Military Plans for North Korea\n",
            "2                   Mr. Trump and the ‘Very Bad Judge’\n",
            "3       To Erase Dissent, China Bans Pooh Bear and ‘N’\n",
            "4    Loans Flowed to Kushner Cos. After Visits to t...\n",
            "Name: headline, dtype: object\n",
            "count        1385\n",
            "unique       1246\n",
            "top       Unknown\n",
            "freq          135\n",
            "Name: headline, dtype: object\n"
          ]
        }
      ],
      "source": [
        "print(news['headline'].head())\n",
        "print(news['headline'].describe())"
      ]
    },
    {
      "cell_type": "markdown",
      "id": "data-preprocessing",
      "metadata": {
        "id": "data-preprocessing"
      },
      "source": [
        "# Data Preprocessing\n",
        "\n",
        "Data preprocessing is a crucial step in preparing the data for model training.\n",
        "It includes tasks such as removing unwanted characters, tokenizing the text, and creating sequences of words for model input."
      ]
    },
    {
      "cell_type": "markdown",
      "id": "G0QXaIaZ_ZZf",
      "metadata": {
        "id": "G0QXaIaZ_ZZf"
      },
      "source": [
        "### Data cleaning"
      ]
    },
    {
      "cell_type": "code",
      "execution_count": 226,
      "id": "clean-headlines",
      "metadata": {
        "id": "clean-headlines"
      },
      "outputs": [],
      "source": [
        "news['headline'] = news['headline'].apply(lambda x: x.replace(u'\\xa0',u' '))\n",
        "news['headline'] = news['headline'].apply(lambda x: x.replace('\\u200a',' '))"
      ]
    },
    {
      "cell_type": "markdown",
      "id": "kbeNUL56_p3c",
      "metadata": {
        "id": "kbeNUL56_p3c"
      },
      "source": [
        "### Tokenization"
      ]
    },
    {
      "cell_type": "markdown",
      "source": [],
      "metadata": {
        "id": "x5jMr5gslPbX"
      },
      "id": "x5jMr5gslPbX"
    },
    {
      "cell_type": "code",
      "execution_count": 247,
      "id": "tokenizer",
      "metadata": {
        "colab": {
          "base_uri": "https://localhost:8080/"
        },
        "id": "tokenizer",
        "outputId": "08b84334-f182-4caf-9b40-b46b9d6b1c39"
      },
      "outputs": [
        {
          "output_type": "stream",
          "name": "stdout",
          "text": [
            "Total number of words:  3693\n",
            "Word: ID\n",
            "------------\n",
            "<oov>:  1\n",
            "Strong:  3069\n",
            "And:  7\n"
          ]
        }
      ],
      "source": [
        "tokenizer = Tokenizer(oov_token='<oov>') # For those words which are not found in word_index\n",
        "tokenizer.fit_on_texts(news['headline'])\n",
        "\n",
        "tokenizer_json = tokenizer.to_json()\n",
        "with open('tokenizer_news_headline_group_project.json', 'w') as file:\n",
        "    file.write(tokenizer_json)\n",
        "\n",
        "total_words = len(tokenizer.word_index) + 1\n",
        "\n",
        "print(\"Total number of words: \", total_words)\n",
        "print(\"Word: ID\")\n",
        "print(\"------------\")\n",
        "print(\"<oov>: \", tokenizer.word_index['<oov>'])\n",
        "print(\"Strong: \", tokenizer.word_index['strong'])\n",
        "print(\"And: \", tokenizer.word_index['and'])"
      ]
    },
    {
      "cell_type": "markdown",
      "id": "yzrkz2dS_w63",
      "metadata": {
        "id": "yzrkz2dS_w63"
      },
      "source": [
        "### Creating sequences of words"
      ]
    },
    {
      "cell_type": "code",
      "execution_count": 228,
      "id": "create-sequences",
      "metadata": {
        "colab": {
          "base_uri": "https://localhost:8080/"
        },
        "id": "create-sequences",
        "outputId": "8ba5b14a-071e-46ee-c9f5-8185348a4945"
      },
      "outputs": [
        {
          "output_type": "stream",
          "name": "stdout",
          "text": [
            "Total input sequences:  8290\n"
          ]
        }
      ],
      "source": [
        "input_sequences = []\n",
        "for line in news['headline']:\n",
        "    token_list = tokenizer.texts_to_sequences([line])[0]\n",
        "    for i in range(1, len(token_list)):\n",
        "        n_gram_sequence = token_list[:i+1]\n",
        "        input_sequences.append(n_gram_sequence)\n",
        "\n",
        "print(\"Total input sequences: \", len(input_sequences))"
      ]
    },
    {
      "cell_type": "markdown",
      "id": "ha3K91ll__IK",
      "metadata": {
        "id": "ha3K91ll__IK"
      },
      "source": [
        "### Pad sequences"
      ]
    },
    {
      "cell_type": "code",
      "execution_count": 229,
      "id": "pad-sequences",
      "metadata": {
        "colab": {
          "base_uri": "https://localhost:8080/"
        },
        "id": "pad-sequences",
        "outputId": "59c30c4b-8da5-4e58-97d9-abdfdb2c4aeb"
      },
      "outputs": [
        {
          "output_type": "execute_result",
          "data": {
            "text/plain": [
              "array([   0,    0,    0,    0,    0,    0,    0,    0,    0,    0,    0,\n",
              "          0,    0,    0,    0,    0, 1150, 1151,  126], dtype=int32)"
            ]
          },
          "metadata": {},
          "execution_count": 229
        }
      ],
      "source": [
        "max_sequence_len = max([len(x) for x in input_sequences])\n",
        "input_sequences = np.array(pad_sequences(input_sequences, maxlen=max_sequence_len, padding='pre'))\n",
        "input_sequences[1]"
      ]
    },
    {
      "cell_type": "markdown",
      "id": "xKlNLSS6AEgP",
      "metadata": {
        "id": "xKlNLSS6AEgP"
      },
      "source": [
        "### Create features and label"
      ]
    },
    {
      "cell_type": "code",
      "execution_count": 230,
      "id": "create-features-labels",
      "metadata": {
        "id": "create-features-labels"
      },
      "outputs": [],
      "source": [
        "xs, labels = input_sequences[:,:-1],input_sequences[:,-1]\n",
        "ys = tf.keras.utils.to_categorical(labels, num_classes=total_words)"
      ]
    },
    {
      "cell_type": "code",
      "execution_count": 231,
      "id": "print-features-labels",
      "metadata": {
        "colab": {
          "base_uri": "https://localhost:8080/"
        },
        "id": "print-features-labels",
        "outputId": "6ef7c91a-08d3-4926-c005-6be6176e3d9c"
      },
      "outputs": [
        {
          "output_type": "stream",
          "name": "stdout",
          "text": [
            "[   0    0    0    0    0    0    0    0    0    0    0    0    0    0\n",
            "    0   24   34 1153]\n",
            "614\n",
            "0.0\n"
          ]
        }
      ],
      "source": [
        "print(xs[5])\n",
        "print(labels[5])\n",
        "print(ys[5][14])"
      ]
    },
    {
      "cell_type": "markdown",
      "id": "model-implementation",
      "metadata": {
        "id": "model-implementation"
      },
      "source": [
        "# Model Implementation\n",
        "In this section, we implement the model for next-word prediction.\n",
        "We use a Bidirectional LSTM model with an Embedding layer and a Dense layer with a softmax activation function."
      ]
    },
    {
      "cell_type": "markdown",
      "id": "uyjhrGvmAS6z",
      "metadata": {
        "id": "uyjhrGvmAS6z"
      },
      "source": [
        "### Define the model"
      ]
    },
    {
      "cell_type": "code",
      "execution_count": 232,
      "id": "define-model",
      "metadata": {
        "id": "define-model",
        "colab": {
          "base_uri": "https://localhost:8080/"
        },
        "outputId": "56701b88-b403-4944-8e17-79b9d55a30a1"
      },
      "outputs": [
        {
          "output_type": "stream",
          "name": "stderr",
          "text": [
            "/usr/local/lib/python3.10/dist-packages/keras/src/layers/core/embedding.py:90: UserWarning: Argument `input_length` is deprecated. Just remove it.\n",
            "  warnings.warn(\n"
          ]
        }
      ],
      "source": [
        "model = Sequential()\n",
        "model.add(Embedding(total_words, 100, input_length=max_sequence_len-1))\n",
        "model.add(Bidirectional(LSTM(150)))\n",
        "model.add(Dense(total_words, activation='softmax'))"
      ]
    },
    {
      "cell_type": "markdown",
      "id": "wPoe0MrIAczG",
      "metadata": {
        "id": "wPoe0MrIAczG"
      },
      "source": [
        "### Compile the model"
      ]
    },
    {
      "cell_type": "code",
      "execution_count": 235,
      "id": "kj1XDIicAb58",
      "metadata": {
        "colab": {
          "base_uri": "https://localhost:8080/",
          "height": 250
        },
        "id": "kj1XDIicAb58",
        "outputId": "21f868e1-6d47-4553-e534-535fca1a24b6"
      },
      "outputs": [
        {
          "output_type": "display_data",
          "data": {
            "text/plain": [
              "\u001b[1mModel: \"sequential_17\"\u001b[0m\n"
            ],
            "text/html": [
              "<pre style=\"white-space:pre;overflow-x:auto;line-height:normal;font-family:Menlo,'DejaVu Sans Mono',consolas,'Courier New',monospace\"><span style=\"font-weight: bold\">Model: \"sequential_17\"</span>\n",
              "</pre>\n"
            ]
          },
          "metadata": {}
        },
        {
          "output_type": "display_data",
          "data": {
            "text/plain": [
              "┏━━━━━━━━━━━━━━━━━━━━━━━━━━━━━━━━━━━━━━┳━━━━━━━━━━━━━━━━━━━━━━━━━━━━━┳━━━━━━━━━━━━━━━━━┓\n",
              "┃\u001b[1m \u001b[0m\u001b[1mLayer (type)                        \u001b[0m\u001b[1m \u001b[0m┃\u001b[1m \u001b[0m\u001b[1mOutput Shape               \u001b[0m\u001b[1m \u001b[0m┃\u001b[1m \u001b[0m\u001b[1m        Param #\u001b[0m\u001b[1m \u001b[0m┃\n",
              "┡━━━━━━━━━━━━━━━━━━━━━━━━━━━━━━━━━━━━━━╇━━━━━━━━━━━━━━━━━━━━━━━━━━━━━╇━━━━━━━━━━━━━━━━━┩\n",
              "│ embedding_17 (\u001b[38;5;33mEmbedding\u001b[0m)             │ (\u001b[38;5;45mNone\u001b[0m, \u001b[38;5;34m18\u001b[0m, \u001b[38;5;34m100\u001b[0m)             │         \u001b[38;5;34m369,300\u001b[0m │\n",
              "├──────────────────────────────────────┼─────────────────────────────┼─────────────────┤\n",
              "│ bidirectional_22 (\u001b[38;5;33mBidirectional\u001b[0m)     │ (\u001b[38;5;45mNone\u001b[0m, \u001b[38;5;34m300\u001b[0m)                 │         \u001b[38;5;34m301,200\u001b[0m │\n",
              "├──────────────────────────────────────┼─────────────────────────────┼─────────────────┤\n",
              "│ dense_18 (\u001b[38;5;33mDense\u001b[0m)                     │ (\u001b[38;5;45mNone\u001b[0m, \u001b[38;5;34m3693\u001b[0m)                │       \u001b[38;5;34m1,111,593\u001b[0m │\n",
              "└──────────────────────────────────────┴─────────────────────────────┴─────────────────┘\n"
            ],
            "text/html": [
              "<pre style=\"white-space:pre;overflow-x:auto;line-height:normal;font-family:Menlo,'DejaVu Sans Mono',consolas,'Courier New',monospace\">┏━━━━━━━━━━━━━━━━━━━━━━━━━━━━━━━━━━━━━━┳━━━━━━━━━━━━━━━━━━━━━━━━━━━━━┳━━━━━━━━━━━━━━━━━┓\n",
              "┃<span style=\"font-weight: bold\"> Layer (type)                         </span>┃<span style=\"font-weight: bold\"> Output Shape                </span>┃<span style=\"font-weight: bold\">         Param # </span>┃\n",
              "┡━━━━━━━━━━━━━━━━━━━━━━━━━━━━━━━━━━━━━━╇━━━━━━━━━━━━━━━━━━━━━━━━━━━━━╇━━━━━━━━━━━━━━━━━┩\n",
              "│ embedding_17 (<span style=\"color: #0087ff; text-decoration-color: #0087ff\">Embedding</span>)             │ (<span style=\"color: #00d7ff; text-decoration-color: #00d7ff\">None</span>, <span style=\"color: #00af00; text-decoration-color: #00af00\">18</span>, <span style=\"color: #00af00; text-decoration-color: #00af00\">100</span>)             │         <span style=\"color: #00af00; text-decoration-color: #00af00\">369,300</span> │\n",
              "├──────────────────────────────────────┼─────────────────────────────┼─────────────────┤\n",
              "│ bidirectional_22 (<span style=\"color: #0087ff; text-decoration-color: #0087ff\">Bidirectional</span>)     │ (<span style=\"color: #00d7ff; text-decoration-color: #00d7ff\">None</span>, <span style=\"color: #00af00; text-decoration-color: #00af00\">300</span>)                 │         <span style=\"color: #00af00; text-decoration-color: #00af00\">301,200</span> │\n",
              "├──────────────────────────────────────┼─────────────────────────────┼─────────────────┤\n",
              "│ dense_18 (<span style=\"color: #0087ff; text-decoration-color: #0087ff\">Dense</span>)                     │ (<span style=\"color: #00d7ff; text-decoration-color: #00d7ff\">None</span>, <span style=\"color: #00af00; text-decoration-color: #00af00\">3693</span>)                │       <span style=\"color: #00af00; text-decoration-color: #00af00\">1,111,593</span> │\n",
              "└──────────────────────────────────────┴─────────────────────────────┴─────────────────┘\n",
              "</pre>\n"
            ]
          },
          "metadata": {}
        },
        {
          "output_type": "display_data",
          "data": {
            "text/plain": [
              "\u001b[1m Total params: \u001b[0m\u001b[38;5;34m1,782,093\u001b[0m (6.80 MB)\n"
            ],
            "text/html": [
              "<pre style=\"white-space:pre;overflow-x:auto;line-height:normal;font-family:Menlo,'DejaVu Sans Mono',consolas,'Courier New',monospace\"><span style=\"font-weight: bold\"> Total params: </span><span style=\"color: #00af00; text-decoration-color: #00af00\">1,782,093</span> (6.80 MB)\n",
              "</pre>\n"
            ]
          },
          "metadata": {}
        },
        {
          "output_type": "display_data",
          "data": {
            "text/plain": [
              "\u001b[1m Trainable params: \u001b[0m\u001b[38;5;34m1,782,093\u001b[0m (6.80 MB)\n"
            ],
            "text/html": [
              "<pre style=\"white-space:pre;overflow-x:auto;line-height:normal;font-family:Menlo,'DejaVu Sans Mono',consolas,'Courier New',monospace\"><span style=\"font-weight: bold\"> Trainable params: </span><span style=\"color: #00af00; text-decoration-color: #00af00\">1,782,093</span> (6.80 MB)\n",
              "</pre>\n"
            ]
          },
          "metadata": {}
        },
        {
          "output_type": "display_data",
          "data": {
            "text/plain": [
              "\u001b[1m Non-trainable params: \u001b[0m\u001b[38;5;34m0\u001b[0m (0.00 B)\n"
            ],
            "text/html": [
              "<pre style=\"white-space:pre;overflow-x:auto;line-height:normal;font-family:Menlo,'DejaVu Sans Mono',consolas,'Courier New',monospace\"><span style=\"font-weight: bold\"> Non-trainable params: </span><span style=\"color: #00af00; text-decoration-color: #00af00\">0</span> (0.00 B)\n",
              "</pre>\n"
            ]
          },
          "metadata": {}
        },
        {
          "output_type": "stream",
          "name": "stdout",
          "text": [
            "None\n"
          ]
        }
      ],
      "source": [
        "adam = Adam(learning_rate=0.001)\n",
        "model.compile(loss='categorical_crossentropy', optimizer=adam, metrics=['accuracy'])\n",
        "print(model.summary())"
      ]
    },
    {
      "cell_type": "code",
      "execution_count": 236,
      "id": "train-model",
      "metadata": {
        "colab": {
          "base_uri": "https://localhost:8080/"
        },
        "id": "train-model",
        "outputId": "7a98a165-5bd3-44e2-d900-744d60d15a8a"
      },
      "outputs": [
        {
          "output_type": "stream",
          "name": "stdout",
          "text": [
            "Epoch 1/50\n",
            "\u001b[1m260/260\u001b[0m \u001b[32m━━━━━━━━━━━━━━━━━━━━\u001b[0m\u001b[37m\u001b[0m \u001b[1m10s\u001b[0m 24ms/step - accuracy: 0.1341 - loss: 5.1066\n",
            "Epoch 2/50\n",
            "\u001b[1m260/260\u001b[0m \u001b[32m━━━━━━━━━━━━━━━━━━━━\u001b[0m\u001b[37m\u001b[0m \u001b[1m6s\u001b[0m 24ms/step - accuracy: 0.1483 - loss: 4.8077\n",
            "Epoch 3/50\n",
            "\u001b[1m260/260\u001b[0m \u001b[32m━━━━━━━━━━━━━━━━━━━━\u001b[0m\u001b[37m\u001b[0m \u001b[1m6s\u001b[0m 24ms/step - accuracy: 0.2172 - loss: 4.1856\n",
            "Epoch 4/50\n",
            "\u001b[1m260/260\u001b[0m \u001b[32m━━━━━━━━━━━━━━━━━━━━\u001b[0m\u001b[37m\u001b[0m \u001b[1m6s\u001b[0m 24ms/step - accuracy: 0.2835 - loss: 3.6276\n",
            "Epoch 5/50\n",
            "\u001b[1m260/260\u001b[0m \u001b[32m━━━━━━━━━━━━━━━━━━━━\u001b[0m\u001b[37m\u001b[0m \u001b[1m6s\u001b[0m 23ms/step - accuracy: 0.3753 - loss: 3.1269\n",
            "Epoch 6/50\n",
            "\u001b[1m260/260\u001b[0m \u001b[32m━━━━━━━━━━━━━━━━━━━━\u001b[0m\u001b[37m\u001b[0m \u001b[1m6s\u001b[0m 23ms/step - accuracy: 0.4503 - loss: 2.7190\n",
            "Epoch 7/50\n",
            "\u001b[1m260/260\u001b[0m \u001b[32m━━━━━━━━━━━━━━━━━━━━\u001b[0m\u001b[37m\u001b[0m \u001b[1m6s\u001b[0m 24ms/step - accuracy: 0.5206 - loss: 2.3705\n",
            "Epoch 8/50\n",
            "\u001b[1m260/260\u001b[0m \u001b[32m━━━━━━━━━━━━━━━━━━━━\u001b[0m\u001b[37m\u001b[0m \u001b[1m6s\u001b[0m 24ms/step - accuracy: 0.5660 - loss: 2.0889\n",
            "Epoch 9/50\n",
            "\u001b[1m260/260\u001b[0m \u001b[32m━━━━━━━━━━━━━━━━━━━━\u001b[0m\u001b[37m\u001b[0m \u001b[1m6s\u001b[0m 24ms/step - accuracy: 0.6428 - loss: 1.7710\n",
            "Epoch 10/50\n",
            "\u001b[1m260/260\u001b[0m \u001b[32m━━━━━━━━━━━━━━━━━━━━\u001b[0m\u001b[37m\u001b[0m \u001b[1m6s\u001b[0m 23ms/step - accuracy: 0.6910 - loss: 1.5394\n",
            "Epoch 11/50\n",
            "\u001b[1m260/260\u001b[0m \u001b[32m━━━━━━━━━━━━━━━━━━━━\u001b[0m\u001b[37m\u001b[0m \u001b[1m6s\u001b[0m 24ms/step - accuracy: 0.7329 - loss: 1.3531\n",
            "Epoch 12/50\n",
            "\u001b[1m260/260\u001b[0m \u001b[32m━━━━━━━━━━━━━━━━━━━━\u001b[0m\u001b[37m\u001b[0m \u001b[1m6s\u001b[0m 23ms/step - accuracy: 0.7757 - loss: 1.1791\n",
            "Epoch 13/50\n",
            "\u001b[1m260/260\u001b[0m \u001b[32m━━━━━━━━━━━━━━━━━━━━\u001b[0m\u001b[37m\u001b[0m \u001b[1m6s\u001b[0m 23ms/step - accuracy: 0.7908 - loss: 1.0884\n",
            "Epoch 14/50\n",
            "\u001b[1m260/260\u001b[0m \u001b[32m━━━━━━━━━━━━━━━━━━━━\u001b[0m\u001b[37m\u001b[0m \u001b[1m6s\u001b[0m 24ms/step - accuracy: 0.8280 - loss: 0.9186\n",
            "Epoch 15/50\n",
            "\u001b[1m260/260\u001b[0m \u001b[32m━━━━━━━━━━━━━━━━━━━━\u001b[0m\u001b[37m\u001b[0m \u001b[1m6s\u001b[0m 23ms/step - accuracy: 0.8294 - loss: 0.8803\n",
            "Epoch 16/50\n",
            "\u001b[1m260/260\u001b[0m \u001b[32m━━━━━━━━━━━━━━━━━━━━\u001b[0m\u001b[37m\u001b[0m \u001b[1m6s\u001b[0m 24ms/step - accuracy: 0.8589 - loss: 0.7547\n",
            "Epoch 17/50\n",
            "\u001b[1m260/260\u001b[0m \u001b[32m━━━━━━━━━━━━━━━━━━━━\u001b[0m\u001b[37m\u001b[0m \u001b[1m6s\u001b[0m 23ms/step - accuracy: 0.8722 - loss: 0.6646\n",
            "Epoch 18/50\n",
            "\u001b[1m260/260\u001b[0m \u001b[32m━━━━━━━━━━━━━━━━━━━━\u001b[0m\u001b[37m\u001b[0m \u001b[1m6s\u001b[0m 23ms/step - accuracy: 0.8879 - loss: 0.6091\n",
            "Epoch 19/50\n",
            "\u001b[1m260/260\u001b[0m \u001b[32m━━━━━━━━━━━━━━━━━━━━\u001b[0m\u001b[37m\u001b[0m \u001b[1m6s\u001b[0m 23ms/step - accuracy: 0.8888 - loss: 0.5624\n",
            "Epoch 20/50\n",
            "\u001b[1m260/260\u001b[0m \u001b[32m━━━━━━━━━━━━━━━━━━━━\u001b[0m\u001b[37m\u001b[0m \u001b[1m6s\u001b[0m 23ms/step - accuracy: 0.8951 - loss: 0.5378\n",
            "Epoch 21/50\n",
            "\u001b[1m260/260\u001b[0m \u001b[32m━━━━━━━━━━━━━━━━━━━━\u001b[0m\u001b[37m\u001b[0m \u001b[1m6s\u001b[0m 24ms/step - accuracy: 0.9003 - loss: 0.4824\n",
            "Epoch 22/50\n",
            "\u001b[1m260/260\u001b[0m \u001b[32m━━━━━━━━━━━━━━━━━━━━\u001b[0m\u001b[37m\u001b[0m \u001b[1m6s\u001b[0m 24ms/step - accuracy: 0.9119 - loss: 0.4392\n",
            "Epoch 23/50\n",
            "\u001b[1m260/260\u001b[0m \u001b[32m━━━━━━━━━━━━━━━━━━━━\u001b[0m\u001b[37m\u001b[0m \u001b[1m6s\u001b[0m 24ms/step - accuracy: 0.9064 - loss: 0.4256\n",
            "Epoch 24/50\n",
            "\u001b[1m260/260\u001b[0m \u001b[32m━━━━━━━━━━━━━━━━━━━━\u001b[0m\u001b[37m\u001b[0m \u001b[1m6s\u001b[0m 23ms/step - accuracy: 0.9097 - loss: 0.4070\n",
            "Epoch 25/50\n",
            "\u001b[1m260/260\u001b[0m \u001b[32m━━━━━━━━━━━━━━━━━━━━\u001b[0m\u001b[37m\u001b[0m \u001b[1m6s\u001b[0m 24ms/step - accuracy: 0.9002 - loss: 0.4193\n",
            "Epoch 26/50\n",
            "\u001b[1m260/260\u001b[0m \u001b[32m━━━━━━━━━━━━━━━━━━━━\u001b[0m\u001b[37m\u001b[0m \u001b[1m6s\u001b[0m 24ms/step - accuracy: 0.9093 - loss: 0.3850\n",
            "Epoch 27/50\n",
            "\u001b[1m260/260\u001b[0m \u001b[32m━━━━━━━━━━━━━━━━━━━━\u001b[0m\u001b[37m\u001b[0m \u001b[1m6s\u001b[0m 24ms/step - accuracy: 0.9165 - loss: 0.3517\n",
            "Epoch 28/50\n",
            "\u001b[1m260/260\u001b[0m \u001b[32m━━━━━━━━━━━━━━━━━━━━\u001b[0m\u001b[37m\u001b[0m \u001b[1m6s\u001b[0m 24ms/step - accuracy: 0.9089 - loss: 0.3524\n",
            "Epoch 29/50\n",
            "\u001b[1m260/260\u001b[0m \u001b[32m━━━━━━━━━━━━━━━━━━━━\u001b[0m\u001b[37m\u001b[0m \u001b[1m6s\u001b[0m 24ms/step - accuracy: 0.9157 - loss: 0.3375\n",
            "Epoch 30/50\n",
            "\u001b[1m260/260\u001b[0m \u001b[32m━━━━━━━━━━━━━━━━━━━━\u001b[0m\u001b[37m\u001b[0m \u001b[1m6s\u001b[0m 24ms/step - accuracy: 0.9152 - loss: 0.3251\n",
            "Epoch 31/50\n",
            "\u001b[1m260/260\u001b[0m \u001b[32m━━━━━━━━━━━━━━━━━━━━\u001b[0m\u001b[37m\u001b[0m \u001b[1m6s\u001b[0m 24ms/step - accuracy: 0.9153 - loss: 0.3320\n",
            "Epoch 32/50\n",
            "\u001b[1m260/260\u001b[0m \u001b[32m━━━━━━━━━━━━━━━━━━━━\u001b[0m\u001b[37m\u001b[0m \u001b[1m6s\u001b[0m 23ms/step - accuracy: 0.9192 - loss: 0.3099\n",
            "Epoch 33/50\n",
            "\u001b[1m260/260\u001b[0m \u001b[32m━━━━━━━━━━━━━━━━━━━━\u001b[0m\u001b[37m\u001b[0m \u001b[1m6s\u001b[0m 24ms/step - accuracy: 0.9117 - loss: 0.3232\n",
            "Epoch 34/50\n",
            "\u001b[1m260/260\u001b[0m \u001b[32m━━━━━━━━━━━━━━━━━━━━\u001b[0m\u001b[37m\u001b[0m \u001b[1m6s\u001b[0m 24ms/step - accuracy: 0.9149 - loss: 0.3050\n",
            "Epoch 35/50\n",
            "\u001b[1m260/260\u001b[0m \u001b[32m━━━━━━━━━━━━━━━━━━━━\u001b[0m\u001b[37m\u001b[0m \u001b[1m6s\u001b[0m 24ms/step - accuracy: 0.9111 - loss: 0.3070\n",
            "Epoch 36/50\n",
            "\u001b[1m260/260\u001b[0m \u001b[32m━━━━━━━━━━━━━━━━━━━━\u001b[0m\u001b[37m\u001b[0m \u001b[1m6s\u001b[0m 23ms/step - accuracy: 0.9060 - loss: 0.3350\n",
            "Epoch 37/50\n",
            "\u001b[1m260/260\u001b[0m \u001b[32m━━━━━━━━━━━━━━━━━━━━\u001b[0m\u001b[37m\u001b[0m \u001b[1m6s\u001b[0m 24ms/step - accuracy: 0.9159 - loss: 0.3068\n",
            "Epoch 38/50\n",
            "\u001b[1m260/260\u001b[0m \u001b[32m━━━━━━━━━━━━━━━━━━━━\u001b[0m\u001b[37m\u001b[0m \u001b[1m6s\u001b[0m 24ms/step - accuracy: 0.9149 - loss: 0.3089\n",
            "Epoch 39/50\n",
            "\u001b[1m260/260\u001b[0m \u001b[32m━━━━━━━━━━━━━━━━━━━━\u001b[0m\u001b[37m\u001b[0m \u001b[1m6s\u001b[0m 24ms/step - accuracy: 0.9156 - loss: 0.2961\n",
            "Epoch 40/50\n",
            "\u001b[1m260/260\u001b[0m \u001b[32m━━━━━━━━━━━━━━━━━━━━\u001b[0m\u001b[37m\u001b[0m \u001b[1m6s\u001b[0m 24ms/step - accuracy: 0.9133 - loss: 0.3095\n",
            "Epoch 41/50\n",
            "\u001b[1m260/260\u001b[0m \u001b[32m━━━━━━━━━━━━━━━━━━━━\u001b[0m\u001b[37m\u001b[0m \u001b[1m6s\u001b[0m 24ms/step - accuracy: 0.9171 - loss: 0.2940\n",
            "Epoch 42/50\n",
            "\u001b[1m260/260\u001b[0m \u001b[32m━━━━━━━━━━━━━━━━━━━━\u001b[0m\u001b[37m\u001b[0m \u001b[1m6s\u001b[0m 24ms/step - accuracy: 0.9154 - loss: 0.2978\n",
            "Epoch 43/50\n",
            "\u001b[1m260/260\u001b[0m \u001b[32m━━━━━━━━━━━━━━━━━━━━\u001b[0m\u001b[37m\u001b[0m \u001b[1m6s\u001b[0m 24ms/step - accuracy: 0.9104 - loss: 0.3065\n",
            "Epoch 44/50\n",
            "\u001b[1m260/260\u001b[0m \u001b[32m━━━━━━━━━━━━━━━━━━━━\u001b[0m\u001b[37m\u001b[0m \u001b[1m6s\u001b[0m 24ms/step - accuracy: 0.9080 - loss: 0.3189\n",
            "Epoch 45/50\n",
            "\u001b[1m260/260\u001b[0m \u001b[32m━━━━━━━━━━━━━━━━━━━━\u001b[0m\u001b[37m\u001b[0m \u001b[1m6s\u001b[0m 24ms/step - accuracy: 0.9119 - loss: 0.2980\n",
            "Epoch 46/50\n",
            "\u001b[1m260/260\u001b[0m \u001b[32m━━━━━━━━━━━━━━━━━━━━\u001b[0m\u001b[37m\u001b[0m \u001b[1m6s\u001b[0m 24ms/step - accuracy: 0.9135 - loss: 0.2850\n",
            "Epoch 47/50\n",
            "\u001b[1m260/260\u001b[0m \u001b[32m━━━━━━━━━━━━━━━━━━━━\u001b[0m\u001b[37m\u001b[0m \u001b[1m6s\u001b[0m 24ms/step - accuracy: 0.9153 - loss: 0.2735\n",
            "Epoch 48/50\n",
            "\u001b[1m260/260\u001b[0m \u001b[32m━━━━━━━━━━━━━━━━━━━━\u001b[0m\u001b[37m\u001b[0m \u001b[1m6s\u001b[0m 23ms/step - accuracy: 0.9172 - loss: 0.2740\n",
            "Epoch 49/50\n",
            "\u001b[1m260/260\u001b[0m \u001b[32m━━━━━━━━━━━━━━━━━━━━\u001b[0m\u001b[37m\u001b[0m \u001b[1m6s\u001b[0m 24ms/step - accuracy: 0.9126 - loss: 0.2815\n",
            "Epoch 50/50\n",
            "\u001b[1m260/260\u001b[0m \u001b[32m━━━━━━━━━━━━━━━━━━━━\u001b[0m\u001b[37m\u001b[0m \u001b[1m6s\u001b[0m 23ms/step - accuracy: 0.9142 - loss: 0.2724\n"
          ]
        }
      ],
      "source": [
        "history = model.fit(xs, ys, epochs=50, verbose=1)"
      ]
    },
    {
      "cell_type": "markdown",
      "id": "Kyf1nPvHAiVO",
      "metadata": {
        "id": "Kyf1nPvHAiVO"
      },
      "source": [
        "### Train the model\n",
        "\n"
      ]
    },
    {
      "cell_type": "markdown",
      "id": "model-evaluation",
      "metadata": {
        "id": "model-evaluation"
      },
      "source": [
        "# Model Evaluation and Discussion\n",
        "Model evaluation involves assessing the performance of the model on the training data.\n",
        "We use accuracy and loss metrics to evaluate the model during training.\n",
        "We also visualize the training progress using plots."
      ]
    },
    {
      "cell_type": "code",
      "source": [
        "# Evaluate the model\n",
        "loss, accuracy = model.evaluate(xs, ys, verbose=0)\n",
        "print(f'Model Accuracy: {accuracy * 100:.2f}%')"
      ],
      "metadata": {
        "colab": {
          "base_uri": "https://localhost:8080/"
        },
        "id": "ay0--ag7pK4i",
        "outputId": "d7c2f92b-4280-4262-cf3c-29f6cd8aab1c"
      },
      "id": "ay0--ag7pK4i",
      "execution_count": 237,
      "outputs": [
        {
          "output_type": "stream",
          "name": "stdout",
          "text": [
            "Model Accuracy: 92.45%\n"
          ]
        }
      ]
    },
    {
      "cell_type": "code",
      "source": [
        "# Evaluate the model\n",
        "loss, accuracy = model.evaluate(x_test, y_test, verbose=1)\n",
        "print(f\"Test Loss: {loss}\")\n",
        "print(f\"Test Accuracy: {accuracy}\")"
      ],
      "metadata": {
        "colab": {
          "base_uri": "https://localhost:8080/"
        },
        "id": "QL3GFwkQRxe9",
        "outputId": "568e569d-4084-470b-c24c-7b7adc93f185"
      },
      "id": "QL3GFwkQRxe9",
      "execution_count": 238,
      "outputs": [
        {
          "output_type": "stream",
          "name": "stdout",
          "text": [
            "\u001b[1m52/52\u001b[0m \u001b[32m━━━━━━━━━━━━━━━━━━━━\u001b[0m\u001b[37m\u001b[0m \u001b[1m0s\u001b[0m 9ms/step - accuracy: 0.9266 - loss: 0.2465\n",
            "Test Loss: 0.23507261276245117\n",
            "Test Accuracy: 0.9276236295700073\n"
          ]
        }
      ]
    },
    {
      "cell_type": "code",
      "source": [
        "# Plot training history\n",
        "def plot_history(history):\n",
        "    acc = history.history['accuracy']\n",
        "    loss = history.history['loss']\n",
        "    epochs = range(1, len(acc) + 1)\n",
        "\n",
        "    plt.figure(figsize=(14, 5))\n",
        "\n",
        "    plt.subplot(1, 2, 1)\n",
        "    plt.plot(epochs, acc, 'b', label='Training accuracy')\n",
        "    plt.title('Training accuracy')\n",
        "    plt.xlabel('Epochs')\n",
        "    plt.ylabel('Accuracy')\n",
        "    plt.legend()\n",
        "\n",
        "    plt.subplot(1, 2, 2)\n",
        "    plt.plot(epochs, loss, 'b', label='Training loss')\n",
        "    plt.title('Training loss')\n",
        "    plt.xlabel('Epochs')\n",
        "    plt.ylabel('Loss')\n",
        "    plt.legend()\n",
        "\n",
        "    plt.show()\n",
        "\n",
        "# Plot the training accuracy and loss\n",
        "plot_history(history)"
      ],
      "metadata": {
        "colab": {
          "base_uri": "https://localhost:8080/",
          "height": 272
        },
        "id": "c022iSXuSMZ3",
        "outputId": "037a610d-c57f-4661-a9a2-0724551d51f9"
      },
      "id": "c022iSXuSMZ3",
      "execution_count": 239,
      "outputs": [
        {
          "output_type": "display_data",
          "data": {
            "text/plain": [
              "<Figure size 1400x500 with 2 Axes>"
            ],
            "image/png": "[encoded data removed]"
          },
          "metadata": {}
        }
      ]
    },
    {
      "cell_type": "markdown",
      "id": "EQYnyoo3BJ1U",
      "metadata": {
        "id": "EQYnyoo3BJ1U"
      },
      "source": [
        "# Conclusion\n",
        "\n",
        "In this project, we developed a next-word prediction model using a Bidirectional LSTM.\n",
        "The model was trained on a dataset of news headlines, and we evaluated its performance using accuracy and loss metrics.\n",
        "The results indicate that the model is capable of predicting the next word in a given sequence with reasonable accuracy.\n",
        "Further improvements could include experimenting with different model architectures and hyperparameters, and training on a larger dataset."
      ]
    },
    {
      "cell_type": "markdown",
      "id": "9p4Jr12EBSFo",
      "metadata": {
        "id": "9p4Jr12EBSFo"
      },
      "source": [
        "# References\n",
        "\n",
        "1. Brownlee, J. (2017). Deep Learning for Natural Language Processing.\n",
        "2. Hochreiter, S., & Schmidhuber, J. (1997). Long Short-Term Memory. Neural Computation, 9(8), 1735-1780.\n",
        "3. Vaswani, A., et al. (2017). Attention Is All You Need. Advances in Neural Information Processing Systems."
      ]
    },
    {
      "cell_type": "markdown",
      "id": "VvAOUkYtBeJ-",
      "metadata": {
        "id": "VvAOUkYtBeJ-"
      },
      "source": [
        "### Saving the model"
      ]
    },
    {
      "cell_type": "code",
      "execution_count": 243,
      "id": "omiA8rpiBgSP",
      "metadata": {
        "id": "omiA8rpiBgSP",
        "colab": {
          "base_uri": "https://localhost:8080/"
        },
        "outputId": "68a07d32-d53a-409d-952a-8cfb64beedf8"
      },
      "outputs": [
        {
          "output_type": "stream",
          "name": "stderr",
          "text": [
            "WARNING:absl:You are saving your model as an HDF5 file via `model.save()` or `keras.saving.save_model(model)`. This file format is considered legacy. We recommend using instead the native Keras format, e.g. `model.save('my_model.keras')` or `keras.saving.save_model(model, 'my_model.keras')`. \n"
          ]
        }
      ],
      "source": [
        "model.save(\"next_word_prediction_model_news_headline_group_project.h5\")\n",
        "model.save(\"next_word_prediction_model_news_headline_group_project.keras\")"
      ]
    },
    {
      "cell_type": "code",
      "source": [
        "max_length = max([len(input_sequence) for input_sequence in input_sequences])\n",
        "max_length"
      ],
      "metadata": {
        "colab": {
          "base_uri": "https://localhost:8080/"
        },
        "id": "Bed2OZl2VJWR",
        "outputId": "5b413ae4-cca4-41ec-99d3-a816060c8aa5"
      },
      "id": "Bed2OZl2VJWR",
      "execution_count": 244,
      "outputs": [
        {
          "output_type": "execute_result",
          "data": {
            "text/plain": [
              "19"
            ]
          },
          "metadata": {},
          "execution_count": 244
        }
      ]
    },
    {
      "cell_type": "markdown",
      "id": "W2N-hzXrBk_3",
      "metadata": {
        "id": "W2N-hzXrBk_3"
      },
      "source": [
        "### Text Generation Function\n",
        "\n",
        "This function takes a seed text and generates the next words based on the trained model."
      ]
    },
    {
      "cell_type": "code",
      "execution_count": 245,
      "id": "evaluate-model",
      "metadata": {
        "id": "evaluate-model"
      },
      "outputs": [],
      "source": [
        "def generate_text(model, tokenizer, seed_text, max_sequence_len, next_words):\n",
        "    for _ in range(next_words):\n",
        "        token_list = tokenizer.texts_to_sequences([seed_text])[0]\n",
        "        token_list = pad_sequences([token_list], maxlen=max_sequence_len - 1, padding='pre')\n",
        "        predicted = model.predict(token_list, verbose=0)\n",
        "        predicted = np.argmax(predicted, axis=1)\n",
        "        output_word = \"\"\n",
        "        for word, index in tokenizer.word_index.items():\n",
        "            if index == predicted:\n",
        "                output_word = word\n",
        "                break\n",
        "        seed_text += \" \" + output_word\n",
        "    return seed_text"
      ]
    },
    {
      "cell_type": "markdown",
      "id": "conclusion",
      "metadata": {
        "id": "conclusion"
      },
      "source": [
        "### Example usage"
      ]
    },
    {
      "cell_type": "code",
      "execution_count": 246,
      "id": "HtV9tIitB0Wn",
      "metadata": {
        "id": "HtV9tIitB0Wn",
        "colab": {
          "base_uri": "https://localhost:8080/"
        },
        "outputId": "3d55f64a-9622-4df1-f774-16d3a08757c0"
      },
      "outputs": [
        {
          "output_type": "stream",
          "name": "stdout",
          "text": [
            "I am reasons of home and a\n"
          ]
        }
      ],
      "source": [
        "seed_text = \"I am\"\n",
        "next_words = 5\n",
        "generated_text = generate_text(model, tokenizer, seed_text, max_sequence_len, next_words)\n",
        "print(generated_text)"
      ]
    }
  ],
  "metadata": {
    "accelerator": "TPU",
    "colab": {
      "gpuType": "V28",
      "provenance": [],
      "include_colab_link": true
    },
    "kernelspec": {
      "display_name": "Python 3",
      "name": "python3"
    },
    "language_info": {
      "codemirror_mode": {
        "name": "ipython",
        "version": 3
      },
      "file_extension": ".py",
      "mimetype": "text/x-python",
      "name": "python",
      "nbconvert_exporter": "python",
      "pygments_lexer": "ipython3",
      "version": "3.11.5"
    }
  },
  "nbformat": 4,
  "nbformat_minor": 5
}
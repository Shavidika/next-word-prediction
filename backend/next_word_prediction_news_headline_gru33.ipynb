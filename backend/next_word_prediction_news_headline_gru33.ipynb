{
  "cells": [
    {
      "cell_type": "markdown",
      "id": "literature-survey",
      "metadata": {
        "id": "literature-survey"
      },
      "source": [
        "# Literature Survey\n",
        "\n",
        "In the domain of natural language processing (NLP), next-word prediction models have gained significant attention. These models are utilized in various applications, such as text completion, chatbots, and virtual assistants. Key studies and advancements in this area include the development of Recurrent Neural Networks (RNNs), Long Short-Term Memory (LSTM) networks, and more recently, Transformer-based models. Each of these models has contributed to improving the accuracy and efficiency of next-word prediction tasks."
      ]
    },
    {
      "cell_type": "markdown",
      "id": "dataset-description",
      "metadata": {
        "id": "dataset-description"
      },
      "source": [
        "# Dataset Description\n",
        "\n",
        "The dataset used in this project is sourced from Kaggle and contains news headlines from the month of March 2018.\n",
        "The dataset provides a rich source of textual data suitable for training a next-word prediction model.\n",
        "Each record in the dataset represents a single news headline."
      ]
    },
    {
      "cell_type": "markdown",
      "source": [],
      "metadata": {
        "id": "9klyTpUH5kBJ"
      },
      "id": "9klyTpUH5kBJ"
    },
    {
      "cell_type": "code",
      "execution_count": 1,
      "id": "import-libraries",
      "metadata": {
        "id": "import-libraries"
      },
      "outputs": [],
      "source": [
        "import pandas as pd\n",
        "import os\n",
        "import numpy as np\n",
        "import tensorflow as tf\n",
        "from tensorflow.keras.preprocessing.sequence import pad_sequences\n",
        "from tensorflow.keras.layers import Embedding, LSTM, Dense, Bidirectional\n",
        "from tensorflow.keras.preprocessing.text import Tokenizer\n",
        "from tensorflow.keras.models import Sequential\n",
        "from tensorflow.keras.optimizers import Adam\n",
        "from sklearn.model_selection import train_test_split\n",
        "from sklearn.metrics import accuracy_score"
      ]
    },
    {
      "cell_type": "markdown",
      "id": "zDa185doCyWk",
      "metadata": {
        "id": "zDa185doCyWk"
      },
      "source": [
        "### Install opendatasets and download the dataset"
      ]
    },
    {
      "cell_type": "code",
      "execution_count": 2,
      "id": "load-dataset",
      "metadata": {
        "id": "load-dataset"
      },
      "outputs": [],
      "source": [
        "!pip install opendatasets -q\n",
        "import opendatasets as od"
      ]
    },
    {
      "cell_type": "markdown",
      "id": "VIC3j3Q3C2qz",
      "metadata": {
        "id": "VIC3j3Q3C2qz"
      },
      "source": [
        "### Download the dataset"
      ]
    },
    {
      "cell_type": "code",
      "execution_count": 3,
      "id": "bGjeFfZa-u8-",
      "metadata": {
        "colab": {
          "base_uri": "https://localhost:8080/"
        },
        "id": "bGjeFfZa-u8-",
        "outputId": "bc229295-0cd9-476d-c51e-f39d88cb0305"
      },
      "outputs": [
        {
          "output_type": "stream",
          "name": "stdout",
          "text": [
            "Please provide your Kaggle credentials to download this dataset. Learn more: http://bit.ly/kaggle-creds\n",
            "Your Kaggle username: bawantharathnayake\n",
            "Your Kaggle Key: ··········\n",
            "Dataset URL: https://www.kaggle.com/datasets/manishguptads/news-headlines\n",
            "Downloading news-headlines.zip to ./news-headlines\n"
          ]
        },
        {
          "output_type": "stream",
          "name": "stderr",
          "text": [
            "100%|██████████| 243k/243k [00:00<00:00, 82.7MB/s]"
          ]
        },
        {
          "output_type": "stream",
          "name": "stdout",
          "text": [
            "\n"
          ]
        },
        {
          "output_type": "stream",
          "name": "stderr",
          "text": [
            "\n"
          ]
        }
      ],
      "source": [
        "od.download(\"https://www.kaggle.com/datasets/manishguptads/news-headlines/code\")"
      ]
    },
    {
      "cell_type": "markdown",
      "id": "B0m6UQYYDKgx",
      "metadata": {
        "id": "B0m6UQYYDKgx"
      },
      "source": [
        "### Load the dataset"
      ]
    },
    {
      "cell_type": "code",
      "execution_count": 4,
      "id": "exploratory-data-analysis",
      "metadata": {
        "colab": {
          "base_uri": "https://localhost:8080/",
          "height": 643
        },
        "id": "exploratory-data-analysis",
        "outputId": "fa91048c-41cd-4904-8b6b-1b9b48732fbc"
      },
      "outputs": [
        {
          "output_type": "execute_result",
          "data": {
            "text/plain": [
              "                  articleID                                        byline  \\\n",
              "0  5a974697410cf7000162e8a4                         By BINYAMIN APPELBAUM   \n",
              "1  5a974be7410cf7000162e8af             By HELENE COOPER and ERIC SCHMITT   \n",
              "2  5a9752a2410cf7000162e8ba                        By THE EDITORIAL BOARD   \n",
              "3  5a975310410cf7000162e8bd                        By JAVIER C. HERNÁNDEZ   \n",
              "4  5a975406410cf7000162e8c3  By JESSE DRUCKER, KATE KELLY and BEN PROTESS   \n",
              "\n",
              "  documentType                                           headline  \\\n",
              "0      article                      Virtual Coins, Real Resources   \n",
              "1      article       U.S. Advances Military Plans for North Korea   \n",
              "2      article                 Mr. Trump and the ‘Very Bad Judge’   \n",
              "3      article     To Erase Dissent, China Bans Pooh Bear and ‘N’   \n",
              "4      article  Loans Flowed to Kushner Cos. After Visits to t...   \n",
              "\n",
              "                                            keywords  multimedia     newDesk  \\\n",
              "0  ['Bitcoin (Currency)', 'Electric Light and Pow...           1    Business   \n",
              "1  ['United States Defense and Military Forces', ...           1  Washington   \n",
              "2  ['Trump, Donald J', 'Curiel, Gonzalo P', 'Unit...           1   Editorial   \n",
              "3  ['China', 'Xi Jinping', 'Term Limits (Politica...           1     Foreign   \n",
              "4  ['Kushner, Jared', 'Kushner Cos', 'United Stat...           1    Business   \n",
              "\n",
              "   printPage           pubDate   sectionName  \\\n",
              "0          1  01-03-2018 00:17       Economy   \n",
              "1         11  01-03-2018 00:40  Asia Pacific   \n",
              "2         26  01-03-2018 01:08       Unknown   \n",
              "3          1  01-03-2018 01:10  Asia Pacific   \n",
              "4          1  01-03-2018 01:14       Unknown   \n",
              "\n",
              "                                             snippet              source  \\\n",
              "0  America has a productivity problem. One explan...  The New York Times   \n",
              "1  The American military is looking at everything...  The New York Times   \n",
              "2  Can you guess which man is the model public se...  The New York Times   \n",
              "3  Censors swung into action after Mr. Xi’s bid t...  The New York Times   \n",
              "4  Apollo, the private equity firm, and Citigroup...  The New York Times   \n",
              "\n",
              "  typeOfMaterial                                             webURL  \\\n",
              "0           News  https://www.nytimes.com/2018/02/28/business/ec...   \n",
              "1           News  https://www.nytimes.com/2018/02/28/world/asia/...   \n",
              "2      Editorial  https://www.nytimes.com/2018/02/28/opinion/tru...   \n",
              "3           News  https://www.nytimes.com/2018/02/28/world/asia/...   \n",
              "4           News  https://www.nytimes.com/2018/02/28/business/ja...   \n",
              "\n",
              "   articleWordCount  \n",
              "0              1207  \n",
              "1              1215  \n",
              "2              1043  \n",
              "3              1315  \n",
              "4              1566  "
            ],
            "text/html": [
              "\n",
              "  <div id=\"df-92c3b5d6-756c-41bc-a763-1214de88bdcd\" class=\"colab-df-container\">\n",
              "    <div>\n",
              "<style scoped>\n",
              "    .dataframe tbody tr th:only-of-type {\n",
              "        vertical-align: middle;\n",
              "    }\n",
              "\n",
              "    .dataframe tbody tr th {\n",
              "        vertical-align: top;\n",
              "    }\n",
              "\n",
              "    .dataframe thead th {\n",
              "        text-align: right;\n",
              "    }\n",
              "</style>\n",
              "<table border=\"1\" class=\"dataframe\">\n",
              "  <thead>\n",
              "    <tr style=\"text-align: right;\">\n",
              "      <th></th>\n",
              "      <th>articleID</th>\n",
              "      <th>byline</th>\n",
              "      <th>documentType</th>\n",
              "      <th>headline</th>\n",
              "      <th>keywords</th>\n",
              "      <th>multimedia</th>\n",
              "      <th>newDesk</th>\n",
              "      <th>printPage</th>\n",
              "      <th>pubDate</th>\n",
              "      <th>sectionName</th>\n",
              "      <th>snippet</th>\n",
              "      <th>source</th>\n",
              "      <th>typeOfMaterial</th>\n",
              "      <th>webURL</th>\n",
              "      <th>articleWordCount</th>\n",
              "    </tr>\n",
              "  </thead>\n",
              "  <tbody>\n",
              "    <tr>\n",
              "      <th>0</th>\n",
              "      <td>5a974697410cf7000162e8a4</td>\n",
              "      <td>By BINYAMIN APPELBAUM</td>\n",
              "      <td>article</td>\n",
              "      <td>Virtual Coins, Real Resources</td>\n",
              "      <td>['Bitcoin (Currency)', 'Electric Light and Pow...</td>\n",
              "      <td>1</td>\n",
              "      <td>Business</td>\n",
              "      <td>1</td>\n",
              "      <td>01-03-2018 00:17</td>\n",
              "      <td>Economy</td>\n",
              "      <td>America has a productivity problem. One explan...</td>\n",
              "      <td>The New York Times</td>\n",
              "      <td>News</td>\n",
              "      <td>https://www.nytimes.com/2018/02/28/business/ec...</td>\n",
              "      <td>1207</td>\n",
              "    </tr>\n",
              "    <tr>\n",
              "      <th>1</th>\n",
              "      <td>5a974be7410cf7000162e8af</td>\n",
              "      <td>By HELENE COOPER and ERIC SCHMITT</td>\n",
              "      <td>article</td>\n",
              "      <td>U.S. Advances Military Plans for North Korea</td>\n",
              "      <td>['United States Defense and Military Forces', ...</td>\n",
              "      <td>1</td>\n",
              "      <td>Washington</td>\n",
              "      <td>11</td>\n",
              "      <td>01-03-2018 00:40</td>\n",
              "      <td>Asia Pacific</td>\n",
              "      <td>The American military is looking at everything...</td>\n",
              "      <td>The New York Times</td>\n",
              "      <td>News</td>\n",
              "      <td>https://www.nytimes.com/2018/02/28/world/asia/...</td>\n",
              "      <td>1215</td>\n",
              "    </tr>\n",
              "    <tr>\n",
              "      <th>2</th>\n",
              "      <td>5a9752a2410cf7000162e8ba</td>\n",
              "      <td>By THE EDITORIAL BOARD</td>\n",
              "      <td>article</td>\n",
              "      <td>Mr. Trump and the ‘Very Bad Judge’</td>\n",
              "      <td>['Trump, Donald J', 'Curiel, Gonzalo P', 'Unit...</td>\n",
              "      <td>1</td>\n",
              "      <td>Editorial</td>\n",
              "      <td>26</td>\n",
              "      <td>01-03-2018 01:08</td>\n",
              "      <td>Unknown</td>\n",
              "      <td>Can you guess which man is the model public se...</td>\n",
              "      <td>The New York Times</td>\n",
              "      <td>Editorial</td>\n",
              "      <td>https://www.nytimes.com/2018/02/28/opinion/tru...</td>\n",
              "      <td>1043</td>\n",
              "    </tr>\n",
              "    <tr>\n",
              "      <th>3</th>\n",
              "      <td>5a975310410cf7000162e8bd</td>\n",
              "      <td>By JAVIER C. HERNÁNDEZ</td>\n",
              "      <td>article</td>\n",
              "      <td>To Erase Dissent, China Bans Pooh Bear and ‘N’</td>\n",
              "      <td>['China', 'Xi Jinping', 'Term Limits (Politica...</td>\n",
              "      <td>1</td>\n",
              "      <td>Foreign</td>\n",
              "      <td>1</td>\n",
              "      <td>01-03-2018 01:10</td>\n",
              "      <td>Asia Pacific</td>\n",
              "      <td>Censors swung into action after Mr. Xi’s bid t...</td>\n",
              "      <td>The New York Times</td>\n",
              "      <td>News</td>\n",
              "      <td>https://www.nytimes.com/2018/02/28/world/asia/...</td>\n",
              "      <td>1315</td>\n",
              "    </tr>\n",
              "    <tr>\n",
              "      <th>4</th>\n",
              "      <td>5a975406410cf7000162e8c3</td>\n",
              "      <td>By JESSE DRUCKER, KATE KELLY and BEN PROTESS</td>\n",
              "      <td>article</td>\n",
              "      <td>Loans Flowed to Kushner Cos. After Visits to t...</td>\n",
              "      <td>['Kushner, Jared', 'Kushner Cos', 'United Stat...</td>\n",
              "      <td>1</td>\n",
              "      <td>Business</td>\n",
              "      <td>1</td>\n",
              "      <td>01-03-2018 01:14</td>\n",
              "      <td>Unknown</td>\n",
              "      <td>Apollo, the private equity firm, and Citigroup...</td>\n",
              "      <td>The New York Times</td>\n",
              "      <td>News</td>\n",
              "      <td>https://www.nytimes.com/2018/02/28/business/ja...</td>\n",
              "      <td>1566</td>\n",
              "    </tr>\n",
              "  </tbody>\n",
              "</table>\n",
              "</div>\n",
              "    <div class=\"colab-df-buttons\">\n",
              "\n",
              "  <div class=\"colab-df-container\">\n",
              "    <button class=\"colab-df-convert\" onclick=\"convertToInteractive('df-92c3b5d6-756c-41bc-a763-1214de88bdcd')\"\n",
              "            title=\"Convert this dataframe to an interactive table.\"\n",
              "            style=\"display:none;\">\n",
              "\n",
              "  <svg xmlns=\"http://www.w3.org/2000/svg\" height=\"24px\" viewBox=\"0 -960 960 960\">\n",
              "    <path d=\"M120-120v-720h720v720H120Zm60-500h600v-160H180v160Zm220 220h160v-160H400v160Zm0 220h160v-160H400v160ZM180-400h160v-160H180v160Zm440 0h160v-160H620v160ZM180-180h160v-160H180v160Zm440 0h160v-160H620v160Z\"/>\n",
              "  </svg>\n",
              "    </button>\n",
              "\n",
              "  <style>\n",
              "    .colab-df-container {\n",
              "      display:flex;\n",
              "      gap: 12px;\n",
              "    }\n",
              "\n",
              "    .colab-df-convert {\n",
              "      background-color: #E8F0FE;\n",
              "      border: none;\n",
              "      border-radius: 50%;\n",
              "      cursor: pointer;\n",
              "      display: none;\n",
              "      fill: #1967D2;\n",
              "      height: 32px;\n",
              "      padding: 0 0 0 0;\n",
              "      width: 32px;\n",
              "    }\n",
              "\n",
              "    .colab-df-convert:hover {\n",
              "      background-color: #E2EBFA;\n",
              "      box-shadow: 0px 1px 2px rgba(60, 64, 67, 0.3), 0px 1px 3px 1px rgba(60, 64, 67, 0.15);\n",
              "      fill: #174EA6;\n",
              "    }\n",
              "\n",
              "    .colab-df-buttons div {\n",
              "      margin-bottom: 4px;\n",
              "    }\n",
              "\n",
              "    [theme=dark] .colab-df-convert {\n",
              "      background-color: #3B4455;\n",
              "      fill: #D2E3FC;\n",
              "    }\n",
              "\n",
              "    [theme=dark] .colab-df-convert:hover {\n",
              "      background-color: #434B5C;\n",
              "      box-shadow: 0px 1px 3px 1px rgba(0, 0, 0, 0.15);\n",
              "      filter: drop-shadow(0px 1px 2px rgba(0, 0, 0, 0.3));\n",
              "      fill: #FFFFFF;\n",
              "    }\n",
              "  </style>\n",
              "\n",
              "    <script>\n",
              "      const buttonEl =\n",
              "        document.querySelector('#df-92c3b5d6-756c-41bc-a763-1214de88bdcd button.colab-df-convert');\n",
              "      buttonEl.style.display =\n",
              "        google.colab.kernel.accessAllowed ? 'block' : 'none';\n",
              "\n",
              "      async function convertToInteractive(key) {\n",
              "        const element = document.querySelector('#df-92c3b5d6-756c-41bc-a763-1214de88bdcd');\n",
              "        const dataTable =\n",
              "          await google.colab.kernel.invokeFunction('convertToInteractive',\n",
              "                                                    [key], {});\n",
              "        if (!dataTable) return;\n",
              "\n",
              "        const docLinkHtml = 'Like what you see? Visit the ' +\n",
              "          '<a target=\"_blank\" href=https://colab.research.google.com/notebooks/data_table.ipynb>data table notebook</a>'\n",
              "          + ' to learn more about interactive tables.';\n",
              "        element.innerHTML = '';\n",
              "        dataTable['output_type'] = 'display_data';\n",
              "        await google.colab.output.renderOutput(dataTable, element);\n",
              "        const docLink = document.createElement('div');\n",
              "        docLink.innerHTML = docLinkHtml;\n",
              "        element.appendChild(docLink);\n",
              "      }\n",
              "    </script>\n",
              "  </div>\n",
              "\n",
              "\n",
              "<div id=\"df-77fe70db-b87d-48ce-b688-3961d7094e6e\">\n",
              "  <button class=\"colab-df-quickchart\" onclick=\"quickchart('df-77fe70db-b87d-48ce-b688-3961d7094e6e')\"\n",
              "            title=\"Suggest charts\"\n",
              "            style=\"display:none;\">\n",
              "\n",
              "<svg xmlns=\"http://www.w3.org/2000/svg\" height=\"24px\"viewBox=\"0 0 24 24\"\n",
              "     width=\"24px\">\n",
              "    <g>\n",
              "        <path d=\"M19 3H5c-1.1 0-2 .9-2 2v14c0 1.1.9 2 2 2h14c1.1 0 2-.9 2-2V5c0-1.1-.9-2-2-2zM9 17H7v-7h2v7zm4 0h-2V7h2v10zm4 0h-2v-4h2v4z\"/>\n",
              "    </g>\n",
              "</svg>\n",
              "  </button>\n",
              "\n",
              "<style>\n",
              "  .colab-df-quickchart {\n",
              "      --bg-color: #E8F0FE;\n",
              "      --fill-color: #1967D2;\n",
              "      --hover-bg-color: #E2EBFA;\n",
              "      --hover-fill-color: #174EA6;\n",
              "      --disabled-fill-color: #AAA;\n",
              "      --disabled-bg-color: #DDD;\n",
              "  }\n",
              "\n",
              "  [theme=dark] .colab-df-quickchart {\n",
              "      --bg-color: #3B4455;\n",
              "      --fill-color: #D2E3FC;\n",
              "      --hover-bg-color: #434B5C;\n",
              "      --hover-fill-color: #FFFFFF;\n",
              "      --disabled-bg-color: #3B4455;\n",
              "      --disabled-fill-color: #666;\n",
              "  }\n",
              "\n",
              "  .colab-df-quickchart {\n",
              "    background-color: var(--bg-color);\n",
              "    border: none;\n",
              "    border-radius: 50%;\n",
              "    cursor: pointer;\n",
              "    display: none;\n",
              "    fill: var(--fill-color);\n",
              "    height: 32px;\n",
              "    padding: 0;\n",
              "    width: 32px;\n",
              "  }\n",
              "\n",
              "  .colab-df-quickchart:hover {\n",
              "    background-color: var(--hover-bg-color);\n",
              "    box-shadow: 0 1px 2px rgba(60, 64, 67, 0.3), 0 1px 3px 1px rgba(60, 64, 67, 0.15);\n",
              "    fill: var(--button-hover-fill-color);\n",
              "  }\n",
              "\n",
              "  .colab-df-quickchart-complete:disabled,\n",
              "  .colab-df-quickchart-complete:disabled:hover {\n",
              "    background-color: var(--disabled-bg-color);\n",
              "    fill: var(--disabled-fill-color);\n",
              "    box-shadow: none;\n",
              "  }\n",
              "\n",
              "  .colab-df-spinner {\n",
              "    border: 2px solid var(--fill-color);\n",
              "    border-color: transparent;\n",
              "    border-bottom-color: var(--fill-color);\n",
              "    animation:\n",
              "      spin 1s steps(1) infinite;\n",
              "  }\n",
              "\n",
              "  @keyframes spin {\n",
              "    0% {\n",
              "      border-color: transparent;\n",
              "      border-bottom-color: var(--fill-color);\n",
              "      border-left-color: var(--fill-color);\n",
              "    }\n",
              "    20% {\n",
              "      border-color: transparent;\n",
              "      border-left-color: var(--fill-color);\n",
              "      border-top-color: var(--fill-color);\n",
              "    }\n",
              "    30% {\n",
              "      border-color: transparent;\n",
              "      border-left-color: var(--fill-color);\n",
              "      border-top-color: var(--fill-color);\n",
              "      border-right-color: var(--fill-color);\n",
              "    }\n",
              "    40% {\n",
              "      border-color: transparent;\n",
              "      border-right-color: var(--fill-color);\n",
              "      border-top-color: var(--fill-color);\n",
              "    }\n",
              "    60% {\n",
              "      border-color: transparent;\n",
              "      border-right-color: var(--fill-color);\n",
              "    }\n",
              "    80% {\n",
              "      border-color: transparent;\n",
              "      border-right-color: var(--fill-color);\n",
              "      border-bottom-color: var(--fill-color);\n",
              "    }\n",
              "    90% {\n",
              "      border-color: transparent;\n",
              "      border-bottom-color: var(--fill-color);\n",
              "    }\n",
              "  }\n",
              "</style>\n",
              "\n",
              "  <script>\n",
              "    async function quickchart(key) {\n",
              "      const quickchartButtonEl =\n",
              "        document.querySelector('#' + key + ' button');\n",
              "      quickchartButtonEl.disabled = true;  // To prevent multiple clicks.\n",
              "      quickchartButtonEl.classList.add('colab-df-spinner');\n",
              "      try {\n",
              "        const charts = await google.colab.kernel.invokeFunction(\n",
              "            'suggestCharts', [key], {});\n",
              "      } catch (error) {\n",
              "        console.error('Error during call to suggestCharts:', error);\n",
              "      }\n",
              "      quickchartButtonEl.classList.remove('colab-df-spinner');\n",
              "      quickchartButtonEl.classList.add('colab-df-quickchart-complete');\n",
              "    }\n",
              "    (() => {\n",
              "      let quickchartButtonEl =\n",
              "        document.querySelector('#df-77fe70db-b87d-48ce-b688-3961d7094e6e button');\n",
              "      quickchartButtonEl.style.display =\n",
              "        google.colab.kernel.accessAllowed ? 'block' : 'none';\n",
              "    })();\n",
              "  </script>\n",
              "</div>\n",
              "\n",
              "    </div>\n",
              "  </div>\n"
            ],
            "application/vnd.google.colaboratory.intrinsic+json": {
              "type": "dataframe",
              "variable_name": "news",
              "summary": "{\n  \"name\": \"news\",\n  \"rows\": 1385,\n  \"fields\": [\n    {\n      \"column\": \"articleID\",\n      \"properties\": {\n        \"dtype\": \"string\",\n        \"num_unique_values\": 1385,\n        \"samples\": [\n          \"5ab96d8c47de81a9012178f2\",\n          \"5a9ebea6410cf7000162f1ad\",\n          \"5a9d56d947de81a90120a42c\"\n        ],\n        \"semantic_type\": \"\",\n        \"description\": \"\"\n      }\n    },\n    {\n      \"column\": \"byline\",\n      \"properties\": {\n        \"dtype\": \"string\",\n        \"num_unique_values\": 783,\n        \"samples\": [\n          \"By MARK LANDLER and JIM TANKERSLEY\",\n          \"By TAMMY La GORCE\",\n          \"By JAN RANSOM\"\n        ],\n        \"semantic_type\": \"\",\n        \"description\": \"\"\n      }\n    },\n    {\n      \"column\": \"documentType\",\n      \"properties\": {\n        \"dtype\": \"category\",\n        \"num_unique_values\": 1,\n        \"samples\": [\n          \"article\"\n        ],\n        \"semantic_type\": \"\",\n        \"description\": \"\"\n      }\n    },\n    {\n      \"column\": \"headline\",\n      \"properties\": {\n        \"dtype\": \"string\",\n        \"num_unique_values\": 1246,\n        \"samples\": [\n          \"Celebrity Challenge to Cuomo  Cites Inequality and the M.T.A.\"\n        ],\n        \"semantic_type\": \"\",\n        \"description\": \"\"\n      }\n    },\n    {\n      \"column\": \"keywords\",\n      \"properties\": {\n        \"dtype\": \"string\",\n        \"num_unique_values\": 1237,\n        \"samples\": [\n          \"['United States Politics and Government', 'China', 'International Trade and World Market', 'Trump, Donald J', 'Lighthizer, Robert E', 'Customs (Tariff)']\"\n        ],\n        \"semantic_type\": \"\",\n        \"description\": \"\"\n      }\n    },\n    {\n      \"column\": \"multimedia\",\n      \"properties\": {\n        \"dtype\": \"number\",\n        \"std\": 0,\n        \"min\": 0,\n        \"max\": 1,\n        \"num_unique_values\": 2,\n        \"samples\": [\n          0\n        ],\n        \"semantic_type\": \"\",\n        \"description\": \"\"\n      }\n    },\n    {\n      \"column\": \"newDesk\",\n      \"properties\": {\n        \"dtype\": \"category\",\n        \"num_unique_values\": 38,\n        \"samples\": [\n          \"Investigative\"\n        ],\n        \"semantic_type\": \"\",\n        \"description\": \"\"\n      }\n    },\n    {\n      \"column\": \"printPage\",\n      \"properties\": {\n        \"dtype\": \"number\",\n        \"std\": 9,\n        \"min\": 0,\n        \"max\": 115,\n        \"num_unique_values\": 40,\n        \"samples\": [\n          5\n        ],\n        \"semantic_type\": \"\",\n        \"description\": \"\"\n      }\n    },\n    {\n      \"column\": \"pubDate\",\n      \"properties\": {\n        \"dtype\": \"string\",\n        \"num_unique_values\": 1092,\n        \"samples\": [\n          \"14-03-2018 16:49\"\n        ],\n        \"semantic_type\": \"\",\n        \"description\": \"\"\n      }\n    },\n    {\n      \"column\": \"sectionName\",\n      \"properties\": {\n        \"dtype\": \"category\",\n        \"num_unique_values\": 38,\n        \"samples\": [\n          \"Energy & Environment \"\n        ],\n        \"semantic_type\": \"\",\n        \"description\": \"\"\n      }\n    },\n    {\n      \"column\": \"snippet\",\n      \"properties\": {\n        \"dtype\": \"string\",\n        \"num_unique_values\": 1369,\n        \"samples\": [\n          \"As readers turn the page, the portraits undergo an \\u2018interactive\\u2019 transformation that represents the mission of the section.\"\n        ],\n        \"semantic_type\": \"\",\n        \"description\": \"\"\n      }\n    },\n    {\n      \"column\": \"source\",\n      \"properties\": {\n        \"dtype\": \"category\",\n        \"num_unique_values\": 2,\n        \"samples\": [\n          \"International New York Times\"\n        ],\n        \"semantic_type\": \"\",\n        \"description\": \"\"\n      }\n    },\n    {\n      \"column\": \"typeOfMaterial\",\n      \"properties\": {\n        \"dtype\": \"category\",\n        \"num_unique_values\": 8,\n        \"samples\": [\n          \"Editorial\"\n        ],\n        \"semantic_type\": \"\",\n        \"description\": \"\"\n      }\n    },\n    {\n      \"column\": \"webURL\",\n      \"properties\": {\n        \"dtype\": \"string\",\n        \"num_unique_values\": 1385,\n        \"samples\": [\n          \"https://www.nytimes.com/2018/03/26/world/europe/russia-poisoning-expulsions.html\"\n        ],\n        \"semantic_type\": \"\",\n        \"description\": \"\"\n      }\n    },\n    {\n      \"column\": \"articleWordCount\",\n      \"properties\": {\n        \"dtype\": \"number\",\n        \"std\": 785,\n        \"min\": 55,\n        \"max\": 11491,\n        \"num_unique_values\": 944,\n        \"samples\": [\n          970\n        ],\n        \"semantic_type\": \"\",\n        \"description\": \"\"\n      }\n    }\n  ]\n}"
            }
          },
          "metadata": {},
          "execution_count": 4
        }
      ],
      "source": [
        "news = pd.read_csv(\"/content/news-headlines/ArticlesMarch2018.csv\")\n",
        "news.head()"
      ]
    },
    {
      "cell_type": "code",
      "execution_count": 5,
      "id": "number-of-records",
      "metadata": {
        "colab": {
          "base_uri": "https://localhost:8080/"
        },
        "id": "number-of-records",
        "outputId": "51c78972-83fe-4827-82a6-80fa9a38766d"
      },
      "outputs": [
        {
          "output_type": "stream",
          "name": "stdout",
          "text": [
            "Number of records:  1385\n",
            "Number of fields:  15\n"
          ]
        }
      ],
      "source": [
        "print(\"Number of records: \", news.shape[0])\n",
        "print(\"Number of fields: \", news.shape[1])"
      ]
    },
    {
      "cell_type": "markdown",
      "source": [],
      "metadata": {
        "id": "ICJ67KPyQvwI"
      },
      "id": "ICJ67KPyQvwI"
    },
    {
      "cell_type": "markdown",
      "id": "qTi7Y7eO_DJJ",
      "metadata": {
        "id": "qTi7Y7eO_DJJ"
      },
      "source": [
        "# Exploratory Data Analysis\n",
        "\n",
        "Exploratory Data Analysis (EDA) involves analyzing the dataset to summarize its main characteristics, often using visual methods.\n",
        "For this dataset, we can explore the distribution of headline lengths, the most common words, and other relevant statistics.\n"
      ]
    },
    {
      "cell_type": "markdown",
      "id": "wuh6SvdrDUiv",
      "metadata": {
        "id": "wuh6SvdrDUiv"
      },
      "source": [
        "### Display the first few records and some basic statistics"
      ]
    },
    {
      "cell_type": "code",
      "execution_count": 6,
      "id": "headlines",
      "metadata": {
        "colab": {
          "base_uri": "https://localhost:8080/"
        },
        "id": "headlines",
        "outputId": "9e85347f-2863-442c-ff61-c8c8e96dd1ce"
      },
      "outputs": [
        {
          "output_type": "stream",
          "name": "stdout",
          "text": [
            "0                        Virtual Coins, Real Resources\n",
            "1         U.S. Advances Military Plans for North Korea\n",
            "2                   Mr. Trump and the ‘Very Bad Judge’\n",
            "3       To Erase Dissent, China Bans Pooh Bear and ‘N’\n",
            "4    Loans Flowed to Kushner Cos. After Visits to t...\n",
            "Name: headline, dtype: object\n",
            "count        1385\n",
            "unique       1246\n",
            "top       Unknown\n",
            "freq          135\n",
            "Name: headline, dtype: object\n"
          ]
        }
      ],
      "source": [
        "print(news['headline'].head())\n",
        "print(news['headline'].describe())"
      ]
    },
    {
      "cell_type": "markdown",
      "id": "data-preprocessing",
      "metadata": {
        "id": "data-preprocessing"
      },
      "source": [
        "# Data Preprocessing\n",
        "\n",
        "Data preprocessing is a crucial step in preparing the data for model training.\n",
        "It includes tasks such as removing unwanted characters, tokenizing the text, and creating sequences of words for model input."
      ]
    },
    {
      "cell_type": "markdown",
      "id": "G0QXaIaZ_ZZf",
      "metadata": {
        "id": "G0QXaIaZ_ZZf"
      },
      "source": [
        "### Data cleaning"
      ]
    },
    {
      "cell_type": "code",
      "execution_count": 7,
      "id": "clean-headlines",
      "metadata": {
        "id": "clean-headlines"
      },
      "outputs": [],
      "source": [
        "news['headline'] = news['headline'].apply(lambda x: x.replace(u'\\xa0',u' '))\n",
        "news['headline'] = news['headline'].apply(lambda x: x.replace('\\u200a',' '))"
      ]
    },
    {
      "cell_type": "markdown",
      "id": "kbeNUL56_p3c",
      "metadata": {
        "id": "kbeNUL56_p3c"
      },
      "source": [
        "### Tokenization"
      ]
    },
    {
      "cell_type": "code",
      "execution_count": 27,
      "id": "tokenizer",
      "metadata": {
        "colab": {
          "base_uri": "https://localhost:8080/"
        },
        "id": "tokenizer",
        "outputId": "8555b863-c5ce-42c6-a2d9-912b75101f29"
      },
      "outputs": [
        {
          "output_type": "stream",
          "name": "stdout",
          "text": [
            "Total number of words:  3693\n",
            "Word: ID\n",
            "------------\n",
            "<oov>:  1\n",
            "Strong:  3069\n",
            "And:  7\n"
          ]
        }
      ],
      "source": [
        "tokenizer = Tokenizer(oov_token='<oov>') # For those words which are not found in word_index\n",
        "tokenizer.fit_on_texts(news['headline'])\n",
        "\n",
        "tokenizer_json = tokenizer.to_json()\n",
        "with open('tokenizer_news_headline_gru33.json', 'w') as file:\n",
        "    file.write(tokenizer_json)\n",
        "\n",
        "total_words = len(tokenizer.word_index) + 1\n",
        "\n",
        "print(\"Total number of words: \", total_words)\n",
        "print(\"Word: ID\")\n",
        "print(\"------------\")\n",
        "print(\"<oov>: \", tokenizer.word_index['<oov>'])\n",
        "print(\"Strong: \", tokenizer.word_index['strong'])\n",
        "print(\"And: \", tokenizer.word_index['and'])"
      ]
    },
    {
      "cell_type": "markdown",
      "id": "yzrkz2dS_w63",
      "metadata": {
        "id": "yzrkz2dS_w63"
      },
      "source": [
        "### Creating sequences of words"
      ]
    },
    {
      "cell_type": "code",
      "execution_count": 9,
      "id": "create-sequences",
      "metadata": {
        "colab": {
          "base_uri": "https://localhost:8080/"
        },
        "id": "create-sequences",
        "outputId": "f77730a2-060b-42fa-9c46-c1824e513790"
      },
      "outputs": [
        {
          "output_type": "stream",
          "name": "stdout",
          "text": [
            "Total input sequences:  8290\n"
          ]
        }
      ],
      "source": [
        "input_sequences = []\n",
        "for line in news['headline']:\n",
        "    token_list = tokenizer.texts_to_sequences([line])[0]\n",
        "    for i in range(1, len(token_list)):\n",
        "        n_gram_sequence = token_list[:i+1]\n",
        "        input_sequences.append(n_gram_sequence)\n",
        "\n",
        "print(\"Total input sequences: \", len(input_sequences))"
      ]
    },
    {
      "cell_type": "markdown",
      "id": "ha3K91ll__IK",
      "metadata": {
        "id": "ha3K91ll__IK"
      },
      "source": [
        "### Pad sequences"
      ]
    },
    {
      "cell_type": "code",
      "execution_count": 10,
      "id": "pad-sequences",
      "metadata": {
        "colab": {
          "base_uri": "https://localhost:8080/"
        },
        "id": "pad-sequences",
        "outputId": "db0c9998-f432-43db-efb8-bbec1aa44dfd"
      },
      "outputs": [
        {
          "output_type": "execute_result",
          "data": {
            "text/plain": [
              "array([   0,    0,    0,    0,    0,    0,    0,    0,    0,    0,    0,\n",
              "          0,    0,    0,    0,    0, 1150, 1151,  126], dtype=int32)"
            ]
          },
          "metadata": {},
          "execution_count": 10
        }
      ],
      "source": [
        "max_sequence_len = max([len(x) for x in input_sequences])\n",
        "input_sequences = np.array(pad_sequences(input_sequences, maxlen=max_sequence_len, padding='pre'))\n",
        "input_sequences[1]"
      ]
    },
    {
      "cell_type": "markdown",
      "id": "xKlNLSS6AEgP",
      "metadata": {
        "id": "xKlNLSS6AEgP"
      },
      "source": [
        "### Create features and label"
      ]
    },
    {
      "cell_type": "code",
      "execution_count": 11,
      "id": "create-features-labels",
      "metadata": {
        "id": "create-features-labels"
      },
      "outputs": [],
      "source": [
        "xs, labels = input_sequences[:, :-1], input_sequences[:, -1]\n",
        "ys = tf.keras.utils.to_categorical(labels, num_classes=total_words)"
      ]
    },
    {
      "cell_type": "code",
      "source": [
        "# Splitting data into training and testing sets\n",
        "x_train, x_test, y_train, y_test = train_test_split(xs, ys, test_size=0.2, random_state=42)"
      ],
      "metadata": {
        "id": "jRbrtQNwRMl9"
      },
      "id": "jRbrtQNwRMl9",
      "execution_count": 12,
      "outputs": []
    },
    {
      "cell_type": "code",
      "execution_count": 13,
      "id": "print-features-labels",
      "metadata": {
        "colab": {
          "base_uri": "https://localhost:8080/"
        },
        "id": "print-features-labels",
        "outputId": "c7806284-6ed2-435a-fbf0-8067510d41f9"
      },
      "outputs": [
        {
          "output_type": "stream",
          "name": "stdout",
          "text": [
            "[   0    0    0    0    0    0    0    0    0    0    0    0    0    0\n",
            "    0   24   34 1153]\n",
            "614\n",
            "0.0\n"
          ]
        }
      ],
      "source": [
        "print(xs[5])\n",
        "print(labels[5])\n",
        "print(ys[5][14])"
      ]
    },
    {
      "cell_type": "markdown",
      "id": "model-implementation",
      "metadata": {
        "id": "model-implementation"
      },
      "source": [
        "# Model Implementation\n",
        "\n",
        "In this section, we implement the model for next-word prediction.\n",
        "We use a Bidirectional LSTM model with an Embedding layer and a Dense layer with a softmax activation function."
      ]
    },
    {
      "cell_type": "markdown",
      "id": "uyjhrGvmAS6z",
      "metadata": {
        "id": "uyjhrGvmAS6z"
      },
      "source": [
        "### Define the model"
      ]
    },
    {
      "cell_type": "code",
      "execution_count": 14,
      "id": "define-model",
      "metadata": {
        "id": "define-model"
      },
      "outputs": [],
      "source": [
        "# Building the model\n",
        "model = Sequential()\n",
        "model.add(Embedding(total_words, 100, input_length=max_sequence_len-1))\n",
        "model.add(Bidirectional(LSTM(150)))\n",
        "model.add(Dense(total_words, activation='softmax'))\n"
      ]
    },
    {
      "cell_type": "markdown",
      "id": "wPoe0MrIAczG",
      "metadata": {
        "id": "wPoe0MrIAczG"
      },
      "source": [
        "### Compile the model"
      ]
    },
    {
      "cell_type": "code",
      "execution_count": 15,
      "id": "kj1XDIicAb58",
      "metadata": {
        "colab": {
          "base_uri": "https://localhost:8080/"
        },
        "id": "kj1XDIicAb58",
        "outputId": "dbfa5a88-a94a-493b-ad25-185ad4803946"
      },
      "outputs": [
        {
          "output_type": "stream",
          "name": "stdout",
          "text": [
            "Model: \"sequential\"\n",
            "_________________________________________________________________\n",
            " Layer (type)                Output Shape              Param #   \n",
            "=================================================================\n",
            " embedding (Embedding)       (None, 18, 100)           369300    \n",
            "                                                                 \n",
            " bidirectional (Bidirection  (None, 300)               301200    \n",
            " al)                                                             \n",
            "                                                                 \n",
            " dense (Dense)               (None, 3693)              1111593   \n",
            "                                                                 \n",
            "=================================================================\n",
            "Total params: 1782093 (6.80 MB)\n",
            "Trainable params: 1782093 (6.80 MB)\n",
            "Non-trainable params: 0 (0.00 Byte)\n",
            "_________________________________________________________________\n",
            "None\n"
          ]
        }
      ],
      "source": [
        "adam = Adam(learning_rate=0.01)\n",
        "model.compile(loss='categorical_crossentropy', optimizer=adam, metrics=['accuracy'])\n",
        "print(model.summary())"
      ]
    },
    {
      "cell_type": "markdown",
      "id": "Kyf1nPvHAiVO",
      "metadata": {
        "id": "Kyf1nPvHAiVO"
      },
      "source": [
        "### Train the model\n",
        "\n"
      ]
    },
    {
      "cell_type": "code",
      "execution_count": 16,
      "id": "train-model",
      "metadata": {
        "colab": {
          "base_uri": "https://localhost:8080/"
        },
        "id": "train-model",
        "outputId": "e3d9a4dc-b0d5-497f-b85e-8c73a4b46dfb"
      },
      "outputs": [
        {
          "output_type": "stream",
          "name": "stdout",
          "text": [
            "Epoch 1/50\n",
            "208/208 [==============================] - 10s 32ms/step - loss: 7.5905 - accuracy: 0.0326 - val_loss: 7.5475 - val_accuracy: 0.0428\n",
            "Epoch 2/50\n",
            "208/208 [==============================] - 6s 27ms/step - loss: 6.6115 - accuracy: 0.0659 - val_loss: 7.8282 - val_accuracy: 0.0663\n",
            "Epoch 3/50\n",
            "208/208 [==============================] - 6s 27ms/step - loss: 5.3191 - accuracy: 0.1310 - val_loss: 8.4400 - val_accuracy: 0.0645\n",
            "Epoch 4/50\n",
            "208/208 [==============================] - 6s 28ms/step - loss: 3.6626 - accuracy: 0.2794 - val_loss: 9.4229 - val_accuracy: 0.0567\n",
            "Epoch 5/50\n",
            "208/208 [==============================] - 6s 27ms/step - loss: 2.1510 - accuracy: 0.5277 - val_loss: 10.1578 - val_accuracy: 0.0579\n",
            "Epoch 6/50\n",
            "208/208 [==============================] - 6s 27ms/step - loss: 1.2314 - accuracy: 0.7301 - val_loss: 10.8112 - val_accuracy: 0.0591\n",
            "Epoch 7/50\n",
            "208/208 [==============================] - 6s 26ms/step - loss: 0.7415 - accuracy: 0.8448 - val_loss: 11.1401 - val_accuracy: 0.0585\n",
            "Epoch 8/50\n",
            "208/208 [==============================] - 6s 27ms/step - loss: 0.5041 - accuracy: 0.8955 - val_loss: 11.3372 - val_accuracy: 0.0591\n",
            "Epoch 9/50\n",
            "208/208 [==============================] - 6s 27ms/step - loss: 0.4073 - accuracy: 0.9119 - val_loss: 11.4053 - val_accuracy: 0.0633\n",
            "Epoch 10/50\n",
            "208/208 [==============================] - 6s 27ms/step - loss: 0.3645 - accuracy: 0.9160 - val_loss: 11.4602 - val_accuracy: 0.0633\n",
            "Epoch 11/50\n",
            "208/208 [==============================] - 6s 27ms/step - loss: 0.3437 - accuracy: 0.9150 - val_loss: 11.4920 - val_accuracy: 0.0682\n",
            "Epoch 12/50\n",
            "208/208 [==============================] - 6s 27ms/step - loss: 0.3233 - accuracy: 0.9183 - val_loss: 11.5402 - val_accuracy: 0.0609\n",
            "Epoch 13/50\n",
            "208/208 [==============================] - 6s 27ms/step - loss: 0.3111 - accuracy: 0.9199 - val_loss: 11.6054 - val_accuracy: 0.0615\n",
            "Epoch 14/50\n",
            "208/208 [==============================] - 6s 27ms/step - loss: 0.3101 - accuracy: 0.9178 - val_loss: 11.6487 - val_accuracy: 0.0597\n",
            "Epoch 15/50\n",
            "208/208 [==============================] - 6s 27ms/step - loss: 0.3052 - accuracy: 0.9172 - val_loss: 11.6712 - val_accuracy: 0.0615\n",
            "Epoch 16/50\n",
            "208/208 [==============================] - 6s 27ms/step - loss: 0.3012 - accuracy: 0.9184 - val_loss: 11.7382 - val_accuracy: 0.0579\n",
            "Epoch 17/50\n",
            "208/208 [==============================] - 6s 27ms/step - loss: 0.2993 - accuracy: 0.9172 - val_loss: 11.8062 - val_accuracy: 0.0603\n",
            "Epoch 18/50\n",
            "208/208 [==============================] - 6s 27ms/step - loss: 0.2952 - accuracy: 0.9183 - val_loss: 11.7866 - val_accuracy: 0.0615\n",
            "Epoch 19/50\n",
            "208/208 [==============================] - 6s 27ms/step - loss: 0.2964 - accuracy: 0.9178 - val_loss: 11.9150 - val_accuracy: 0.0639\n",
            "Epoch 20/50\n",
            "208/208 [==============================] - 6s 27ms/step - loss: 0.2922 - accuracy: 0.9168 - val_loss: 11.9561 - val_accuracy: 0.0663\n",
            "Epoch 21/50\n",
            "208/208 [==============================] - 6s 27ms/step - loss: 0.2938 - accuracy: 0.9171 - val_loss: 12.0080 - val_accuracy: 0.0633\n",
            "Epoch 22/50\n",
            "208/208 [==============================] - 6s 26ms/step - loss: 0.3068 - accuracy: 0.9169 - val_loss: 11.8888 - val_accuracy: 0.0633\n",
            "Epoch 23/50\n",
            "208/208 [==============================] - 6s 27ms/step - loss: 3.5412 - accuracy: 0.3919 - val_loss: 11.2280 - val_accuracy: 0.0422\n",
            "Epoch 24/50\n",
            "208/208 [==============================] - 6s 27ms/step - loss: 4.8873 - accuracy: 0.2242 - val_loss: 11.9484 - val_accuracy: 0.0470\n",
            "Epoch 25/50\n",
            "208/208 [==============================] - 6s 27ms/step - loss: 2.7719 - accuracy: 0.4294 - val_loss: 12.8234 - val_accuracy: 0.0495\n",
            "Epoch 26/50\n",
            "208/208 [==============================] - 6s 27ms/step - loss: 1.5676 - accuracy: 0.6527 - val_loss: 13.1967 - val_accuracy: 0.0579\n",
            "Epoch 27/50\n",
            "208/208 [==============================] - 6s 27ms/step - loss: 0.9354 - accuracy: 0.7900 - val_loss: 13.6635 - val_accuracy: 0.0555\n",
            "Epoch 28/50\n",
            "208/208 [==============================] - 6s 27ms/step - loss: 0.6324 - accuracy: 0.8718 - val_loss: 13.8210 - val_accuracy: 0.0669\n",
            "Epoch 29/50\n",
            "208/208 [==============================] - 6s 27ms/step - loss: 0.5256 - accuracy: 0.8987 - val_loss: 13.9169 - val_accuracy: 0.0663\n",
            "Epoch 30/50\n",
            "208/208 [==============================] - 6s 27ms/step - loss: 0.4601 - accuracy: 0.9116 - val_loss: 13.9206 - val_accuracy: 0.0682\n",
            "Epoch 31/50\n",
            "208/208 [==============================] - 6s 27ms/step - loss: 0.4178 - accuracy: 0.9150 - val_loss: 13.9942 - val_accuracy: 0.0676\n",
            "Epoch 32/50\n",
            "208/208 [==============================] - 5s 26ms/step - loss: 0.4112 - accuracy: 0.9160 - val_loss: 14.0346 - val_accuracy: 0.0730\n",
            "Epoch 33/50\n",
            "208/208 [==============================] - 6s 27ms/step - loss: 0.4024 - accuracy: 0.9159 - val_loss: 14.1021 - val_accuracy: 0.0736\n",
            "Epoch 34/50\n",
            "208/208 [==============================] - 5s 26ms/step - loss: 0.3892 - accuracy: 0.9175 - val_loss: 14.2316 - val_accuracy: 0.0676\n",
            "Epoch 35/50\n",
            "208/208 [==============================] - 5s 26ms/step - loss: 0.4055 - accuracy: 0.9162 - val_loss: 14.1148 - val_accuracy: 0.0669\n",
            "Epoch 36/50\n",
            "208/208 [==============================] - 6s 27ms/step - loss: 0.3971 - accuracy: 0.9165 - val_loss: 14.2070 - val_accuracy: 0.0730\n",
            "Epoch 37/50\n",
            "208/208 [==============================] - 6s 27ms/step - loss: 0.3841 - accuracy: 0.9172 - val_loss: 14.2762 - val_accuracy: 0.0724\n",
            "Epoch 38/50\n",
            "208/208 [==============================] - 6s 27ms/step - loss: 0.3768 - accuracy: 0.9192 - val_loss: 14.2533 - val_accuracy: 0.0730\n",
            "Epoch 39/50\n",
            "208/208 [==============================] - 5s 26ms/step - loss: 0.3804 - accuracy: 0.9159 - val_loss: 14.3933 - val_accuracy: 0.0724\n",
            "Epoch 40/50\n",
            "208/208 [==============================] - 6s 27ms/step - loss: 0.3755 - accuracy: 0.9181 - val_loss: 14.4390 - val_accuracy: 0.0688\n",
            "Epoch 41/50\n",
            "208/208 [==============================] - 6s 27ms/step - loss: 0.3823 - accuracy: 0.9177 - val_loss: 14.4938 - val_accuracy: 0.0700\n",
            "Epoch 42/50\n",
            "208/208 [==============================] - 6s 27ms/step - loss: 0.3797 - accuracy: 0.9178 - val_loss: 14.4227 - val_accuracy: 0.0676\n",
            "Epoch 43/50\n",
            "208/208 [==============================] - 6s 27ms/step - loss: 0.3869 - accuracy: 0.9162 - val_loss: 14.5801 - val_accuracy: 0.0585\n",
            "Epoch 44/50\n",
            "208/208 [==============================] - 6s 26ms/step - loss: 0.7267 - accuracy: 0.8347 - val_loss: 14.7028 - val_accuracy: 0.0452\n",
            "Epoch 45/50\n",
            "208/208 [==============================] - 5s 26ms/step - loss: 4.2721 - accuracy: 0.2862 - val_loss: 14.9470 - val_accuracy: 0.0434\n",
            "Epoch 46/50\n",
            "208/208 [==============================] - 6s 27ms/step - loss: 2.5713 - accuracy: 0.4774 - val_loss: 15.0719 - val_accuracy: 0.0489\n",
            "Epoch 47/50\n",
            "208/208 [==============================] - 6s 27ms/step - loss: 1.3174 - accuracy: 0.6965 - val_loss: 15.0908 - val_accuracy: 0.0645\n",
            "Epoch 48/50\n",
            "208/208 [==============================] - 6s 27ms/step - loss: 0.7878 - accuracy: 0.8142 - val_loss: 15.3968 - val_accuracy: 0.0567\n",
            "Epoch 49/50\n",
            "208/208 [==============================] - 6s 27ms/step - loss: 0.5407 - accuracy: 0.8807 - val_loss: 15.4704 - val_accuracy: 0.0639\n",
            "Epoch 50/50\n",
            "208/208 [==============================] - 6s 27ms/step - loss: 0.4541 - accuracy: 0.9077 - val_loss: 15.5057 - val_accuracy: 0.0615\n"
          ]
        }
      ],
      "source": [
        "history = model.fit(x_train, y_train, epochs=50, verbose=1, validation_data=(x_test, y_test))"
      ]
    },
    {
      "cell_type": "markdown",
      "id": "model-evaluation",
      "metadata": {
        "id": "model-evaluation"
      },
      "source": [
        "# Model Evaluation and Discussion\n",
        "\n",
        "Model evaluation involves assessing the performance of the model on the training data.\n",
        "We use accuracy and loss metrics to evaluate the model during training.\n",
        "We also visualize the training progress using plots.."
      ]
    },
    {
      "cell_type": "code",
      "source": [
        "# Evaluating the model\n",
        "loss, accuracy = model.evaluate(x_test, y_test, verbose=1)\n",
        "print(f\"Test Accuracy: {accuracy*100:.2f}%\")"
      ],
      "metadata": {
        "colab": {
          "base_uri": "https://localhost:8080/"
        },
        "id": "QL3GFwkQRxe9",
        "outputId": "1d6e84a7-f012-483f-cc16-8b2f75508d4c"
      },
      "id": "QL3GFwkQRxe9",
      "execution_count": 17,
      "outputs": [
        {
          "output_type": "stream",
          "name": "stdout",
          "text": [
            "52/52 [==============================] - 1s 9ms/step - loss: 15.5057 - accuracy: 0.0615\n",
            "Test Accuracy: 6.15%\n"
          ]
        }
      ]
    },
    {
      "cell_type": "code",
      "source": [
        "# Plotting training & validation accuracy values\n",
        "import matplotlib.pyplot as plt\n",
        "plt.subplot(1, 2, 1)\n",
        "plt.plot(history.history['accuracy'])\n",
        "plt.plot(history.history['val_accuracy'])\n",
        "plt.title('Model accuracy')\n",
        "plt.ylabel('Accuracy')\n",
        "plt.xlabel('Epoch')\n",
        "plt.legend(['Train', 'Test'], loc='upper left')\n",
        "\n",
        "# Plotting training & validation loss values\n",
        "plt.subplot(1, 2, 2)\n",
        "plt.plot(history.history['loss'])\n",
        "plt.plot(history.history['val_loss'])\n",
        "plt.title('Model loss')\n",
        "plt.ylabel('Loss')\n",
        "plt.xlabel('Epoch')\n",
        "plt.legend(['Train', 'Test'], loc='upper left')\n",
        "\n",
        "plt.tight_layout()\n",
        "plt.show()"
      ],
      "metadata": {
        "colab": {
          "base_uri": "https://localhost:8080/",
          "height": 507
        },
        "id": "c022iSXuSMZ3",
        "outputId": "ed521aeb-7e17-47fd-def2-05551eb1eee1"
      },
      "id": "c022iSXuSMZ3",
      "execution_count": 19,
      "outputs": [
        {
          "output_type": "display_data",
          "data": {
            "text/plain": [
              "<Figure size 640x480 with 2 Axes>"
            ],
            "image/png": "[encoded data removed]"
          },
          "metadata": {}
        }
      ]
    },
    {
      "cell_type": "code",
      "execution_count": 23,
      "id": "hMP8zBeaA4ZI",
      "metadata": {
        "id": "hMP8zBeaA4ZI"
      },
      "outputs": [],
      "source": [
        "import matplotlib.pyplot as plt"
      ]
    },
    {
      "cell_type": "code",
      "execution_count": 24,
      "id": "aX-rRoXLA6tv",
      "metadata": {
        "id": "aX-rRoXLA6tv"
      },
      "outputs": [],
      "source": [
        "def plot_graphs(history, string):\n",
        "    plt.plot(history.history[string])\n",
        "    plt.xlabel(\"Epochs\")\n",
        "    plt.ylabel(string)\n",
        "    plt.show()"
      ]
    },
    {
      "cell_type": "code",
      "execution_count": 25,
      "id": "hKQZNBXFA8_M",
      "metadata": {
        "id": "hKQZNBXFA8_M",
        "colab": {
          "base_uri": "https://localhost:8080/",
          "height": 901
        },
        "outputId": "e0d2e5a8-1f47-4872-90eb-630ad84249c0"
      },
      "outputs": [
        {
          "output_type": "display_data",
          "data": {
            "text/plain": [
              "<Figure size 640x480 with 1 Axes>"
            ],
            "image/png": "[encoded data removed]"
          },
          "metadata": {}
        },
        {
          "output_type": "display_data",
          "data": {
            "text/plain": [
              "<Figure size 640x480 with 1 Axes>"
            ],
            "image/png": "[encoded data removed]"
          },
          "metadata": {}
        }
      ],
      "source": [
        "plot_graphs(history, 'accuracy')\n",
        "plot_graphs(history, 'loss')"
      ]
    },
    {
      "cell_type": "markdown",
      "id": "EQYnyoo3BJ1U",
      "metadata": {
        "id": "EQYnyoo3BJ1U"
      },
      "source": [
        "# Conclusion\n",
        "\n",
        "In this project, we developed a next-word prediction model using a Bidirectional LSTM.\n",
        "The model was trained on a dataset of news headlines, and we evaluated its performance using accuracy and loss metrics.\n",
        "The results indicate that the model is capable of predicting the next word in a given sequence with reasonable accuracy.\n",
        "Further improvements could include experimenting with different model architectures and hyperparameters, and training on a larger dataset."
      ]
    },
    {
      "cell_type": "markdown",
      "id": "9p4Jr12EBSFo",
      "metadata": {
        "id": "9p4Jr12EBSFo"
      },
      "source": [
        "# References\n",
        "\n",
        "1. Brownlee, J. (2017). Deep Learning for Natural Language Processing.\n",
        "2. Hochreiter, S., & Schmidhuber, J. (1997). Long Short-Term Memory. Neural Computation, 9(8), 1735-1780.\n",
        "3. Vaswani, A., et al. (2017). Attention Is All You Need. Advances in Neural Information Processing Systems."
      ]
    },
    {
      "cell_type": "markdown",
      "id": "VvAOUkYtBeJ-",
      "metadata": {
        "id": "VvAOUkYtBeJ-"
      },
      "source": [
        "### Saving the model"
      ]
    },
    {
      "cell_type": "code",
      "execution_count": 20,
      "id": "omiA8rpiBgSP",
      "metadata": {
        "id": "omiA8rpiBgSP",
        "colab": {
          "base_uri": "https://localhost:8080/"
        },
        "outputId": "a1f88640-8f8e-46fe-b3ef-9d7a424f6839"
      },
      "outputs": [
        {
          "output_type": "stream",
          "name": "stderr",
          "text": [
            "/usr/local/lib/python3.10/dist-packages/keras/src/engine/training.py:3103: UserWarning: You are saving your model as an HDF5 file via `model.save()`. This file format is considered legacy. We recommend using instead the native Keras format, e.g. `model.save('my_model.keras')`.\n",
            "  saving_api.save_model(\n"
          ]
        }
      ],
      "source": [
        "model.save(\"next_word_prediction_model_news_headline_gro33.h5\")\n",
        "model.save(\"next_word_prediction_model_news_headline_gru33.keras\")"
      ]
    },
    {
      "cell_type": "code",
      "source": [
        "max_length = max([len(input_sequence) for input_sequence in input_sequences])\n",
        "max_length"
      ],
      "metadata": {
        "colab": {
          "base_uri": "https://localhost:8080/"
        },
        "id": "Bed2OZl2VJWR",
        "outputId": "5f4f176a-4a3c-42f9-97c5-80ecde2dde6e"
      },
      "id": "Bed2OZl2VJWR",
      "execution_count": 26,
      "outputs": [
        {
          "output_type": "execute_result",
          "data": {
            "text/plain": [
              "19"
            ]
          },
          "metadata": {},
          "execution_count": 26
        }
      ]
    },
    {
      "cell_type": "markdown",
      "id": "W2N-hzXrBk_3",
      "metadata": {
        "id": "W2N-hzXrBk_3"
      },
      "source": [
        "### Text Generation Function\n",
        "\n",
        "This function takes a seed text and generates the next words based on the trained model."
      ]
    },
    {
      "cell_type": "code",
      "execution_count": 21,
      "id": "evaluate-model",
      "metadata": {
        "id": "evaluate-model"
      },
      "outputs": [],
      "source": [
        "def generate_text(model, tokenizer, seed_text, max_sequence_len, next_words):\n",
        "    for _ in range(next_words):\n",
        "        token_list = tokenizer.texts_to_sequences([seed_text])[0]\n",
        "        token_list = pad_sequences([token_list], maxlen=max_sequence_len - 1, padding='pre')\n",
        "        predicted = model.predict(token_list, verbose=0)\n",
        "        predicted = np.argmax(predicted, axis=1)\n",
        "        output_word = \"\"\n",
        "        for word, index in tokenizer.word_index.items():\n",
        "            if index == predicted:\n",
        "                output_word = word\n",
        "                break\n",
        "        seed_text += \" \" + output_word\n",
        "    return seed_text"
      ]
    },
    {
      "cell_type": "markdown",
      "id": "conclusion",
      "metadata": {
        "id": "conclusion"
      },
      "source": [
        "### Example usage"
      ]
    },
    {
      "cell_type": "code",
      "execution_count": 22,
      "id": "HtV9tIitB0Wn",
      "metadata": {
        "id": "HtV9tIitB0Wn",
        "colab": {
          "base_uri": "https://localhost:8080/"
        },
        "outputId": "390b8e73-4ff5-451a-dcb3-a56e847315bf"
      },
      "outputs": [
        {
          "output_type": "stream",
          "name": "stdout",
          "text": [
            "I am just walks that way to\n"
          ]
        }
      ],
      "source": [
        "seed_text = \"I am\"\n",
        "next_words = 5\n",
        "generated_text = generate_text(model, tokenizer, seed_text, max_sequence_len, next_words)\n",
        "print(generated_text)"
      ]
    },
    {
      "cell_type": "code",
      "source": [
        "!pip install keras tensorflow"
      ],
      "metadata": {
        "id": "sw17k_GL5lZI"
      },
      "id": "sw17k_GL5lZI",
      "execution_count": null,
      "outputs": []
    }
  ],
  "metadata": {
    "accelerator": "TPU",
    "colab": {
      "gpuType": "V28",
      "provenance": []
    },
    "kernelspec": {
      "display_name": "Python 3",
      "name": "python3"
    },
    "language_info": {
      "codemirror_mode": {
        "name": "ipython",
        "version": 3
      },
      "file_extension": ".py",
      "mimetype": "text/x-python",
      "name": "python",
      "nbconvert_exporter": "python",
      "pygments_lexer": "ipython3",
      "version": "3.11.5"
    }
  },
  "nbformat": 4,
  "nbformat_minor": 5
}
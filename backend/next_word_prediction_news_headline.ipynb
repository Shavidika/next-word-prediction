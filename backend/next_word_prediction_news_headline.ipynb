{
  "cells": [
    {
      "cell_type": "markdown",
      "id": "literature-survey",
      "metadata": {
        "id": "literature-survey"
      },
      "source": [
        "# Literature Survey\n",
        "\n",
        "In the domain of natural language processing (NLP), next-word prediction models have gained significant attention. These models are utilized in various applications, such as text completion, chatbots, and virtual assistants. Key studies and advancements in this area include the development of Recurrent Neural Networks (RNNs), Long Short-Term Memory (LSTM) networks, and more recently, Transformer-based models. Each of these models has contributed to improving the accuracy and efficiency of next-word prediction tasks."
      ]
    },
    {
      "cell_type": "markdown",
      "id": "dataset-description",
      "metadata": {
        "id": "dataset-description"
      },
      "source": [
        "# Dataset Description\n",
        "\n",
        "The dataset used in this project is sourced from Kaggle and contains news headlines from the month of March 2018.\n",
        "The dataset provides a rich source of textual data suitable for training a next-word prediction model.\n",
        "Each record in the dataset represents a single news headline."
      ]
    },
    {
      "cell_type": "markdown",
      "source": [],
      "metadata": {
        "id": "9klyTpUH5kBJ"
      },
      "id": "9klyTpUH5kBJ"
    },
    {
      "cell_type": "code",
      "execution_count": 1,
      "id": "import-libraries",
      "metadata": {
        "id": "import-libraries"
      },
      "outputs": [],
      "source": [
        "\n",
        "\n",
        "import pandas as pd\n",
        "import os\n",
        "import numpy as np\n",
        "\n",
        "import tensorflow as tf\n",
        "from tensorflow.keras.preprocessing.sequence import pad_sequences\n",
        "from tensorflow.keras.layers import Embedding, LSTM, Dense, Bidirectional\n",
        "from tensorflow.keras.preprocessing.text import Tokenizer\n",
        "from tensorflow.keras.models import Sequential\n",
        "from tensorflow.keras.optimizers import Adam"
      ]
    },
    {
      "cell_type": "markdown",
      "id": "zDa185doCyWk",
      "metadata": {
        "id": "zDa185doCyWk"
      },
      "source": [
        "### Install opendatasets and download the dataset"
      ]
    },
    {
      "cell_type": "code",
      "execution_count": 2,
      "id": "load-dataset",
      "metadata": {
        "id": "load-dataset"
      },
      "outputs": [],
      "source": [
        "!pip install opendatasets -q\n",
        "import opendatasets as od"
      ]
    },
    {
      "cell_type": "markdown",
      "id": "VIC3j3Q3C2qz",
      "metadata": {
        "id": "VIC3j3Q3C2qz"
      },
      "source": [
        "### Download the dataset"
      ]
    },
    {
      "cell_type": "code",
      "execution_count": 3,
      "id": "bGjeFfZa-u8-",
      "metadata": {
        "colab": {
          "base_uri": "https://localhost:8080/"
        },
        "id": "bGjeFfZa-u8-",
        "outputId": "7c631ea2-ff5a-4bbd-963a-b43f92506884"
      },
      "outputs": [
        {
          "output_type": "stream",
          "name": "stdout",
          "text": [
            "Please provide your Kaggle credentials to download this dataset. Learn more: http://bit.ly/kaggle-creds\n",
            "Your Kaggle username: bawantharathnayake\n",
            "Your Kaggle Key: ··········\n",
            "Dataset URL: https://www.kaggle.com/datasets/manishguptads/news-headlines\n",
            "Downloading news-headlines.zip to ./news-headlines\n"
          ]
        },
        {
          "output_type": "stream",
          "name": "stderr",
          "text": [
            "100%|██████████| 243k/243k [00:00<00:00, 436kB/s]"
          ]
        },
        {
          "output_type": "stream",
          "name": "stdout",
          "text": [
            "\n"
          ]
        },
        {
          "output_type": "stream",
          "name": "stderr",
          "text": [
            "\n"
          ]
        }
      ],
      "source": [
        "od.download(\"https://www.kaggle.com/datasets/manishguptads/news-headlines/code\")"
      ]
    },
    {
      "cell_type": "markdown",
      "id": "B0m6UQYYDKgx",
      "metadata": {
        "id": "B0m6UQYYDKgx"
      },
      "source": [
        "### Load the dataset"
      ]
    },
    {
      "cell_type": "code",
      "execution_count": 4,
      "id": "exploratory-data-analysis",
      "metadata": {
        "colab": {
          "base_uri": "https://localhost:8080/",
          "height": 643
        },
        "id": "exploratory-data-analysis",
        "outputId": "3b97aaaf-ff8e-4f19-83f1-b3b6cdc5cfc6"
      },
      "outputs": [
        {
          "output_type": "execute_result",
          "data": {
            "text/plain": [
              "                  articleID                                        byline  \\\n",
              "0  5a974697410cf7000162e8a4                         By BINYAMIN APPELBAUM   \n",
              "1  5a974be7410cf7000162e8af             By HELENE COOPER and ERIC SCHMITT   \n",
              "2  5a9752a2410cf7000162e8ba                        By THE EDITORIAL BOARD   \n",
              "3  5a975310410cf7000162e8bd                        By JAVIER C. HERNÁNDEZ   \n",
              "4  5a975406410cf7000162e8c3  By JESSE DRUCKER, KATE KELLY and BEN PROTESS   \n",
              "\n",
              "  documentType                                           headline  \\\n",
              "0      article                      Virtual Coins, Real Resources   \n",
              "1      article       U.S. Advances Military Plans for North Korea   \n",
              "2      article                 Mr. Trump and the ‘Very Bad Judge’   \n",
              "3      article     To Erase Dissent, China Bans Pooh Bear and ‘N’   \n",
              "4      article  Loans Flowed to Kushner Cos. After Visits to t...   \n",
              "\n",
              "                                            keywords  multimedia     newDesk  \\\n",
              "0  ['Bitcoin (Currency)', 'Electric Light and Pow...           1    Business   \n",
              "1  ['United States Defense and Military Forces', ...           1  Washington   \n",
              "2  ['Trump, Donald J', 'Curiel, Gonzalo P', 'Unit...           1   Editorial   \n",
              "3  ['China', 'Xi Jinping', 'Term Limits (Politica...           1     Foreign   \n",
              "4  ['Kushner, Jared', 'Kushner Cos', 'United Stat...           1    Business   \n",
              "\n",
              "   printPage           pubDate   sectionName  \\\n",
              "0          1  01-03-2018 00:17       Economy   \n",
              "1         11  01-03-2018 00:40  Asia Pacific   \n",
              "2         26  01-03-2018 01:08       Unknown   \n",
              "3          1  01-03-2018 01:10  Asia Pacific   \n",
              "4          1  01-03-2018 01:14       Unknown   \n",
              "\n",
              "                                             snippet              source  \\\n",
              "0  America has a productivity problem. One explan...  The New York Times   \n",
              "1  The American military is looking at everything...  The New York Times   \n",
              "2  Can you guess which man is the model public se...  The New York Times   \n",
              "3  Censors swung into action after Mr. Xi’s bid t...  The New York Times   \n",
              "4  Apollo, the private equity firm, and Citigroup...  The New York Times   \n",
              "\n",
              "  typeOfMaterial                                             webURL  \\\n",
              "0           News  https://www.nytimes.com/2018/02/28/business/ec...   \n",
              "1           News  https://www.nytimes.com/2018/02/28/world/asia/...   \n",
              "2      Editorial  https://www.nytimes.com/2018/02/28/opinion/tru...   \n",
              "3           News  https://www.nytimes.com/2018/02/28/world/asia/...   \n",
              "4           News  https://www.nytimes.com/2018/02/28/business/ja...   \n",
              "\n",
              "   articleWordCount  \n",
              "0              1207  \n",
              "1              1215  \n",
              "2              1043  \n",
              "3              1315  \n",
              "4              1566  "
            ],
            "text/html": [
              "\n",
              "  <div id=\"df-7c2f0fcd-4cde-4a07-9840-ec99527188b2\" class=\"colab-df-container\">\n",
              "    <div>\n",
              "<style scoped>\n",
              "    .dataframe tbody tr th:only-of-type {\n",
              "        vertical-align: middle;\n",
              "    }\n",
              "\n",
              "    .dataframe tbody tr th {\n",
              "        vertical-align: top;\n",
              "    }\n",
              "\n",
              "    .dataframe thead th {\n",
              "        text-align: right;\n",
              "    }\n",
              "</style>\n",
              "<table border=\"1\" class=\"dataframe\">\n",
              "  <thead>\n",
              "    <tr style=\"text-align: right;\">\n",
              "      <th></th>\n",
              "      <th>articleID</th>\n",
              "      <th>byline</th>\n",
              "      <th>documentType</th>\n",
              "      <th>headline</th>\n",
              "      <th>keywords</th>\n",
              "      <th>multimedia</th>\n",
              "      <th>newDesk</th>\n",
              "      <th>printPage</th>\n",
              "      <th>pubDate</th>\n",
              "      <th>sectionName</th>\n",
              "      <th>snippet</th>\n",
              "      <th>source</th>\n",
              "      <th>typeOfMaterial</th>\n",
              "      <th>webURL</th>\n",
              "      <th>articleWordCount</th>\n",
              "    </tr>\n",
              "  </thead>\n",
              "  <tbody>\n",
              "    <tr>\n",
              "      <th>0</th>\n",
              "      <td>5a974697410cf7000162e8a4</td>\n",
              "      <td>By BINYAMIN APPELBAUM</td>\n",
              "      <td>article</td>\n",
              "      <td>Virtual Coins, Real Resources</td>\n",
              "      <td>['Bitcoin (Currency)', 'Electric Light and Pow...</td>\n",
              "      <td>1</td>\n",
              "      <td>Business</td>\n",
              "      <td>1</td>\n",
              "      <td>01-03-2018 00:17</td>\n",
              "      <td>Economy</td>\n",
              "      <td>America has a productivity problem. One explan...</td>\n",
              "      <td>The New York Times</td>\n",
              "      <td>News</td>\n",
              "      <td>https://www.nytimes.com/2018/02/28/business/ec...</td>\n",
              "      <td>1207</td>\n",
              "    </tr>\n",
              "    <tr>\n",
              "      <th>1</th>\n",
              "      <td>5a974be7410cf7000162e8af</td>\n",
              "      <td>By HELENE COOPER and ERIC SCHMITT</td>\n",
              "      <td>article</td>\n",
              "      <td>U.S. Advances Military Plans for North Korea</td>\n",
              "      <td>['United States Defense and Military Forces', ...</td>\n",
              "      <td>1</td>\n",
              "      <td>Washington</td>\n",
              "      <td>11</td>\n",
              "      <td>01-03-2018 00:40</td>\n",
              "      <td>Asia Pacific</td>\n",
              "      <td>The American military is looking at everything...</td>\n",
              "      <td>The New York Times</td>\n",
              "      <td>News</td>\n",
              "      <td>https://www.nytimes.com/2018/02/28/world/asia/...</td>\n",
              "      <td>1215</td>\n",
              "    </tr>\n",
              "    <tr>\n",
              "      <th>2</th>\n",
              "      <td>5a9752a2410cf7000162e8ba</td>\n",
              "      <td>By THE EDITORIAL BOARD</td>\n",
              "      <td>article</td>\n",
              "      <td>Mr. Trump and the ‘Very Bad Judge’</td>\n",
              "      <td>['Trump, Donald J', 'Curiel, Gonzalo P', 'Unit...</td>\n",
              "      <td>1</td>\n",
              "      <td>Editorial</td>\n",
              "      <td>26</td>\n",
              "      <td>01-03-2018 01:08</td>\n",
              "      <td>Unknown</td>\n",
              "      <td>Can you guess which man is the model public se...</td>\n",
              "      <td>The New York Times</td>\n",
              "      <td>Editorial</td>\n",
              "      <td>https://www.nytimes.com/2018/02/28/opinion/tru...</td>\n",
              "      <td>1043</td>\n",
              "    </tr>\n",
              "    <tr>\n",
              "      <th>3</th>\n",
              "      <td>5a975310410cf7000162e8bd</td>\n",
              "      <td>By JAVIER C. HERNÁNDEZ</td>\n",
              "      <td>article</td>\n",
              "      <td>To Erase Dissent, China Bans Pooh Bear and ‘N’</td>\n",
              "      <td>['China', 'Xi Jinping', 'Term Limits (Politica...</td>\n",
              "      <td>1</td>\n",
              "      <td>Foreign</td>\n",
              "      <td>1</td>\n",
              "      <td>01-03-2018 01:10</td>\n",
              "      <td>Asia Pacific</td>\n",
              "      <td>Censors swung into action after Mr. Xi’s bid t...</td>\n",
              "      <td>The New York Times</td>\n",
              "      <td>News</td>\n",
              "      <td>https://www.nytimes.com/2018/02/28/world/asia/...</td>\n",
              "      <td>1315</td>\n",
              "    </tr>\n",
              "    <tr>\n",
              "      <th>4</th>\n",
              "      <td>5a975406410cf7000162e8c3</td>\n",
              "      <td>By JESSE DRUCKER, KATE KELLY and BEN PROTESS</td>\n",
              "      <td>article</td>\n",
              "      <td>Loans Flowed to Kushner Cos. After Visits to t...</td>\n",
              "      <td>['Kushner, Jared', 'Kushner Cos', 'United Stat...</td>\n",
              "      <td>1</td>\n",
              "      <td>Business</td>\n",
              "      <td>1</td>\n",
              "      <td>01-03-2018 01:14</td>\n",
              "      <td>Unknown</td>\n",
              "      <td>Apollo, the private equity firm, and Citigroup...</td>\n",
              "      <td>The New York Times</td>\n",
              "      <td>News</td>\n",
              "      <td>https://www.nytimes.com/2018/02/28/business/ja...</td>\n",
              "      <td>1566</td>\n",
              "    </tr>\n",
              "  </tbody>\n",
              "</table>\n",
              "</div>\n",
              "    <div class=\"colab-df-buttons\">\n",
              "\n",
              "  <div class=\"colab-df-container\">\n",
              "    <button class=\"colab-df-convert\" onclick=\"convertToInteractive('df-7c2f0fcd-4cde-4a07-9840-ec99527188b2')\"\n",
              "            title=\"Convert this dataframe to an interactive table.\"\n",
              "            style=\"display:none;\">\n",
              "\n",
              "  <svg xmlns=\"http://www.w3.org/2000/svg\" height=\"24px\" viewBox=\"0 -960 960 960\">\n",
              "    <path d=\"M120-120v-720h720v720H120Zm60-500h600v-160H180v160Zm220 220h160v-160H400v160Zm0 220h160v-160H400v160ZM180-400h160v-160H180v160Zm440 0h160v-160H620v160ZM180-180h160v-160H180v160Zm440 0h160v-160H620v160Z\"/>\n",
              "  </svg>\n",
              "    </button>\n",
              "\n",
              "  <style>\n",
              "    .colab-df-container {\n",
              "      display:flex;\n",
              "      gap: 12px;\n",
              "    }\n",
              "\n",
              "    .colab-df-convert {\n",
              "      background-color: #E8F0FE;\n",
              "      border: none;\n",
              "      border-radius: 50%;\n",
              "      cursor: pointer;\n",
              "      display: none;\n",
              "      fill: #1967D2;\n",
              "      height: 32px;\n",
              "      padding: 0 0 0 0;\n",
              "      width: 32px;\n",
              "    }\n",
              "\n",
              "    .colab-df-convert:hover {\n",
              "      background-color: #E2EBFA;\n",
              "      box-shadow: 0px 1px 2px rgba(60, 64, 67, 0.3), 0px 1px 3px 1px rgba(60, 64, 67, 0.15);\n",
              "      fill: #174EA6;\n",
              "    }\n",
              "\n",
              "    .colab-df-buttons div {\n",
              "      margin-bottom: 4px;\n",
              "    }\n",
              "\n",
              "    [theme=dark] .colab-df-convert {\n",
              "      background-color: #3B4455;\n",
              "      fill: #D2E3FC;\n",
              "    }\n",
              "\n",
              "    [theme=dark] .colab-df-convert:hover {\n",
              "      background-color: #434B5C;\n",
              "      box-shadow: 0px 1px 3px 1px rgba(0, 0, 0, 0.15);\n",
              "      filter: drop-shadow(0px 1px 2px rgba(0, 0, 0, 0.3));\n",
              "      fill: #FFFFFF;\n",
              "    }\n",
              "  </style>\n",
              "\n",
              "    <script>\n",
              "      const buttonEl =\n",
              "        document.querySelector('#df-7c2f0fcd-4cde-4a07-9840-ec99527188b2 button.colab-df-convert');\n",
              "      buttonEl.style.display =\n",
              "        google.colab.kernel.accessAllowed ? 'block' : 'none';\n",
              "\n",
              "      async function convertToInteractive(key) {\n",
              "        const element = document.querySelector('#df-7c2f0fcd-4cde-4a07-9840-ec99527188b2');\n",
              "        const dataTable =\n",
              "          await google.colab.kernel.invokeFunction('convertToInteractive',\n",
              "                                                    [key], {});\n",
              "        if (!dataTable) return;\n",
              "\n",
              "        const docLinkHtml = 'Like what you see? Visit the ' +\n",
              "          '<a target=\"_blank\" href=https://colab.research.google.com/notebooks/data_table.ipynb>data table notebook</a>'\n",
              "          + ' to learn more about interactive tables.';\n",
              "        element.innerHTML = '';\n",
              "        dataTable['output_type'] = 'display_data';\n",
              "        await google.colab.output.renderOutput(dataTable, element);\n",
              "        const docLink = document.createElement('div');\n",
              "        docLink.innerHTML = docLinkHtml;\n",
              "        element.appendChild(docLink);\n",
              "      }\n",
              "    </script>\n",
              "  </div>\n",
              "\n",
              "\n",
              "<div id=\"df-3aef5e41-df0a-483d-aa76-f3c395552251\">\n",
              "  <button class=\"colab-df-quickchart\" onclick=\"quickchart('df-3aef5e41-df0a-483d-aa76-f3c395552251')\"\n",
              "            title=\"Suggest charts\"\n",
              "            style=\"display:none;\">\n",
              "\n",
              "<svg xmlns=\"http://www.w3.org/2000/svg\" height=\"24px\"viewBox=\"0 0 24 24\"\n",
              "     width=\"24px\">\n",
              "    <g>\n",
              "        <path d=\"M19 3H5c-1.1 0-2 .9-2 2v14c0 1.1.9 2 2 2h14c1.1 0 2-.9 2-2V5c0-1.1-.9-2-2-2zM9 17H7v-7h2v7zm4 0h-2V7h2v10zm4 0h-2v-4h2v4z\"/>\n",
              "    </g>\n",
              "</svg>\n",
              "  </button>\n",
              "\n",
              "<style>\n",
              "  .colab-df-quickchart {\n",
              "      --bg-color: #E8F0FE;\n",
              "      --fill-color: #1967D2;\n",
              "      --hover-bg-color: #E2EBFA;\n",
              "      --hover-fill-color: #174EA6;\n",
              "      --disabled-fill-color: #AAA;\n",
              "      --disabled-bg-color: #DDD;\n",
              "  }\n",
              "\n",
              "  [theme=dark] .colab-df-quickchart {\n",
              "      --bg-color: #3B4455;\n",
              "      --fill-color: #D2E3FC;\n",
              "      --hover-bg-color: #434B5C;\n",
              "      --hover-fill-color: #FFFFFF;\n",
              "      --disabled-bg-color: #3B4455;\n",
              "      --disabled-fill-color: #666;\n",
              "  }\n",
              "\n",
              "  .colab-df-quickchart {\n",
              "    background-color: var(--bg-color);\n",
              "    border: none;\n",
              "    border-radius: 50%;\n",
              "    cursor: pointer;\n",
              "    display: none;\n",
              "    fill: var(--fill-color);\n",
              "    height: 32px;\n",
              "    padding: 0;\n",
              "    width: 32px;\n",
              "  }\n",
              "\n",
              "  .colab-df-quickchart:hover {\n",
              "    background-color: var(--hover-bg-color);\n",
              "    box-shadow: 0 1px 2px rgba(60, 64, 67, 0.3), 0 1px 3px 1px rgba(60, 64, 67, 0.15);\n",
              "    fill: var(--button-hover-fill-color);\n",
              "  }\n",
              "\n",
              "  .colab-df-quickchart-complete:disabled,\n",
              "  .colab-df-quickchart-complete:disabled:hover {\n",
              "    background-color: var(--disabled-bg-color);\n",
              "    fill: var(--disabled-fill-color);\n",
              "    box-shadow: none;\n",
              "  }\n",
              "\n",
              "  .colab-df-spinner {\n",
              "    border: 2px solid var(--fill-color);\n",
              "    border-color: transparent;\n",
              "    border-bottom-color: var(--fill-color);\n",
              "    animation:\n",
              "      spin 1s steps(1) infinite;\n",
              "  }\n",
              "\n",
              "  @keyframes spin {\n",
              "    0% {\n",
              "      border-color: transparent;\n",
              "      border-bottom-color: var(--fill-color);\n",
              "      border-left-color: var(--fill-color);\n",
              "    }\n",
              "    20% {\n",
              "      border-color: transparent;\n",
              "      border-left-color: var(--fill-color);\n",
              "      border-top-color: var(--fill-color);\n",
              "    }\n",
              "    30% {\n",
              "      border-color: transparent;\n",
              "      border-left-color: var(--fill-color);\n",
              "      border-top-color: var(--fill-color);\n",
              "      border-right-color: var(--fill-color);\n",
              "    }\n",
              "    40% {\n",
              "      border-color: transparent;\n",
              "      border-right-color: var(--fill-color);\n",
              "      border-top-color: var(--fill-color);\n",
              "    }\n",
              "    60% {\n",
              "      border-color: transparent;\n",
              "      border-right-color: var(--fill-color);\n",
              "    }\n",
              "    80% {\n",
              "      border-color: transparent;\n",
              "      border-right-color: var(--fill-color);\n",
              "      border-bottom-color: var(--fill-color);\n",
              "    }\n",
              "    90% {\n",
              "      border-color: transparent;\n",
              "      border-bottom-color: var(--fill-color);\n",
              "    }\n",
              "  }\n",
              "</style>\n",
              "\n",
              "  <script>\n",
              "    async function quickchart(key) {\n",
              "      const quickchartButtonEl =\n",
              "        document.querySelector('#' + key + ' button');\n",
              "      quickchartButtonEl.disabled = true;  // To prevent multiple clicks.\n",
              "      quickchartButtonEl.classList.add('colab-df-spinner');\n",
              "      try {\n",
              "        const charts = await google.colab.kernel.invokeFunction(\n",
              "            'suggestCharts', [key], {});\n",
              "      } catch (error) {\n",
              "        console.error('Error during call to suggestCharts:', error);\n",
              "      }\n",
              "      quickchartButtonEl.classList.remove('colab-df-spinner');\n",
              "      quickchartButtonEl.classList.add('colab-df-quickchart-complete');\n",
              "    }\n",
              "    (() => {\n",
              "      let quickchartButtonEl =\n",
              "        document.querySelector('#df-3aef5e41-df0a-483d-aa76-f3c395552251 button');\n",
              "      quickchartButtonEl.style.display =\n",
              "        google.colab.kernel.accessAllowed ? 'block' : 'none';\n",
              "    })();\n",
              "  </script>\n",
              "</div>\n",
              "\n",
              "    </div>\n",
              "  </div>\n"
            ],
            "application/vnd.google.colaboratory.intrinsic+json": {
              "type": "dataframe",
              "variable_name": "news",
              "summary": "{\n  \"name\": \"news\",\n  \"rows\": 1385,\n  \"fields\": [\n    {\n      \"column\": \"articleID\",\n      \"properties\": {\n        \"dtype\": \"string\",\n        \"num_unique_values\": 1385,\n        \"samples\": [\n          \"5ab96d8c47de81a9012178f2\",\n          \"5a9ebea6410cf7000162f1ad\",\n          \"5a9d56d947de81a90120a42c\"\n        ],\n        \"semantic_type\": \"\",\n        \"description\": \"\"\n      }\n    },\n    {\n      \"column\": \"byline\",\n      \"properties\": {\n        \"dtype\": \"string\",\n        \"num_unique_values\": 783,\n        \"samples\": [\n          \"By MARK LANDLER and JIM TANKERSLEY\",\n          \"By TAMMY La GORCE\",\n          \"By JAN RANSOM\"\n        ],\n        \"semantic_type\": \"\",\n        \"description\": \"\"\n      }\n    },\n    {\n      \"column\": \"documentType\",\n      \"properties\": {\n        \"dtype\": \"category\",\n        \"num_unique_values\": 1,\n        \"samples\": [\n          \"article\"\n        ],\n        \"semantic_type\": \"\",\n        \"description\": \"\"\n      }\n    },\n    {\n      \"column\": \"headline\",\n      \"properties\": {\n        \"dtype\": \"string\",\n        \"num_unique_values\": 1246,\n        \"samples\": [\n          \"Celebrity Challenge to Cuomo  Cites Inequality and the M.T.A.\"\n        ],\n        \"semantic_type\": \"\",\n        \"description\": \"\"\n      }\n    },\n    {\n      \"column\": \"keywords\",\n      \"properties\": {\n        \"dtype\": \"string\",\n        \"num_unique_values\": 1237,\n        \"samples\": [\n          \"['United States Politics and Government', 'China', 'International Trade and World Market', 'Trump, Donald J', 'Lighthizer, Robert E', 'Customs (Tariff)']\"\n        ],\n        \"semantic_type\": \"\",\n        \"description\": \"\"\n      }\n    },\n    {\n      \"column\": \"multimedia\",\n      \"properties\": {\n        \"dtype\": \"number\",\n        \"std\": 0,\n        \"min\": 0,\n        \"max\": 1,\n        \"num_unique_values\": 2,\n        \"samples\": [\n          0\n        ],\n        \"semantic_type\": \"\",\n        \"description\": \"\"\n      }\n    },\n    {\n      \"column\": \"newDesk\",\n      \"properties\": {\n        \"dtype\": \"category\",\n        \"num_unique_values\": 38,\n        \"samples\": [\n          \"Investigative\"\n        ],\n        \"semantic_type\": \"\",\n        \"description\": \"\"\n      }\n    },\n    {\n      \"column\": \"printPage\",\n      \"properties\": {\n        \"dtype\": \"number\",\n        \"std\": 9,\n        \"min\": 0,\n        \"max\": 115,\n        \"num_unique_values\": 40,\n        \"samples\": [\n          5\n        ],\n        \"semantic_type\": \"\",\n        \"description\": \"\"\n      }\n    },\n    {\n      \"column\": \"pubDate\",\n      \"properties\": {\n        \"dtype\": \"string\",\n        \"num_unique_values\": 1092,\n        \"samples\": [\n          \"14-03-2018 16:49\"\n        ],\n        \"semantic_type\": \"\",\n        \"description\": \"\"\n      }\n    },\n    {\n      \"column\": \"sectionName\",\n      \"properties\": {\n        \"dtype\": \"category\",\n        \"num_unique_values\": 38,\n        \"samples\": [\n          \"Energy & Environment \"\n        ],\n        \"semantic_type\": \"\",\n        \"description\": \"\"\n      }\n    },\n    {\n      \"column\": \"snippet\",\n      \"properties\": {\n        \"dtype\": \"string\",\n        \"num_unique_values\": 1369,\n        \"samples\": [\n          \"As readers turn the page, the portraits undergo an \\u2018interactive\\u2019 transformation that represents the mission of the section.\"\n        ],\n        \"semantic_type\": \"\",\n        \"description\": \"\"\n      }\n    },\n    {\n      \"column\": \"source\",\n      \"properties\": {\n        \"dtype\": \"category\",\n        \"num_unique_values\": 2,\n        \"samples\": [\n          \"International New York Times\"\n        ],\n        \"semantic_type\": \"\",\n        \"description\": \"\"\n      }\n    },\n    {\n      \"column\": \"typeOfMaterial\",\n      \"properties\": {\n        \"dtype\": \"category\",\n        \"num_unique_values\": 8,\n        \"samples\": [\n          \"Editorial\"\n        ],\n        \"semantic_type\": \"\",\n        \"description\": \"\"\n      }\n    },\n    {\n      \"column\": \"webURL\",\n      \"properties\": {\n        \"dtype\": \"string\",\n        \"num_unique_values\": 1385,\n        \"samples\": [\n          \"https://www.nytimes.com/2018/03/26/world/europe/russia-poisoning-expulsions.html\"\n        ],\n        \"semantic_type\": \"\",\n        \"description\": \"\"\n      }\n    },\n    {\n      \"column\": \"articleWordCount\",\n      \"properties\": {\n        \"dtype\": \"number\",\n        \"std\": 785,\n        \"min\": 55,\n        \"max\": 11491,\n        \"num_unique_values\": 944,\n        \"samples\": [\n          970\n        ],\n        \"semantic_type\": \"\",\n        \"description\": \"\"\n      }\n    }\n  ]\n}"
            }
          },
          "metadata": {},
          "execution_count": 4
        }
      ],
      "source": [
        "news = pd.read_csv(\"/content/news-headlines/ArticlesMarch2018.csv\")\n",
        "news.head()"
      ]
    },
    {
      "cell_type": "code",
      "execution_count": 5,
      "id": "number-of-records",
      "metadata": {
        "colab": {
          "base_uri": "https://localhost:8080/"
        },
        "id": "number-of-records",
        "outputId": "c5c631c1-61f7-4f01-c815-e9267c99bc22"
      },
      "outputs": [
        {
          "output_type": "stream",
          "name": "stdout",
          "text": [
            "Number of records:  1385\n",
            "Number of fields:  15\n"
          ]
        }
      ],
      "source": [
        "print(\"Number of records: \", news.shape[0])\n",
        "print(\"Number of fields: \", news.shape[1])"
      ]
    },
    {
      "cell_type": "markdown",
      "id": "qTi7Y7eO_DJJ",
      "metadata": {
        "id": "qTi7Y7eO_DJJ"
      },
      "source": [
        "# Exploratory Data Analysis\n",
        "\n",
        "Exploratory Data Analysis (EDA) involves analyzing the dataset to summarize its main characteristics, often using visual methods.\n",
        "For this dataset, we can explore the distribution of headline lengths, the most common words, and other relevant statistics.\n"
      ]
    },
    {
      "cell_type": "markdown",
      "id": "wuh6SvdrDUiv",
      "metadata": {
        "id": "wuh6SvdrDUiv"
      },
      "source": [
        "### Display the first few records and some basic statistics"
      ]
    },
    {
      "cell_type": "code",
      "execution_count": 6,
      "id": "headlines",
      "metadata": {
        "colab": {
          "base_uri": "https://localhost:8080/"
        },
        "id": "headlines",
        "outputId": "bf815ea6-95fd-4353-83c6-5f70c5c5a086"
      },
      "outputs": [
        {
          "output_type": "stream",
          "name": "stdout",
          "text": [
            "0                        Virtual Coins, Real Resources\n",
            "1         U.S. Advances Military Plans for North Korea\n",
            "2                   Mr. Trump and the ‘Very Bad Judge’\n",
            "3       To Erase Dissent, China Bans Pooh Bear and ‘N’\n",
            "4    Loans Flowed to Kushner Cos. After Visits to t...\n",
            "Name: headline, dtype: object\n",
            "count        1385\n",
            "unique       1246\n",
            "top       Unknown\n",
            "freq          135\n",
            "Name: headline, dtype: object\n"
          ]
        }
      ],
      "source": [
        "print(news['headline'].head())\n",
        "print(news['headline'].describe())"
      ]
    },
    {
      "cell_type": "markdown",
      "id": "data-preprocessing",
      "metadata": {
        "id": "data-preprocessing"
      },
      "source": [
        "# Data Preprocessing\n",
        "\n",
        "Data preprocessing is a crucial step in preparing the data for model training.\n",
        "It includes tasks such as removing unwanted characters, tokenizing the text, and creating sequences of words for model input."
      ]
    },
    {
      "cell_type": "markdown",
      "id": "G0QXaIaZ_ZZf",
      "metadata": {
        "id": "G0QXaIaZ_ZZf"
      },
      "source": [
        "### Data cleaning"
      ]
    },
    {
      "cell_type": "code",
      "execution_count": 7,
      "id": "clean-headlines",
      "metadata": {
        "id": "clean-headlines"
      },
      "outputs": [],
      "source": [
        "news['headline'] = news['headline'].apply(lambda x: x.replace(u'\\xa0',u' '))\n",
        "news['headline'] = news['headline'].apply(lambda x: x.replace('\\u200a',' '))"
      ]
    },
    {
      "cell_type": "markdown",
      "id": "kbeNUL56_p3c",
      "metadata": {
        "id": "kbeNUL56_p3c"
      },
      "source": [
        "### Tokenization"
      ]
    },
    {
      "cell_type": "code",
      "execution_count": 23,
      "id": "tokenizer",
      "metadata": {
        "colab": {
          "base_uri": "https://localhost:8080/"
        },
        "id": "tokenizer",
        "outputId": "c3622c34-3cae-4198-a474-5cf73642aa57"
      },
      "outputs": [
        {
          "output_type": "stream",
          "name": "stdout",
          "text": [
            "Total number of words:  3693\n",
            "Word: ID\n",
            "------------\n",
            "<oov>:  1\n",
            "Strong:  3069\n",
            "And:  7\n"
          ]
        }
      ],
      "source": [
        "tokenizer = Tokenizer(oov_token='<oov>') # For those words which are not found in word_index\n",
        "tokenizer.fit_on_texts(news['headline'])\n",
        "\n",
        "tokenizer_json = tokenizer.to_json()\n",
        "with open('tokenizer_news_headline.json', 'w') as file:\n",
        "    file.write(tokenizer_json)\n",
        "\n",
        "total_words = len(tokenizer.word_index) + 1\n",
        "\n",
        "print(\"Total number of words: \", total_words)\n",
        "print(\"Word: ID\")\n",
        "print(\"------------\")\n",
        "print(\"<oov>: \", tokenizer.word_index['<oov>'])\n",
        "print(\"Strong: \", tokenizer.word_index['strong'])\n",
        "print(\"And: \", tokenizer.word_index['and'])"
      ]
    },
    {
      "cell_type": "markdown",
      "id": "yzrkz2dS_w63",
      "metadata": {
        "id": "yzrkz2dS_w63"
      },
      "source": [
        "### Creating sequences of words"
      ]
    },
    {
      "cell_type": "code",
      "execution_count": 9,
      "id": "create-sequences",
      "metadata": {
        "colab": {
          "base_uri": "https://localhost:8080/"
        },
        "id": "create-sequences",
        "outputId": "1aa2c9cd-c327-4978-bc7a-cf0b756b7532"
      },
      "outputs": [
        {
          "output_type": "stream",
          "name": "stdout",
          "text": [
            "Total input sequences:  8290\n"
          ]
        }
      ],
      "source": [
        "input_sequences = []\n",
        "for line in news['headline']:\n",
        "    token_list = tokenizer.texts_to_sequences([line])[0]\n",
        "    for i in range(1, len(token_list)):\n",
        "        n_gram_sequence = token_list[:i+1]\n",
        "        input_sequences.append(n_gram_sequence)\n",
        "\n",
        "print(\"Total input sequences: \", len(input_sequences))"
      ]
    },
    {
      "cell_type": "markdown",
      "id": "ha3K91ll__IK",
      "metadata": {
        "id": "ha3K91ll__IK"
      },
      "source": [
        "### Pad sequences"
      ]
    },
    {
      "cell_type": "code",
      "execution_count": 10,
      "id": "pad-sequences",
      "metadata": {
        "colab": {
          "base_uri": "https://localhost:8080/"
        },
        "id": "pad-sequences",
        "outputId": "1afc377b-e8ad-477a-89ab-c1fc35da9c13"
      },
      "outputs": [
        {
          "output_type": "execute_result",
          "data": {
            "text/plain": [
              "array([   0,    0,    0,    0,    0,    0,    0,    0,    0,    0,    0,\n",
              "          0,    0,    0,    0,    0, 1150, 1151,  126], dtype=int32)"
            ]
          },
          "metadata": {},
          "execution_count": 10
        }
      ],
      "source": [
        "max_sequence_len = max([len(x) for x in input_sequences])\n",
        "input_sequences = np.array(pad_sequences(input_sequences, maxlen=max_sequence_len, padding='pre'))\n",
        "input_sequences[1]"
      ]
    },
    {
      "cell_type": "markdown",
      "id": "xKlNLSS6AEgP",
      "metadata": {
        "id": "xKlNLSS6AEgP"
      },
      "source": [
        "### Create features and label"
      ]
    },
    {
      "cell_type": "code",
      "execution_count": 11,
      "id": "create-features-labels",
      "metadata": {
        "id": "create-features-labels"
      },
      "outputs": [],
      "source": [
        "xs, labels = input_sequences[:,:-1],input_sequences[:,-1]\n",
        "ys = tf.keras.utils.to_categorical(labels, num_classes=total_words)"
      ]
    },
    {
      "cell_type": "code",
      "execution_count": 12,
      "id": "print-features-labels",
      "metadata": {
        "colab": {
          "base_uri": "https://localhost:8080/"
        },
        "id": "print-features-labels",
        "outputId": "1aafa7f7-c7be-4c00-84cc-1c578ac857ac"
      },
      "outputs": [
        {
          "output_type": "stream",
          "name": "stdout",
          "text": [
            "[   0    0    0    0    0    0    0    0    0    0    0    0    0    0\n",
            "    0   24   34 1153]\n",
            "614\n",
            "0.0\n"
          ]
        }
      ],
      "source": [
        "print(xs[5])\n",
        "print(labels[5])\n",
        "print(ys[5][14])"
      ]
    },
    {
      "cell_type": "markdown",
      "id": "model-implementation",
      "metadata": {
        "id": "model-implementation"
      },
      "source": [
        "# Model Implementation\n",
        "\n",
        "In this section, we implement the model for next-word prediction.\n",
        "We use a Bidirectional LSTM model with an Embedding layer and a Dense layer with a softmax activation function."
      ]
    },
    {
      "cell_type": "markdown",
      "id": "uyjhrGvmAS6z",
      "metadata": {
        "id": "uyjhrGvmAS6z"
      },
      "source": [
        "### Define the model"
      ]
    },
    {
      "cell_type": "code",
      "execution_count": 13,
      "id": "define-model",
      "metadata": {
        "id": "define-model"
      },
      "outputs": [],
      "source": [
        "model = Sequential()\n",
        "model.add(Embedding(total_words, 100, input_length=max_sequence_len-1))\n",
        "model.add(Bidirectional(LSTM(150)))\n",
        "model.add(Dense(total_words, activation='softmax'))"
      ]
    },
    {
      "cell_type": "markdown",
      "id": "wPoe0MrIAczG",
      "metadata": {
        "id": "wPoe0MrIAczG"
      },
      "source": [
        "### Compile the model"
      ]
    },
    {
      "cell_type": "code",
      "execution_count": 14,
      "id": "kj1XDIicAb58",
      "metadata": {
        "colab": {
          "base_uri": "https://localhost:8080/"
        },
        "id": "kj1XDIicAb58",
        "outputId": "4518acd9-aa62-41b5-f90b-cf34ca398ecf"
      },
      "outputs": [
        {
          "output_type": "stream",
          "name": "stdout",
          "text": [
            "Model: \"sequential\"\n",
            "_________________________________________________________________\n",
            " Layer (type)                Output Shape              Param #   \n",
            "=================================================================\n",
            " embedding (Embedding)       (None, 18, 100)           369300    \n",
            "                                                                 \n",
            " bidirectional (Bidirection  (None, 300)               301200    \n",
            " al)                                                             \n",
            "                                                                 \n",
            " dense (Dense)               (None, 3693)              1111593   \n",
            "                                                                 \n",
            "=================================================================\n",
            "Total params: 1782093 (6.80 MB)\n",
            "Trainable params: 1782093 (6.80 MB)\n",
            "Non-trainable params: 0 (0.00 Byte)\n",
            "_________________________________________________________________\n",
            "None\n"
          ]
        }
      ],
      "source": [
        "adam = Adam(learning_rate=0.01)\n",
        "model.compile(loss='categorical_crossentropy', optimizer=adam, metrics=['accuracy'])\n",
        "print(model.summary())"
      ]
    },
    {
      "cell_type": "markdown",
      "id": "Kyf1nPvHAiVO",
      "metadata": {
        "id": "Kyf1nPvHAiVO"
      },
      "source": [
        "### Train the model\n",
        "\n"
      ]
    },
    {
      "cell_type": "code",
      "execution_count": 15,
      "id": "train-model",
      "metadata": {
        "colab": {
          "base_uri": "https://localhost:8080/"
        },
        "id": "train-model",
        "outputId": "d3f6cff0-f6fc-4a9e-9c5e-a19267da64d2"
      },
      "outputs": [
        {
          "output_type": "stream",
          "name": "stdout",
          "text": [
            "Epoch 1/50\n",
            "260/260 [==============================] - 25s 52ms/step - loss: 7.7006 - accuracy: 0.0317\n",
            "Epoch 2/50\n",
            "260/260 [==============================] - 4s 14ms/step - loss: 6.7859 - accuracy: 0.0543\n",
            "Epoch 3/50\n",
            "260/260 [==============================] - 3s 12ms/step - loss: 5.7918 - accuracy: 0.1004\n",
            "Epoch 4/50\n",
            "260/260 [==============================] - 3s 11ms/step - loss: 4.4244 - accuracy: 0.1908\n",
            "Epoch 5/50\n",
            "260/260 [==============================] - 2s 9ms/step - loss: 2.9916 - accuracy: 0.3823\n",
            "Epoch 6/50\n",
            "260/260 [==============================] - 2s 10ms/step - loss: 1.9070 - accuracy: 0.5817\n",
            "Epoch 7/50\n",
            "260/260 [==============================] - 3s 12ms/step - loss: 1.3424 - accuracy: 0.6995\n",
            "Epoch 8/50\n",
            "260/260 [==============================] - 2s 8ms/step - loss: 0.8862 - accuracy: 0.8052\n",
            "Epoch 9/50\n",
            "260/260 [==============================] - 2s 9ms/step - loss: 0.5973 - accuracy: 0.8723\n",
            "Epoch 10/50\n",
            "260/260 [==============================] - 2s 9ms/step - loss: 0.5014 - accuracy: 0.8901\n",
            "Epoch 11/50\n",
            "260/260 [==============================] - 2s 8ms/step - loss: 0.4335 - accuracy: 0.9031\n",
            "Epoch 12/50\n",
            "260/260 [==============================] - 3s 10ms/step - loss: 0.3876 - accuracy: 0.9060\n",
            "Epoch 13/50\n",
            "260/260 [==============================] - 2s 9ms/step - loss: 0.3610 - accuracy: 0.9088\n",
            "Epoch 14/50\n",
            "260/260 [==============================] - 2s 8ms/step - loss: 0.3428 - accuracy: 0.9104\n",
            "Epoch 15/50\n",
            "260/260 [==============================] - 2s 8ms/step - loss: 0.3387 - accuracy: 0.9103\n",
            "Epoch 16/50\n",
            "260/260 [==============================] - 2s 8ms/step - loss: 0.3327 - accuracy: 0.9100\n",
            "Epoch 17/50\n",
            "260/260 [==============================] - 2s 9ms/step - loss: 0.3347 - accuracy: 0.9105\n",
            "Epoch 18/50\n",
            "260/260 [==============================] - 3s 10ms/step - loss: 0.3264 - accuracy: 0.9109\n",
            "Epoch 19/50\n",
            "260/260 [==============================] - 2s 9ms/step - loss: 0.3295 - accuracy: 0.9115\n",
            "Epoch 20/50\n",
            "260/260 [==============================] - 2s 8ms/step - loss: 0.3404 - accuracy: 0.9080\n",
            "Epoch 21/50\n",
            "260/260 [==============================] - 2s 8ms/step - loss: 1.8170 - accuracy: 0.6214\n",
            "Epoch 22/50\n",
            "260/260 [==============================] - 2s 8ms/step - loss: 3.9955 - accuracy: 0.2832\n",
            "Epoch 23/50\n",
            "260/260 [==============================] - 3s 10ms/step - loss: 1.8652 - accuracy: 0.5621\n",
            "Epoch 24/50\n",
            "260/260 [==============================] - 2s 8ms/step - loss: 1.0553 - accuracy: 0.7391\n",
            "Epoch 25/50\n",
            "260/260 [==============================] - 2s 8ms/step - loss: 0.6473 - accuracy: 0.8492\n",
            "Epoch 26/50\n",
            "260/260 [==============================] - 2s 8ms/step - loss: 0.5063 - accuracy: 0.8848\n",
            "Epoch 27/50\n",
            "260/260 [==============================] - 2s 8ms/step - loss: 0.4145 - accuracy: 0.9058\n",
            "Epoch 28/50\n",
            "260/260 [==============================] - 2s 8ms/step - loss: 0.3798 - accuracy: 0.9070\n",
            "Epoch 29/50\n",
            "260/260 [==============================] - 3s 10ms/step - loss: 0.3627 - accuracy: 0.9105\n",
            "Epoch 30/50\n",
            "260/260 [==============================] - 2s 8ms/step - loss: 0.3560 - accuracy: 0.9095\n",
            "Epoch 31/50\n",
            "260/260 [==============================] - 2s 9ms/step - loss: 0.3457 - accuracy: 0.9118\n",
            "Epoch 32/50\n",
            "260/260 [==============================] - 2s 8ms/step - loss: 0.3430 - accuracy: 0.9119\n",
            "Epoch 33/50\n",
            "260/260 [==============================] - 2s 8ms/step - loss: 0.3433 - accuracy: 0.9105\n",
            "Epoch 34/50\n",
            "260/260 [==============================] - 3s 11ms/step - loss: 0.3433 - accuracy: 0.9097\n",
            "Epoch 35/50\n",
            "260/260 [==============================] - 3s 12ms/step - loss: 0.3375 - accuracy: 0.9124\n",
            "Epoch 36/50\n",
            "260/260 [==============================] - 2s 8ms/step - loss: 0.3353 - accuracy: 0.9116\n",
            "Epoch 37/50\n",
            "260/260 [==============================] - 2s 8ms/step - loss: 0.3327 - accuracy: 0.9101\n",
            "Epoch 38/50\n",
            "260/260 [==============================] - 2s 8ms/step - loss: 0.3317 - accuracy: 0.9107\n",
            "Epoch 39/50\n",
            "260/260 [==============================] - 2s 8ms/step - loss: 0.3367 - accuracy: 0.9083\n",
            "Epoch 40/50\n",
            "260/260 [==============================] - 3s 10ms/step - loss: 0.5916 - accuracy: 0.8514\n",
            "Epoch 41/50\n",
            "260/260 [==============================] - 2s 8ms/step - loss: 3.7939 - accuracy: 0.3172\n",
            "Epoch 42/50\n",
            "260/260 [==============================] - 2s 8ms/step - loss: 2.2548 - accuracy: 0.5130\n",
            "Epoch 43/50\n",
            "260/260 [==============================] - 2s 8ms/step - loss: 1.1407 - accuracy: 0.7180\n",
            "Epoch 44/50\n",
            "260/260 [==============================] - 2s 8ms/step - loss: 0.7000 - accuracy: 0.8315\n",
            "Epoch 45/50\n",
            "260/260 [==============================] - 2s 9ms/step - loss: 0.5093 - accuracy: 0.8803\n",
            "Epoch 46/50\n",
            "260/260 [==============================] - 2s 9ms/step - loss: 0.4253 - accuracy: 0.9002\n",
            "Epoch 47/50\n",
            "260/260 [==============================] - 2s 8ms/step - loss: 0.3845 - accuracy: 0.9087\n",
            "Epoch 48/50\n",
            "260/260 [==============================] - 2s 8ms/step - loss: 0.3714 - accuracy: 0.9078\n",
            "Epoch 49/50\n",
            "260/260 [==============================] - 2s 8ms/step - loss: 0.3538 - accuracy: 0.9115\n",
            "Epoch 50/50\n",
            "260/260 [==============================] - 2s 8ms/step - loss: 0.3535 - accuracy: 0.9089\n"
          ]
        }
      ],
      "source": [
        "history = model.fit(xs, ys, epochs=50, verbose=1)"
      ]
    },
    {
      "cell_type": "markdown",
      "id": "model-evaluation",
      "metadata": {
        "id": "model-evaluation"
      },
      "source": [
        "# Model Evaluation and Discussion\n",
        "\n",
        "Model evaluation involves assessing the performance of the model on the training data.\n",
        "We use accuracy and loss metrics to evaluate the model during training.\n",
        "We also visualize the training progress using plots.."
      ]
    },
    {
      "cell_type": "code",
      "execution_count": 16,
      "id": "hMP8zBeaA4ZI",
      "metadata": {
        "id": "hMP8zBeaA4ZI"
      },
      "outputs": [],
      "source": [
        "import matplotlib.pyplot as plt"
      ]
    },
    {
      "cell_type": "code",
      "execution_count": 17,
      "id": "aX-rRoXLA6tv",
      "metadata": {
        "id": "aX-rRoXLA6tv"
      },
      "outputs": [],
      "source": [
        "def plot_graphs(history, string):\n",
        "    plt.plot(history.history[string])\n",
        "    plt.xlabel(\"Epochs\")\n",
        "    plt.ylabel(string)\n",
        "    plt.show()"
      ]
    },
    {
      "cell_type": "code",
      "execution_count": 18,
      "id": "hKQZNBXFA8_M",
      "metadata": {
        "id": "hKQZNBXFA8_M",
        "colab": {
          "base_uri": "https://localhost:8080/",
          "height": 884
        },
        "outputId": "9910ca4c-8448-4eea-90ac-2adb0106ecc8"
      },
      "outputs": [
        {
          "output_type": "display_data",
          "data": {
            "text/plain": [
              "<Figure size 640x480 with 1 Axes>"
            ],
            "image/png": "[encoded data removed]"
          },
          "metadata": {}
        },
        {
          "output_type": "display_data",
          "data": {
            "text/plain": [
              "<Figure size 640x480 with 1 Axes>"
            ],
            "image/png": "[encoded data removed]"
          },
          "metadata": {}
        }
      ],
      "source": [
        "plot_graphs(history, 'accuracy')\n",
        "plot_graphs(history, 'loss')"
      ]
    },
    {
      "cell_type": "markdown",
      "id": "EQYnyoo3BJ1U",
      "metadata": {
        "id": "EQYnyoo3BJ1U"
      },
      "source": [
        "# Conclusion\n",
        "\n",
        "In this project, we developed a next-word prediction model using a Bidirectional LSTM.\n",
        "The model was trained on a dataset of news headlines, and we evaluated its performance using accuracy and loss metrics.\n",
        "The results indicate that the model is capable of predicting the next word in a given sequence with reasonable accuracy.\n",
        "Further improvements could include experimenting with different model architectures and hyperparameters, and training on a larger dataset."
      ]
    },
    {
      "cell_type": "markdown",
      "id": "9p4Jr12EBSFo",
      "metadata": {
        "id": "9p4Jr12EBSFo"
      },
      "source": [
        "# References\n",
        "\n",
        "1. Brownlee, J. (2017). Deep Learning for Natural Language Processing.\n",
        "2. Hochreiter, S., & Schmidhuber, J. (1997). Long Short-Term Memory. Neural Computation, 9(8), 1735-1780.\n",
        "3. Vaswani, A., et al. (2017). Attention Is All You Need. Advances in Neural Information Processing Systems."
      ]
    },
    {
      "cell_type": "markdown",
      "id": "VvAOUkYtBeJ-",
      "metadata": {
        "id": "VvAOUkYtBeJ-"
      },
      "source": [
        "### Saving the model"
      ]
    },
    {
      "cell_type": "code",
      "execution_count": 19,
      "id": "omiA8rpiBgSP",
      "metadata": {
        "id": "omiA8rpiBgSP",
        "colab": {
          "base_uri": "https://localhost:8080/"
        },
        "outputId": "dc838d30-4422-4ccc-8753-8f01722362b1"
      },
      "outputs": [
        {
          "output_type": "stream",
          "name": "stderr",
          "text": [
            "/usr/local/lib/python3.10/dist-packages/keras/src/engine/training.py:3103: UserWarning: You are saving your model as an HDF5 file via `model.save()`. This file format is considered legacy. We recommend using instead the native Keras format, e.g. `model.save('my_model.keras')`.\n",
            "  saving_api.save_model(\n"
          ]
        }
      ],
      "source": [
        "model.save(\"next_word_prediction_model_news_headline.h5\")\n",
        "model.save(\"next_word_prediction_model_news_headline.keras\")"
      ]
    },
    {
      "cell_type": "markdown",
      "id": "W2N-hzXrBk_3",
      "metadata": {
        "id": "W2N-hzXrBk_3"
      },
      "source": [
        "### Text Generation Function\n",
        "\n",
        "This function takes a seed text and generates the next words based on the trained model."
      ]
    },
    {
      "cell_type": "code",
      "execution_count": 20,
      "id": "evaluate-model",
      "metadata": {
        "id": "evaluate-model"
      },
      "outputs": [],
      "source": [
        "def generate_text(model, tokenizer, seed_text, max_sequence_len, next_words):\n",
        "    for _ in range(next_words):\n",
        "        token_list = tokenizer.texts_to_sequences([seed_text])[0]\n",
        "        token_list = pad_sequences([token_list], maxlen=max_sequence_len - 1, padding='pre')\n",
        "        predicted = model.predict(token_list, verbose=0)\n",
        "        predicted = np.argmax(predicted, axis=1)\n",
        "        output_word = \"\"\n",
        "        for word, index in tokenizer.word_index.items():\n",
        "            if index == predicted:\n",
        "                output_word = word\n",
        "                break\n",
        "        seed_text += \" \" + output_word\n",
        "    return seed_text"
      ]
    },
    {
      "cell_type": "markdown",
      "id": "conclusion",
      "metadata": {
        "id": "conclusion"
      },
      "source": [
        "### Example usage"
      ]
    },
    {
      "cell_type": "code",
      "execution_count": 21,
      "id": "HtV9tIitB0Wn",
      "metadata": {
        "id": "HtV9tIitB0Wn",
        "colab": {
          "base_uri": "https://localhost:8080/"
        },
        "outputId": "c6c4ef9d-0f4e-4930-a4e3-c8c21dd24317"
      },
      "outputs": [
        {
          "output_type": "stream",
          "name": "stdout",
          "text": [
            "I am part of a great moment’\n"
          ]
        }
      ],
      "source": [
        "seed_text = \"I am\"\n",
        "next_words = 5\n",
        "generated_text = generate_text(model, tokenizer, seed_text, max_sequence_len, next_words)\n",
        "print(generated_text)"
      ]
    },
    {
      "cell_type": "code",
      "source": [
        "!pip install keras tensorflow"
      ],
      "metadata": {
        "colab": {
          "base_uri": "https://localhost:8080/"
        },
        "id": "sw17k_GL5lZI",
        "outputId": "e739036b-9a64-45fa-c8b3-2596c8e43992"
      },
      "id": "sw17k_GL5lZI",
      "execution_count": 22,
      "outputs": [
        {
          "output_type": "stream",
          "name": "stdout",
          "text": [
            "Requirement already satisfied: keras in /usr/local/lib/python3.10/dist-packages (2.15.0)\n",
            "Requirement already satisfied: tensorflow in /usr/local/lib/python3.10/dist-packages (2.15.0)\n",
            "Requirement already satisfied: absl-py>=1.0.0 in /usr/local/lib/python3.10/dist-packages (from tensorflow) (1.4.0)\n",
            "Requirement already satisfied: astunparse>=1.6.0 in /usr/local/lib/python3.10/dist-packages (from tensorflow) (1.6.3)\n",
            "Requirement already satisfied: flatbuffers>=23.5.26 in /usr/local/lib/python3.10/dist-packages (from tensorflow) (24.3.25)\n",
            "Requirement already satisfied: gast!=0.5.0,!=0.5.1,!=0.5.2,>=0.2.1 in /usr/local/lib/python3.10/dist-packages (from tensorflow) (0.5.4)\n",
            "Requirement already satisfied: google-pasta>=0.1.1 in /usr/local/lib/python3.10/dist-packages (from tensorflow) (0.2.0)\n",
            "Requirement already satisfied: h5py>=2.9.0 in /usr/local/lib/python3.10/dist-packages (from tensorflow) (3.9.0)\n",
            "Requirement already satisfied: libclang>=13.0.0 in /usr/local/lib/python3.10/dist-packages (from tensorflow) (18.1.1)\n",
            "Requirement already satisfied: ml-dtypes~=0.2.0 in /usr/local/lib/python3.10/dist-packages (from tensorflow) (0.2.0)\n",
            "Requirement already satisfied: numpy<2.0.0,>=1.23.5 in /usr/local/lib/python3.10/dist-packages (from tensorflow) (1.25.2)\n",
            "Requirement already satisfied: opt-einsum>=2.3.2 in /usr/local/lib/python3.10/dist-packages (from tensorflow) (3.3.0)\n",
            "Requirement already satisfied: packaging in /usr/local/lib/python3.10/dist-packages (from tensorflow) (24.1)\n",
            "Requirement already satisfied: protobuf!=4.21.0,!=4.21.1,!=4.21.2,!=4.21.3,!=4.21.4,!=4.21.5,<5.0.0dev,>=3.20.3 in /usr/local/lib/python3.10/dist-packages (from tensorflow) (3.20.3)\n",
            "Requirement already satisfied: setuptools in /usr/local/lib/python3.10/dist-packages (from tensorflow) (67.7.2)\n",
            "Requirement already satisfied: six>=1.12.0 in /usr/local/lib/python3.10/dist-packages (from tensorflow) (1.16.0)\n",
            "Requirement already satisfied: termcolor>=1.1.0 in /usr/local/lib/python3.10/dist-packages (from tensorflow) (2.4.0)\n",
            "Requirement already satisfied: typing-extensions>=3.6.6 in /usr/local/lib/python3.10/dist-packages (from tensorflow) (4.12.2)\n",
            "Requirement already satisfied: wrapt<1.15,>=1.11.0 in /usr/local/lib/python3.10/dist-packages (from tensorflow) (1.14.1)\n",
            "Requirement already satisfied: tensorflow-io-gcs-filesystem>=0.23.1 in /usr/local/lib/python3.10/dist-packages (from tensorflow) (0.37.0)\n",
            "Requirement already satisfied: grpcio<2.0,>=1.24.3 in /usr/local/lib/python3.10/dist-packages (from tensorflow) (1.64.1)\n",
            "Requirement already satisfied: tensorboard<2.16,>=2.15 in /usr/local/lib/python3.10/dist-packages (from tensorflow) (2.15.2)\n",
            "Requirement already satisfied: tensorflow-estimator<2.16,>=2.15.0 in /usr/local/lib/python3.10/dist-packages (from tensorflow) (2.15.0)\n",
            "Requirement already satisfied: wheel<1.0,>=0.23.0 in /usr/local/lib/python3.10/dist-packages (from astunparse>=1.6.0->tensorflow) (0.43.0)\n",
            "Requirement already satisfied: google-auth<3,>=1.6.3 in /usr/local/lib/python3.10/dist-packages (from tensorboard<2.16,>=2.15->tensorflow) (2.27.0)\n",
            "Requirement already satisfied: google-auth-oauthlib<2,>=0.5 in /usr/local/lib/python3.10/dist-packages (from tensorboard<2.16,>=2.15->tensorflow) (1.2.0)\n",
            "Requirement already satisfied: markdown>=2.6.8 in /usr/local/lib/python3.10/dist-packages (from tensorboard<2.16,>=2.15->tensorflow) (3.6)\n",
            "Requirement already satisfied: requests<3,>=2.21.0 in /usr/local/lib/python3.10/dist-packages (from tensorboard<2.16,>=2.15->tensorflow) (2.31.0)\n",
            "Requirement already satisfied: tensorboard-data-server<0.8.0,>=0.7.0 in /usr/local/lib/python3.10/dist-packages (from tensorboard<2.16,>=2.15->tensorflow) (0.7.2)\n",
            "Requirement already satisfied: werkzeug>=1.0.1 in /usr/local/lib/python3.10/dist-packages (from tensorboard<2.16,>=2.15->tensorflow) (3.0.3)\n",
            "Requirement already satisfied: cachetools<6.0,>=2.0.0 in /usr/local/lib/python3.10/dist-packages (from google-auth<3,>=1.6.3->tensorboard<2.16,>=2.15->tensorflow) (5.3.3)\n",
            "Requirement already satisfied: pyasn1-modules>=0.2.1 in /usr/local/lib/python3.10/dist-packages (from google-auth<3,>=1.6.3->tensorboard<2.16,>=2.15->tensorflow) (0.4.0)\n",
            "Requirement already satisfied: rsa<5,>=3.1.4 in /usr/local/lib/python3.10/dist-packages (from google-auth<3,>=1.6.3->tensorboard<2.16,>=2.15->tensorflow) (4.9)\n",
            "Requirement already satisfied: requests-oauthlib>=0.7.0 in /usr/local/lib/python3.10/dist-packages (from google-auth-oauthlib<2,>=0.5->tensorboard<2.16,>=2.15->tensorflow) (1.3.1)\n",
            "Requirement already satisfied: charset-normalizer<4,>=2 in /usr/local/lib/python3.10/dist-packages (from requests<3,>=2.21.0->tensorboard<2.16,>=2.15->tensorflow) (3.3.2)\n",
            "Requirement already satisfied: idna<4,>=2.5 in /usr/local/lib/python3.10/dist-packages (from requests<3,>=2.21.0->tensorboard<2.16,>=2.15->tensorflow) (3.7)\n",
            "Requirement already satisfied: urllib3<3,>=1.21.1 in /usr/local/lib/python3.10/dist-packages (from requests<3,>=2.21.0->tensorboard<2.16,>=2.15->tensorflow) (2.0.7)\n",
            "Requirement already satisfied: certifi>=2017.4.17 in /usr/local/lib/python3.10/dist-packages (from requests<3,>=2.21.0->tensorboard<2.16,>=2.15->tensorflow) (2024.6.2)\n",
            "Requirement already satisfied: MarkupSafe>=2.1.1 in /usr/local/lib/python3.10/dist-packages (from werkzeug>=1.0.1->tensorboard<2.16,>=2.15->tensorflow) (2.1.5)\n",
            "Requirement already satisfied: pyasn1<0.7.0,>=0.4.6 in /usr/local/lib/python3.10/dist-packages (from pyasn1-modules>=0.2.1->google-auth<3,>=1.6.3->tensorboard<2.16,>=2.15->tensorflow) (0.6.0)\n",
            "Requirement already satisfied: oauthlib>=3.0.0 in /usr/local/lib/python3.10/dist-packages (from requests-oauthlib>=0.7.0->google-auth-oauthlib<2,>=0.5->tensorboard<2.16,>=2.15->tensorflow) (3.2.2)\n"
          ]
        }
      ]
    }
  ],
  "metadata": {
    "accelerator": "GPU",
    "colab": {
      "gpuType": "T4",
      "provenance": []
    },
    "kernelspec": {
      "display_name": "Python 3",
      "name": "python3"
    },
    "language_info": {
      "codemirror_mode": {
        "name": "ipython",
        "version": 3
      },
      "file_extension": ".py",
      "mimetype": "text/x-python",
      "name": "python",
      "nbconvert_exporter": "python",
      "pygments_lexer": "ipython3",
      "version": "3.11.5"
    }
  },
  "nbformat": 4,
  "nbformat_minor": 5
}